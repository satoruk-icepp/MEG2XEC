{
  "nbformat": 4,
  "nbformat_minor": 0,
  "metadata": {
    "colab": {
      "name": "MEG2Reg_onnx.ipynb",
      "provenance": [],
      "collapsed_sections": [],
      "machine_shape": "hm",
      "include_colab_link": true
    },
    "kernelspec": {
      "name": "python3",
      "display_name": "Python 3"
    },
    "accelerator": "GPU"
  },
  "cells": [
    {
      "cell_type": "markdown",
      "metadata": {
        "id": "view-in-github",
        "colab_type": "text"
      },
      "source": [
        "<a href=\"https://colab.research.google.com/github/satoruk-icepp/MEG2XEC/blob/master/MEG2Reg_onnx.ipynb\" target=\"_parent\"><img src=\"https://colab.research.google.com/assets/colab-badge.svg\" alt=\"Open In Colab\"/></a>"
      ]
    },
    {
      "cell_type": "code",
      "metadata": {
        "id": "JdCOQWBz1SuB",
        "colab_type": "code",
        "colab": {
          "base_uri": "https://localhost:8080/",
          "height": 34
        },
        "outputId": "58119122-1aa5-4ea6-9425-06c07b8f6d34"
      },
      "source": [
        "from google.colab import drive\n",
        "drive.mount('/content/drive')"
      ],
      "execution_count": 1,
      "outputs": [
        {
          "output_type": "stream",
          "text": [
            "Drive already mounted at /content/drive; to attempt to forcibly remount, call drive.mount(\"/content/drive\", force_remount=True).\n"
          ],
          "name": "stdout"
        }
      ]
    },
    {
      "cell_type": "code",
      "metadata": {
        "id": "UkZmERLgEDe2",
        "colab_type": "code",
        "colab": {
          "base_uri": "https://localhost:8080/",
          "height": 34
        },
        "outputId": "7aeae416-31f7-466a-9442-419c6f058ca6"
      },
      "source": [
        "%%writefile .comet.config\n",
        "[comet]\n",
        "api_key=mIel5ZAPOioTs0Cij75dSSQXs\n",
        "logging_file = /tmp/comet.log\n",
        "logging_file_level = info\n"
      ],
      "execution_count": 2,
      "outputs": [
        {
          "output_type": "stream",
          "text": [
            "Overwriting .comet.config\n"
          ],
          "name": "stdout"
        }
      ]
    },
    {
      "cell_type": "code",
      "metadata": {
        "id": "uIeCSaaMLuiR",
        "colab_type": "code",
        "colab": {
          "base_uri": "https://localhost:8080/",
          "height": 513
        },
        "outputId": "9cd89631-dd68-4ed1-b52e-6606c995a7b2"
      },
      "source": [
        "! [ ! -z \"$COLAB_GPU\" ] && pip install skorch comet_ml\n",
        "!pip install uproot"
      ],
      "execution_count": 3,
      "outputs": [
        {
          "output_type": "stream",
          "text": [
            "Requirement already satisfied: skorch in /usr/local/lib/python3.6/dist-packages (0.9.0)\n",
            "Requirement already satisfied: comet_ml in /usr/local/lib/python3.6/dist-packages (3.2.2)\n",
            "Requirement already satisfied: tabulate>=0.7.7 in /usr/local/lib/python3.6/dist-packages (from skorch) (0.8.7)\n",
            "Requirement already satisfied: numpy>=1.13.3 in /usr/local/lib/python3.6/dist-packages (from skorch) (1.18.5)\n",
            "Requirement already satisfied: scipy>=1.1.0 in /usr/local/lib/python3.6/dist-packages (from skorch) (1.4.1)\n",
            "Requirement already satisfied: scikit-learn>=0.19.1 in /usr/local/lib/python3.6/dist-packages (from skorch) (0.22.2.post1)\n",
            "Requirement already satisfied: tqdm>=4.14.0 in /usr/local/lib/python3.6/dist-packages (from skorch) (4.41.1)\n",
            "Requirement already satisfied: nvidia-ml-py3>=7.352.0 in /usr/local/lib/python3.6/dist-packages (from comet_ml) (7.352.0)\n",
            "Requirement already satisfied: websocket-client>=0.55.0 in /usr/local/lib/python3.6/dist-packages (from comet_ml) (0.57.0)\n",
            "Requirement already satisfied: requests>=2.18.4 in /usr/local/lib/python3.6/dist-packages (from comet_ml) (2.23.0)\n",
            "Requirement already satisfied: wurlitzer>=1.0.2 in /usr/local/lib/python3.6/dist-packages (from comet_ml) (2.0.1)\n",
            "Requirement already satisfied: wrapt>=1.11.2 in /usr/local/lib/python3.6/dist-packages (from comet_ml) (1.12.1)\n",
            "Requirement already satisfied: everett[ini]>=1.0.1; python_version >= \"3.0\" in /usr/local/lib/python3.6/dist-packages (from comet_ml) (1.0.2)\n",
            "Requirement already satisfied: netifaces>=0.10.7 in /usr/local/lib/python3.6/dist-packages (from comet_ml) (0.10.9)\n",
            "Requirement already satisfied: six in /usr/local/lib/python3.6/dist-packages (from comet_ml) (1.15.0)\n",
            "Requirement already satisfied: jsonschema!=3.1.0,>=2.6.0 in /usr/local/lib/python3.6/dist-packages (from comet_ml) (2.6.0)\n",
            "Requirement already satisfied: dulwich>=0.20.6; python_version >= \"3.0\" in /usr/local/lib/python3.6/dist-packages (from comet_ml) (0.20.6)\n",
            "Requirement already satisfied: joblib>=0.11 in /usr/local/lib/python3.6/dist-packages (from scikit-learn>=0.19.1->skorch) (0.16.0)\n",
            "Requirement already satisfied: certifi>=2017.4.17 in /usr/local/lib/python3.6/dist-packages (from requests>=2.18.4->comet_ml) (2020.6.20)\n",
            "Requirement already satisfied: urllib3!=1.25.0,!=1.25.1,<1.26,>=1.21.1 in /usr/local/lib/python3.6/dist-packages (from requests>=2.18.4->comet_ml) (1.24.3)\n",
            "Requirement already satisfied: idna<3,>=2.5 in /usr/local/lib/python3.6/dist-packages (from requests>=2.18.4->comet_ml) (2.10)\n",
            "Requirement already satisfied: chardet<4,>=3.0.2 in /usr/local/lib/python3.6/dist-packages (from requests>=2.18.4->comet_ml) (3.0.4)\n",
            "Requirement already satisfied: configobj; extra == \"ini\" in /usr/local/lib/python3.6/dist-packages (from everett[ini]>=1.0.1; python_version >= \"3.0\"->comet_ml) (5.0.6)\n",
            "Requirement already satisfied: uproot in /usr/local/lib/python3.6/dist-packages (3.12.0)\n",
            "Requirement already satisfied: cachetools in /usr/local/lib/python3.6/dist-packages (from uproot) (4.1.1)\n",
            "Requirement already satisfied: numpy>=1.13.1 in /usr/local/lib/python3.6/dist-packages (from uproot) (1.18.5)\n",
            "Requirement already satisfied: awkward<1.0,>=0.12.0 in /usr/local/lib/python3.6/dist-packages (from uproot) (0.13.0)\n",
            "Requirement already satisfied: uproot-methods>=0.7.0 in /usr/local/lib/python3.6/dist-packages (from uproot) (0.7.4)\n"
          ],
          "name": "stdout"
        }
      ]
    },
    {
      "cell_type": "code",
      "metadata": {
        "id": "WTfFz2Z81Tz3",
        "colab_type": "code",
        "colab": {}
      },
      "source": [
        "from comet_ml import Experiment\n",
        "from comet_ml.exceptions import InterruptedExperiment\n",
        "import time\n",
        "import uproot\n",
        "from datetime import datetime\n",
        "import pandas as pd\n",
        "import numpy as np\n",
        "import math\n",
        "import matplotlib.pyplot as plt\n",
        "from matplotlib.colors import LogNorm\n",
        "import torch\n",
        "import torch.nn as nn\n",
        "import torch.nn.functional as F\n",
        "import torch.utils.data as utils\n",
        "import torch.optim as optim\n",
        "from torch.optim.lr_scheduler import MultiStepLR,StepLR,CyclicLR,CosineAnnealingLR, ReduceLROnPlateau\n",
        "from torch.utils.data.dataset import Subset\n",
        "# from torch.utils.tensorboard import SummaryWriter\n",
        "from torchvision import datasets, transforms\n",
        "from tqdm import tqdm, tqdm_notebook\n",
        "from scipy.optimize import curve_fit"
      ],
      "execution_count": 4,
      "outputs": []
    },
    {
      "cell_type": "code",
      "metadata": {
        "id": "XQq0s7Qdgl44",
        "colab_type": "code",
        "colab": {}
      },
      "source": [
        "import sys\n",
        "sys.path.append('/content/drive/My Drive/PySource/')\n",
        "# from NetworkUtil import ResidualBlock,normal_init,Self_Attn,ResNetBasicBlock,ResNetLayer\n",
        "from NetworkUtil import normal_init,Self_Attn,init_weights\n",
        "from CosineExp import CosineExpLR\n",
        "from InstanceNoise import add_instance_noise\n",
        "from RandomScale import random_scale\n",
        "from Test_Image import Make_Sample\n",
        "# from Regressor_MEG import Regressor_MEG"
      ],
      "execution_count": 5,
      "outputs": []
    },
    {
      "cell_type": "code",
      "metadata": {
        "id": "opEPrKJbzG8A",
        "colab_type": "code",
        "colab": {
          "base_uri": "https://localhost:8080/",
          "height": 51
        },
        "outputId": "44a9ceec-8d54-4acf-f82b-584ae30344e9"
      },
      "source": [
        "experiment = Experiment(project_name=\"CWreg\",log_code=True)\n",
        "curtime = datetime.now().strftime(\"%Y%m%d-%H%M%S\")\n",
        "experiment.set_name(\"%s\"%(curtime))\n",
        "params={'batch_size' : 200,\n",
        "        'train_size':80000,\n",
        "        'val_size':1000,\n",
        "        'dropout_conv':0.3,\n",
        "        'dropout_fc':0.0,\n",
        "        'optim':\"Adam\",\n",
        "        'weight_decay':1e-04,\n",
        "        'Nresblock':5,\n",
        "        'Nsd':0,\n",
        "        'Wthreshold':np.log(0.2+1e-02)/2.5+1,\n",
        "        'ethreshold':0.0,\n",
        "        'weightstd':1e-03,\n",
        "        'Nlayer':16,\n",
        "        'Nfc':0,\n",
        "        'Nfcnodes':128,\n",
        "        'Nepoch':5000,\n",
        "        # 'Nepoch':10,\n",
        "        # 'learning_rate':0.0000001,# for lr_test\n",
        "        # 'LRgamma':10,# for lr_test\n",
        "        # 'stepsize_lr':1, # for lr_test\n",
        "        # \"LRtype\":\"Step\",\n",
        "        'learning_rate':1e-4,\n",
        "        'LRgamma':0.998,\n",
        "        # 'LRgamma':1,\n",
        "        # 'LRgamma':10,\n",
        "        'milestones':[200,400,600,800,1000],\n",
        "        # \"LRtype\":\"MStep\",\n",
        "        # \"LRtype\":\"Cyclic\",\n",
        "        # \"LRtype\":\"CosA\",\n",
        "        \"LRtype\":\"CosExp\",\n",
        "        # \"LRtype\":\"Step\",\n",
        "        # \"LRtype\":\"ROP\",\n",
        "        'noiselevel':1e-05,\n",
        "        # 'stepsize_lr':50,\n",
        "        'stepsize_lr':1,\n",
        "        'stepsize_lr_down':29,\n",
        "        'ene_reg':False,\n",
        "        'pos_reg':True,\n",
        "        'shw_reg':True,\n",
        "        'base_lr':1e-8,# 10 nano\n",
        "        'NphoScale':2e5,\n",
        "        'UVWScale':[40,80,40],\n",
        "        'SHWScale':[200,1,1],\n",
        "        'ShowerLengthThreshold':2,\n",
        "        # 'max_lr':0.005,\n",
        "        'UsePMT':False,\n",
        "        'UseLPF':False,\n",
        "        'DoBlind':False,\n",
        "        'UseBN':True\n",
        "}\n",
        "experiment.log_parameters(params)\n",
        "if params[\"LRgamma\"]>1:\n",
        "    experiment.add_tag(\"LRTest\")\n",
        "if params[\"UseLPF\"]:\n",
        "    experiment.add_tag(\"LPF\")\n",
        "if params[\"pos_reg\"]:\n",
        "    experiment.add_tag(\"Pos\")\n",
        "if params[\"shw_reg\"]:\n",
        "    experiment.add_tag(\"Shw\")"
      ],
      "execution_count": 6,
      "outputs": [
        {
          "output_type": "stream",
          "text": [
            "COMET INFO: Experiment is live on comet.ml https://www.comet.ml/satoruk-icepp/cwreg/0aec6e72e499496483f0d576c350ee24\n",
            "\n"
          ],
          "name": "stderr"
        }
      ]
    },
    {
      "cell_type": "code",
      "metadata": {
        "id": "8hYAOaiY1nWx",
        "colab_type": "code",
        "colab": {}
      },
      "source": [
        "file = uproot.open(\"/content/drive/My Drive/MEG2CW/CWMC.root\")\n",
        "tout = file[\"tout\"]"
      ],
      "execution_count": 7,
      "outputs": []
    },
    {
      "cell_type": "code",
      "metadata": {
        "id": "fUcYFNGQCMT3",
        "colab_type": "code",
        "colab": {}
      },
      "source": [
        "device = torch.device('cuda:0')"
      ],
      "execution_count": 8,
      "outputs": []
    },
    {
      "cell_type": "code",
      "metadata": {
        "id": "0iCD9VPG5UBp",
        "colab_type": "code",
        "colab": {}
      },
      "source": [
        "Energy  = tout.array(\"energy\").reshape(-1,1)\n",
        "EneREC  = tout.array(\"nsum2\").reshape(-1,1)\n",
        "UVW     = tout.array(\"uvw_MC\").reshape(-1,3)\n",
        "DIR     = tout.array(\"gamangle\").reshape(-1,2)\n",
        "SHW     = tout.array(\"shw_vec\").reshape(-1,3)\n",
        "UVWREC  = tout.array(\"uvw_rec\").reshape(-1,3)\n",
        "PMResponse = tout.array(\"Npho\").reshape(-1,4760)"
      ],
      "execution_count": 9,
      "outputs": []
    },
    {
      "cell_type": "code",
      "metadata": {
        "id": "pBXM1qUdRLSE",
        "colab_type": "code",
        "colab": {
          "base_uri": "https://localhost:8080/",
          "height": 34
        },
        "outputId": "a6358d23-452c-4d61-ec16-b524d2e370cf"
      },
      "source": [
        "print(len(Energy))"
      ],
      "execution_count": 10,
      "outputs": [
        {
          "output_type": "stream",
          "text": [
            "86982\n"
          ],
          "name": "stdout"
        }
      ]
    },
    {
      "cell_type": "code",
      "metadata": {
        "id": "owLQceqH9HCt",
        "colab_type": "code",
        "colab": {}
      },
      "source": [
        "# plt.hist(PMResponse.reshape(-1))\n",
        "# plt.yscale(\"log\")\n",
        "# plt.show()"
      ],
      "execution_count": 11,
      "outputs": []
    },
    {
      "cell_type": "code",
      "metadata": {
        "id": "2guyklucOade",
        "colab_type": "code",
        "colab": {
          "base_uri": "https://localhost:8080/",
          "height": 1000
        },
        "outputId": "b87f92cd-860a-40ef-cbc4-0e891973d765"
      },
      "source": [
        "plt.hist(UVW[:,0])\n",
        "plt.show()\n",
        "plt.hist(UVW[:,1])\n",
        "plt.show()\n",
        "plt.hist(UVW[:,2])\n",
        "plt.show()\n",
        "plt.hist(SHW[:,0])\n",
        "plt.show()\n",
        "plt.hist(SHW[:,1])\n",
        "plt.show()\n",
        "plt.hist(SHW[:,2])\n",
        "plt.show()"
      ],
      "execution_count": 12,
      "outputs": [
        {
          "output_type": "display_data",
          "data": {
            "image/png": "[encoded data removed]",
            "text/plain": [
              "<Figure size 432x288 with 1 Axes>"
            ]
          },
          "metadata": {
            "tags": [],
            "needs_background": "light"
          }
        },
        {
          "output_type": "display_data",
          "data": {
            "image/png": "[encoded data removed]",
            "text/plain": [
              "<Figure size 432x288 with 1 Axes>"
            ]
          },
          "metadata": {
            "tags": [],
            "needs_background": "light"
          }
        },
        {
          "output_type": "display_data",
          "data": {
            "image/png": "[encoded data removed]",
            "text/plain": [
              "<Figure size 432x288 with 1 Axes>"
            ]
          },
          "metadata": {
            "tags": [],
            "needs_background": "light"
          }
        },
        {
          "output_type": "display_data",
          "data": {
            "image/png": "[encoded data removed]",
            "text/plain": [
              "<Figure size 432x288 with 1 Axes>"
            ]
          },
          "metadata": {
            "tags": [],
            "needs_background": "light"
          }
        },
        {
          "output_type": "display_data",
          "data": {
            "image/png": "[encoded data removed]",
            "text/plain": [
              "<Figure size 432x288 with 1 Axes>"
            ]
          },
          "metadata": {
            "tags": [],
            "needs_background": "light"
          }
        },
        {
          "output_type": "display_data",
          "data": {
            "image/png": "[encoded data removed]",
            "text/plain": [
              "<Figure size 432x288 with 1 Axes>"
            ]
          },
          "metadata": {
            "tags": [],
            "needs_background": "light"
          }
        }
      ]
    },
    {
      "cell_type": "code",
      "metadata": {
        "id": "KcRFdIMHHwlS",
        "colab_type": "code",
        "colab": {
          "base_uri": "https://localhost:8080/",
          "height": 367
        },
        "outputId": "a768ba3b-e285-4162-8120-865054909f6a"
      },
      "source": [
        "plt.hist(Energy)"
      ],
      "execution_count": 13,
      "outputs": [
        {
          "output_type": "execute_result",
          "data": {
            "text/plain": [
              "(array([1.4200e+02, 2.3000e+01, 4.5900e+02, 9.0700e+02, 2.1930e+03,\n",
              "        7.7970e+03, 1.4828e+04, 6.0183e+04, 4.4400e+02, 6.0000e+00]),\n",
              " array([0.00219533, 0.11516247, 0.22812961, 0.34109676, 0.4540639 ,\n",
              "        0.56703104, 0.67999818, 0.79296532, 0.90593247, 1.01889961,\n",
              "        1.13186675]),\n",
              " <a list of 10 Patch objects>)"
            ]
          },
          "metadata": {
            "tags": []
          },
          "execution_count": 13
        },
        {
          "output_type": "display_data",
          "data": {
            "image/png": "[encoded data removed]",
            "text/plain": [
              "<Figure size 432x288 with 1 Axes>"
            ]
          },
          "metadata": {
            "tags": [],
            "needs_background": "light"
          }
        }
      ]
    },
    {
      "cell_type": "code",
      "metadata": {
        "id": "s4CTRFzkJZ_f",
        "colab_type": "code",
        "colab": {
          "base_uri": "https://localhost:8080/",
          "height": 758
        },
        "outputId": "a775921a-bbd2-4a06-bb96-4a0dbc75ef40"
      },
      "source": [
        "# print()\n",
        "SumPMResponse = np.sum(PMResponse,axis=1)\n",
        "print(Energy.shape)\n",
        "print(SumPMResponse.shape)\n",
        "plt.hist2d(Energy[:,0],SumPMResponse)"
      ],
      "execution_count": 14,
      "outputs": [
        {
          "output_type": "stream",
          "text": [
            "(86982, 1)\n",
            "(86982,)\n"
          ],
          "name": "stdout"
        },
        {
          "output_type": "execute_result",
          "data": {
            "text/plain": [
              "(array([[1.0000e+01, 4.2000e+01, 4.1000e+01, 3.7000e+01, 9.0000e+00,\n",
              "         3.0000e+00, 0.0000e+00, 0.0000e+00, 0.0000e+00, 0.0000e+00],\n",
              "        [1.0000e+00, 9.0000e+00, 6.0000e+00, 4.0000e+00, 3.0000e+00,\n",
              "         0.0000e+00, 0.0000e+00, 0.0000e+00, 0.0000e+00, 0.0000e+00],\n",
              "        [3.0000e+01, 2.9100e+02, 1.3200e+02, 6.0000e+00, 0.0000e+00,\n",
              "         0.0000e+00, 0.0000e+00, 0.0000e+00, 0.0000e+00, 0.0000e+00],\n",
              "        [4.0000e+00, 6.1000e+01, 4.4800e+02, 3.7700e+02, 1.7000e+01,\n",
              "         0.0000e+00, 0.0000e+00, 0.0000e+00, 0.0000e+00, 0.0000e+00],\n",
              "        [1.0000e+00, 1.9000e+01, 1.9500e+02, 8.2400e+02, 1.0830e+03,\n",
              "         7.1000e+01, 0.0000e+00, 0.0000e+00, 0.0000e+00, 0.0000e+00],\n",
              "        [1.0000e+00, 2.0000e+00, 1.3900e+02, 8.5300e+02, 2.7200e+03,\n",
              "         3.7640e+03, 3.1700e+02, 1.0000e+00, 0.0000e+00, 0.0000e+00],\n",
              "        [0.0000e+00, 0.0000e+00, 2.5000e+01, 4.3500e+02, 1.9550e+03,\n",
              "         4.7470e+03, 6.5520e+03, 1.1080e+03, 6.0000e+00, 0.0000e+00],\n",
              "        [0.0000e+00, 0.0000e+00, 5.0000e+00, 1.6600e+02, 1.4470e+03,\n",
              "         6.4030e+03, 1.5329e+04, 2.8984e+04, 7.8480e+03, 1.0000e+00],\n",
              "        [0.0000e+00, 0.0000e+00, 0.0000e+00, 1.0000e+00, 7.0000e+00,\n",
              "         2.6000e+01, 6.7000e+01, 1.5500e+02, 1.6600e+02, 2.2000e+01],\n",
              "        [0.0000e+00, 0.0000e+00, 0.0000e+00, 0.0000e+00, 0.0000e+00,\n",
              "         0.0000e+00, 0.0000e+00, 1.0000e+00, 2.0000e+00, 3.0000e+00]]),\n",
              " array([0.00219533, 0.11516247, 0.22812961, 0.34109676, 0.4540639 ,\n",
              "        0.56703104, 0.67999818, 0.79296532, 0.90593247, 1.01889961,\n",
              "        1.13186675]),\n",
              " array([ 51576.05010176,  85316.30215402, 119056.55420628, 152796.80625854,\n",
              "        186537.05831079, 220277.31036305, 254017.56241531, 287757.81446757,\n",
              "        321498.06651983, 355238.31857209, 388978.57062435]),\n",
              " <matplotlib.collections.QuadMesh at 0x7f86ae638c50>)"
            ]
          },
          "metadata": {
            "tags": []
          },
          "execution_count": 14
        },
        {
          "output_type": "display_data",
          "data": {
            "image/png": "[encoded data removed]",
            "text/plain": [
              "<Figure size 432x288 with 1 Axes>"
            ]
          },
          "metadata": {
            "tags": [],
            "needs_background": "light"
          }
        }
      ]
    },
    {
      "cell_type": "code",
      "metadata": {
        "id": "iUpGkRmH5xUl",
        "colab_type": "code",
        "colab": {
          "base_uri": "https://localhost:8080/",
          "height": 268
        },
        "outputId": "5036f89f-ca15-4d13-f59c-1b4920f74313"
      },
      "source": [
        "Energy     = Energy.reshape(-1,1)\n",
        "EneREC     = EneREC.reshape(-1,1)\n",
        "\n",
        "## Normalization \n",
        "PMResponse = PMResponse/params[\"NphoScale\"]\n",
        "UVW = UVW/params[\"UVWScale\"]\n",
        "SHW = SHW/params[\"SHWScale\"]\n",
        "\n",
        "PMResponse_MPPC,PMResponse_PMT = np.split(PMResponse,[4092],axis=1)\n",
        "PMResponse_MPPC = PMResponse_MPPC.reshape(-1,93,44)\n",
        "\n",
        "plt.imshow(PMResponse_MPPC[0])\n",
        "plt.colorbar()\n",
        "plt.show()\n",
        "\n",
        "COSST = 0.5*np.cos(SHW[:,1]).reshape(-1,1)\n",
        "SINST = 0.5*np.sin(SHW[:,1]).reshape(-1,1)\n",
        "COSSP = 0.5*np.cos(SHW[:,2]).reshape(-1,1)\n",
        "SINSP = 0.5*np.sin(SHW[:,2]).reshape(-1,1)\n",
        "SHW = np.concatenate((SHW[:,0].reshape(-1,1),COSST,SINST,COSSP,SINSP),axis=1)\n",
        "# print(ADD)"
      ],
      "execution_count": 15,
      "outputs": [
        {
          "output_type": "display_data",
          "data": {
            "image/png": "[encoded data removed]",
            "text/plain": [
              "<Figure size 432x288 with 2 Axes>"
            ]
          },
          "metadata": {
            "tags": [],
            "needs_background": "light"
          }
        }
      ]
    },
    {
      "cell_type": "code",
      "metadata": {
        "id": "Jr8qby97dTE-",
        "colab_type": "code",
        "colab": {}
      },
      "source": [
        "# del csv_data_numpy"
      ],
      "execution_count": 16,
      "outputs": []
    },
    {
      "cell_type": "code",
      "metadata": {
        "id": "VBCtjK5S_ro4",
        "colab_type": "code",
        "colab": {}
      },
      "source": [
        "PMResponse = PMResponse.reshape(-1,4760)\n",
        "# PMResponse = PMResponse/PMResponseScale"
      ],
      "execution_count": 17,
      "outputs": []
    },
    {
      "cell_type": "code",
      "metadata": {
        "id": "oU_4kZYGChlC",
        "colab_type": "code",
        "colab": {}
      },
      "source": [
        "Energy        = torch.tensor(Energy).float()\n",
        "EneREC        = torch.tensor(EneREC).float()\n",
        "UVW           = torch.tensor(UVW).float()\n",
        "DIR           = torch.tensor(DIR).float()\n",
        "SHW           = torch.tensor(SHW).float()\n",
        "# ADD           = torch.tensor(ADD).float()\n",
        "UVWREC        = torch.tensor(UVWREC).float()\n",
        "PMResponse    = torch.tensor(PMResponse).float()"
      ],
      "execution_count": 18,
      "outputs": []
    },
    {
      "cell_type": "code",
      "metadata": {
        "id": "iYGwOp69_eMd",
        "colab_type": "code",
        "colab": {
          "base_uri": "https://localhost:8080/",
          "height": 34
        },
        "outputId": "71072224-1ff4-479f-f8b8-4b8340841ee9"
      },
      "source": [
        "# from torch.utils.data.dataset import Subset\n",
        "BATCH_SIZE = params[\"batch_size\"]\n",
        "calo_dataset    = utils.TensorDataset(Energy,EneREC,UVW,UVWREC,DIR,SHW,PMResponse)\n",
        "data_size =  len(calo_dataset)\n",
        "# full_size = int(data_size//1000)*1000\n",
        "# val_size = 500\n",
        "print(data_size)\n",
        "# train_dataset = Subset(calo_dataset,list(range(0,full_size-val_size)))\n",
        "# val_dataset = Subset(calo_dataset,list(range(full_size-val_size,full_size)))\n",
        "train_dataset = Subset(calo_dataset,list(range(0,params[\"train_size\"])))\n",
        "val_dataset = Subset(calo_dataset,list(range(params[\"train_size\"],params[\"train_size\"]+params[\"val_size\"])))\n",
        "train_dataloader = torch.utils.data.DataLoader(train_dataset, \n",
        "                                              batch_size=BATCH_SIZE, \n",
        "                                              pin_memory=True, shuffle=True)\n",
        "val_dataloader = torch.utils.data.DataLoader(val_dataset, \n",
        "                                            #   batch_size=BATCH_SIZE, \n",
        "                                             batch_size=len(val_dataset), \n",
        "                                              pin_memory=True, shuffle=True)\n"
      ],
      "execution_count": 19,
      "outputs": [
        {
          "output_type": "stream",
          "text": [
            "86982\n"
          ],
          "name": "stdout"
        }
      ]
    },
    {
      "cell_type": "code",
      "metadata": {
        "id": "VmH22_Q3AumD",
        "colab_type": "code",
        "colab": {}
      },
      "source": [
        "class Regressor_simple(nn.Module):\n",
        "    def __init__(self, Ndim_out,dropout_conv =0.0,dropout_fc=0.0,Nlayer=32,Nresblock=0,Nfcnodes=128,Ndim_cond=0):\n",
        "        super(Regressor_simple, self).__init__()\n",
        "        self.conv1 = nn.Conv2d(\n",
        "            1, \n",
        "            Nlayer, \n",
        "            kernel_size=(7,6), \n",
        "            stride = (4,4), \n",
        "            padding = (3,3)\n",
        "            )#(93+6,44+6)->24,12\n",
        "        self.conv2 = nn.Conv2d(\n",
        "            self.conv1.out_channels, \n",
        "            self.conv1.out_channels*2, \n",
        "            kernel_size=(4, 4), \n",
        "            stride=(2,2)\n",
        "            ,padding = (1,1)\n",
        "        )#24*12->12*6\n",
        "        self.conv3 = nn.Conv2d(\n",
        "            self.conv2.out_channels, \n",
        "            self.conv2.out_channels*2, \n",
        "            kernel_size=(2, 2), \n",
        "            stride=(2,2)\n",
        "        )#12*6->6*3\n",
        "        self.bn1 = nn.BatchNorm2d(self.conv1.out_channels)\n",
        "        self.bn2 = nn.BatchNorm2d(self.conv2.out_channels)\n",
        "        self.bn3 = nn.BatchNorm2d(self.conv3.out_channels)\n",
        "        Ndim_fcstart = self.conv3.out_channels*18+668\n",
        "        self.fc1 = nn.Linear(Ndim_fcstart,Nfcnodes)\n",
        "        self.fc2 = nn.Linear(self.fc1.out_features,1)\n",
        "        self.dropout1 = nn.Dropout(dropout_conv)\n",
        "        self.dropoutfc = nn.Dropout(dropout_fc)\n",
        "        self.leakyReLU = nn.LeakyReLU(0.1)\n",
        "        \n",
        "    def forward(self, x, condition = None):\n",
        "        x = x.view(x.shape[0],-1)\n",
        "        x_mppc,x_pmt = torch.split(x,4092,dim=1)\n",
        "        # x_mppc = self.MPPCforward(x_mppc)\n",
        "        x_mppc = x_mppc.view(x_mppc.shape[0],1,93,44)\n",
        "        x_mppc = self.leakyReLU(self.dropout1(self.bn1(self.conv1(x_mppc))))\n",
        "        x_mppc = self.leakyReLU(self.dropout1(self.bn2(self.conv2(x_mppc))))\n",
        "        x_mppc = self.leakyReLU(self.dropout1(self.bn3(self.conv3(x_mppc))))\n",
        "        x_mppc = x_mppc.view(x_mppc.shape[0],self.conv3.out_channels*18)\n",
        "        x = torch.cat([x_mppc,x_pmt],dim=1)\n",
        "        x = self.leakyReLU(self.dropoutfc(self.fc1(x)))\n",
        "        x = self.fc2(x)\n",
        "        return torch.tanh(x)\n",
        "        # return x\n",
        "\n",
        "    def weight_init(self, mean, std):\n",
        "        for m in self._modules:\n",
        "            normal_init(self._modules[m], mean, std)\n",
        "    def eval_activate(self):\n",
        "        model.eval()\n",
        "        for m in model.modules():\n",
        "            if isinstance(m, nn.BatchNorm2d) or isinstance(m, nn.BatchNorm1d):\n",
        "                m.track_running_stats=False"
      ],
      "execution_count": 20,
      "outputs": []
    },
    {
      "cell_type": "code",
      "metadata": {
        "id": "2RSJwEAIVsYT",
        "colab_type": "code",
        "colab": {}
      },
      "source": [
        "class Regressor_fc(nn.Module):\n",
        "    def __init__(self, Ndim_out,dropout_conv =0.0,dropout_fc=0.0,Nlayer=32,Nresblock=0,Nfcnodes=128,Ndim_cond=0):\n",
        "        super(Regressor_fc, self).__init__()\n",
        "        self.fc1 = nn.Linear(4760,1)\n",
        "        self.fc2 = nn.Linear(self.fc1.out_features,1)\n",
        "        self.dropoutfc = nn.Dropout(dropout_fc)\n",
        "        self.activation = nn.LeakyReLU(0.1)\n",
        "        \n",
        "    def forward(self, x, condition = None):\n",
        "        x = x.view(x.shape[0],-1)\n",
        "        # x_mppc,x_pmt = torch.split(x,4092,dim=1)\n",
        "        # # x_mppc = self.MPPCforward(x_mppc)\n",
        "        # x_mppc = x_mppc.view(x_mppc.shape[0],1,93,44)\n",
        "        # x_mppc = F.relu(self.dropout1(self.conv1(x_mppc)))\n",
        "        # x_mppc = F.relu(self.dropout1(self.conv2(x_mppc)))\n",
        "        # x_mppc = x_mppc.view(x_mppc.shape[0],self.conv2.out_channels*72)\n",
        "        # x = x_mppc\n",
        "        x = self.activation(self.fc1(x))\n",
        "        x = self.fc2(x)\n",
        "        return torch.tanh(x)\n",
        "        # return x\n",
        "\n",
        "    def weight_init(self, mean, std):\n",
        "        for m in self._modules:\n",
        "            normal_init(self._modules[m], mean, std)\n",
        "    def eval_activate(self):\n",
        "        model.eval()\n",
        "        for m in model.modules():\n",
        "            if isinstance(m, nn.BatchNorm2d) or isinstance(m, nn.BatchNorm1d):\n",
        "                m.track_running_stats=False"
      ],
      "execution_count": 21,
      "outputs": []
    },
    {
      "cell_type": "code",
      "metadata": {
        "id": "lYHrkeby_Xde",
        "colab_type": "code",
        "colab": {
          "base_uri": "https://localhost:8080/",
          "height": 238
        },
        "outputId": "c2e7c056-aba1-4357-8ab1-903f4ddd128d"
      },
      "source": [
        "Ndim_out = 0\n",
        "if params[\"pos_reg\"]:\n",
        "    Ndim_out += 3\n",
        "if params[\"shw_reg\"]:\n",
        "    Ndim_out += 5\n",
        "\n",
        "Ndim_cond = 0\n",
        "if params[\"UseLPF\"]:\n",
        "    Ndim_cond += 3\n",
        "\n",
        "# model = Regressor_MEG(\n",
        "#     Ndim_out,\n",
        "#     params[\"dropout_conv\"],\n",
        "#     params[\"dropout_fc\"],\n",
        "#     params['Nlayer'],\n",
        "#     params['Nresblock'],\n",
        "#     params['Nfcnodes'],\n",
        "#     Ndim_cond\n",
        "#     ).to(device)\n",
        "model = Regressor_simple(\n",
        "    Ndim_out,\n",
        "    params[\"dropout_conv\"],\n",
        "    params[\"dropout_fc\"],\n",
        "    params['Nlayer'],\n",
        "    params['Nresblock'],\n",
        "    params['Nfcnodes'],\n",
        "    Ndim_cond\n",
        "    ).to(device)    \n",
        "# model = Regressor_fc(\n",
        "#     Ndim_out,\n",
        "#     params[\"dropout_conv\"],\n",
        "#     params[\"dropout_fc\"],\n",
        "#     params['Nlayer'],\n",
        "#     params['Nresblock'],\n",
        "#     params['Nfcnodes'],\n",
        "#     Ndim_cond\n",
        "#     ).to(device)    \n",
        "print(model)\n",
        "model.weight_init(mean=0.0, std=params['weightstd'])\n",
        "# model.apply(init_weights)"
      ],
      "execution_count": 22,
      "outputs": [
        {
          "output_type": "stream",
          "text": [
            "Regressor_simple(\n",
            "  (conv1): Conv2d(1, 16, kernel_size=(7, 6), stride=(4, 4), padding=(3, 3))\n",
            "  (conv2): Conv2d(16, 32, kernel_size=(4, 4), stride=(2, 2), padding=(1, 1))\n",
            "  (conv3): Conv2d(32, 64, kernel_size=(2, 2), stride=(2, 2))\n",
            "  (bn1): BatchNorm2d(16, eps=1e-05, momentum=0.1, affine=True, track_running_stats=True)\n",
            "  (bn2): BatchNorm2d(32, eps=1e-05, momentum=0.1, affine=True, track_running_stats=True)\n",
            "  (bn3): BatchNorm2d(64, eps=1e-05, momentum=0.1, affine=True, track_running_stats=True)\n",
            "  (fc1): Linear(in_features=1820, out_features=128, bias=True)\n",
            "  (fc2): Linear(in_features=128, out_features=1, bias=True)\n",
            "  (dropout1): Dropout(p=0.3, inplace=False)\n",
            "  (dropoutfc): Dropout(p=0.0, inplace=False)\n",
            "  (leakyReLU): LeakyReLU(negative_slope=0.1)\n",
            ")\n"
          ],
          "name": "stdout"
        }
      ]
    },
    {
      "cell_type": "code",
      "metadata": {
        "id": "xsT0tiw2Cq0c",
        "colab_type": "code",
        "colab": {}
      },
      "source": [
        "# learning_rate = 0.001\n",
        "# opt = optim.Adam(regressor.parameters(), lr=learning_rate)\n",
        "# opt = optim.Adam(model.parameters(), lr=params[\"learning_rate\"], weight_decay=params[\"weight_decay\"])\n",
        "opt = optim.RMSprop(model.parameters(), lr=params[\"learning_rate\"])\n",
        "# if params[\"LRtype\"]==\"Cyclic\":\n",
        "#     scheduler = CyclicLR(opt, params[\"base_lr\"],params[\"learning_rate\"],\n",
        "#                          step_size_up=params[\"stepsize_lr\"],\n",
        "#                          step_size_down=params[\"stepsize_lr_down\"],\n",
        "#                          cycle_momentum=False,mode=\"exp_range\",gamma = params[\"LRgamma\"])\n",
        "# elif params[\"LRtype\"]==\"MStep\":\n",
        "#     scheduler = MultiStepLR(opt, milestones=params[\"milestones\"], gamma=params[\"LRgamma\"])\n",
        "# elif params[\"LRtype\"]==\"Step\":\n",
        "scheduler = StepLR(opt,step_size=params[\"stepsize_lr\"],gamma=params[\"LRgamma\"])\n",
        "# elif params[\"LRtype\"]==\"CosA\":\n",
        "#     scheduler = CosineAnnealingLR(opt,T_max=params[\"stepsize_lr\"],eta_min=params[\"base_lr\"])\n",
        "# elif params[\"LRtype\"]==\"CosExp\":\n",
        "#     scheduler = CosineExpLR(opt,T_max=params[\"stepsize_lr\"],eta_min=params[\"base_lr\"],gamma = params[\"LRgamma\"])\n",
        "# elif params[\"LRtype\"]==\"ROP\":\n",
        "#     scheduler = ReduceLROnPlateau(opt,mode='min',factor=0.5,patience=params[\"stepsize_lr\"])"
      ],
      "execution_count": 23,
      "outputs": []
    },
    {
      "cell_type": "code",
      "metadata": {
        "id": "VV8n2CduHEg8",
        "colab_type": "code",
        "colab": {}
      },
      "source": [
        "Energy_mean, UVW_mean, DIR_mean,SHW_mean = Energy.mean(dim=0).to(device), UVW.mean(dim=0).to(device), DIR.mean(dim=0).to(device),SHW.mean(dim=0).to(device)\n",
        "UVWE_mean = torch.cat([UVW_mean,Energy_mean]).to(device)\n",
        "UVWESHW_mean = torch.cat([UVW_mean,Energy_mean,SHW_mean]).to(device)\n",
        "UVWDIR_mean = torch.cat([UVW_mean, DIR_mean]).to(device)\n",
        "def metric_relative_mse(y_pred,y_true):\n",
        "    y_true_mean = y_true.mean(dim=0)\n",
        "    # return (((y_true - y_pred).pow(2).mean(dim=0) / (y_true - UVWE_mean).pow(2).mean(dim=0)).sum()).sqrt()\n",
        "    return (((y_true - y_pred).pow(2).mean(dim=0) / (y_true - UVW_mean).pow(2).mean(dim=0)).sum()).sqrt()\n",
        "    # return (((y_true - y_pred).pow(2).mean(dim=0) / (y_true - UVWESHW_mean).pow(2).mean(dim=0)).sum()).sqrt()\n",
        "    # return (((y_true - y_pred).pow(2).mean(dim=0) / (y_true - UVW_mean).pow(2).mean(dim=0)).sum()).sqrt()\n",
        "    # return (((y_true[:,2] - y_pred[:,2]).pow(2).mean(dim=0) / (y_true[:,2] - UVW_mean[2]).pow(2).mean(dim=0)).sum()).sqrt()\n",
        "    # return (((y_true - y_pred).pow(2).mean(dim=0) / (y_true - UVWDIR_mean).pow(2).mean(dim=0)).sum()).sqrt()\n",
        "    # return (((y_true - y_pred).pow(2).mean(dim=0) / (y_true - Energy_mean).pow(2).mean(dim=0)).sum()).sqrt()"
      ],
      "execution_count": 24,
      "outputs": []
    },
    {
      "cell_type": "code",
      "metadata": {
        "id": "Ue2O6r-2D1zZ",
        "colab_type": "code",
        "colab": {}
      },
      "source": [
        "loss_fn = torch.nn.SmoothL1Loss().to(device)\n",
        "# loss_fn = torch.nn.L1Loss().to(device)"
      ],
      "execution_count": 25,
      "outputs": []
    },
    {
      "cell_type": "code",
      "metadata": {
        "id": "MMwUgwjppS-V",
        "colab_type": "code",
        "colab": {}
      },
      "source": [
        "ranges=[2,2,5,5,1,1]\n",
        "names = [\"u\",\"v\",\"w\",\"shwl\",\"shwt\",\"shwp\"]\n",
        "UVWScale = torch.tensor(params[\"UVWScale\"]).to(device)\n",
        "SHWScale = torch.tensor(params[\"SHWScale\"]).to(device)\n",
        "HalfPi = torch.tensor(math.pi/2.).to(device)"
      ],
      "execution_count": 26,
      "outputs": []
    },
    {
      "cell_type": "code",
      "metadata": {
        "id": "c5FtaN-MlUaK",
        "colab_type": "code",
        "colab": {}
      },
      "source": [
        "\n",
        "def Training(epoch):\n",
        "    train_loss_array = []\n",
        "    train_loss_eval_array = []\n",
        "    ibatch = epoch*params[\"train_size\"]/params[\"batch_size\"]\n",
        "    with experiment.train():\n",
        "        for Energy_b, EneREC_b, UVW_b, UVWREC_b, DIR_b, SHW_b,  PMResponse_b in train_dataloader:\n",
        "            # moving them to device(for example, cuda-device)\n",
        "            Energy_b, EneREC_b, UVW_b, UVWREC_b, DIR_b, SHW_b,  PMResponse_b = Energy_b.to(device), \\\n",
        "                                            EneREC_b.to(device), \\\n",
        "                                            UVW_b.to(device), \\\n",
        "                                            UVWREC_b.to(device), \\\n",
        "                                            DIR_b.to(device), \\\n",
        "                                            SHW_b.to(device), \\\n",
        "                                            PMResponse_b.to(device)\n",
        "\n",
        "    #             pred = regressor(EnergyDeposit_b)\n",
        "            # model.train()\n",
        "            # UVWDIR_b = torch.cat([UVW_b,DIR_b],dim=1)\n",
        "            # UVWDIRrec_b = torch.cat([UVWREC_b,DIR_b],dim=1)\n",
        "            # PMResponse_b = add_instance_noise(PMResponse_b,params[\"noiselevel\"],device)\n",
        "            # PMResponse_b = random_scale(PMResponse_b,0.3,device)\n",
        "            pred = model(PMResponse_b)\n",
        "            # print(PMResponse_b.sum(dim=0)[0])\n",
        "            # print(pred)\n",
        "            # if params[\"pos_reg\"] and params[\"shw_reg\"]:\n",
        "            #     TGT_b = torch.cat([UVW_b,SHW_b],dim=1)\n",
        "            # elif params[\"pos_reg\"]:\n",
        "            #     TGT_b = UVW_b\n",
        "            # TGT_b = UVW_b\n",
        "            TGT_b = Energy_b\n",
        "            \n",
        "            loss            = loss_fn(pred, TGT_b)\n",
        "            # pred_shwt = torch.atan2(pred[:,4],pred[:,5]).view(-1,1)\n",
        "            # pred_shwp = torch.atan2(pred[:,6],pred[:,7]).view(-1,1)\n",
        "            # pred = torch.cat([pred[:,:4],pred_shwt,pred_shwp],dim=1)\n",
        "            train_loss_array.append(loss.item())\n",
        "            experiment.log_metric(\"batch_train_loss\",loss.item(),step=ibatch)\n",
        "            # if params[\"LRgamma\"]>1:\n",
        "            #     experiment.log_metric(\"batch_learning_rate\", scheduler.get_lr(),step=ibatch)\n",
        "            #     if scheduler.get_lr()[0]>1:\n",
        "            #         return\n",
        "            #     else:\n",
        "            #         scheduler.step()\n",
        "            opt.zero_grad()\n",
        "            loss.backward()\n",
        "            opt.step()\n",
        "            ibatch=ibatch+1\n",
        "\n",
        "        loss_avg = sum(train_loss_array)/len(train_loss_array)\n",
        "        # loss_eval_avg = sum(train_loss_eval_array)/len(train_loss_eval_array)\n",
        "        # if params[\"LRtype\"] is not \"ROP\":\n",
        "        learning_rate = scheduler.get_last_lr()\n",
        "        scheduler.step()\n",
        "        \n",
        "        # else:\n",
        "            # learning_rate = opt.param_groups[0]['lr']\n",
        "        experiment.log_metric(\"train_loss\",loss_avg ,step=epoch)\n",
        "        # experiment.log_metric(\"train_loss_eval\",loss_eval_avg ,step=epoch)\n",
        "        # experiment.log_metric(\"learning_rate\", scheduler.get_lr(),step=epoch)\n",
        "        experiment.log_metric(\"learning_rate\", learning_rate,step=epoch)\n",
        "        \n",
        "        \n"
      ],
      "execution_count": 27,
      "outputs": []
    },
    {
      "cell_type": "code",
      "metadata": {
        "id": "_zLfNtF9l0C1",
        "colab_type": "code",
        "colab": {}
      },
      "source": [
        "\n",
        "def Validation(epoch):\n",
        "    val_loss_array = []\n",
        "    with experiment.test():\n",
        "        val_loss = 0\n",
        "        for Energy_b, EneREC_b,  UVW_b, UVWREC_b, DIR_b, SHW_b,  PMResponse_b in val_dataloader:\n",
        "            Energy_b, EneREC_b,  UVW_b, UVWREC_b, DIR_b, SHW_b,  PMResponse_b = Energy_b.to(device), \\\n",
        "                                            EneREC_b.to(device), \\\n",
        "                                            UVW_b.to(device), \\\n",
        "                                            UVWREC_b.to(device), \\\n",
        "                                            DIR_b.to(device), \\\n",
        "                                            SHW_b.to(device), \\\n",
        "                                            PMResponse_b.to(device)\n",
        "\n",
        "            \n",
        "            start_time = time.time()\n",
        "            pred = model(PMResponse_b)\n",
        "            \n",
        "            \n",
        "            end_time = time.time()\n",
        "            inference_time = (end_time-start_time)/PMResponse_b.shape[0]\n",
        "            TGT_b = Energy_b\n",
        "            val_loss            = loss_fn(pred, TGT_b)\n",
        "            val_loss_array.append(val_loss.item())\n",
        "        val_loss_avg =  sum(val_loss_array)/len(val_loss_array)\n",
        "        experiment.log_metric(\"val_loss\",val_loss_avg,step=epoch)\n",
        "\n",
        "            \n",
        "        plt.figure(figsize=(35,12))\n",
        "        grid = plt.GridSpec(2, pred.shape[1], wspace=0.4, hspace=0.3)\n",
        "        plt.hist(Energy_b.cpu().detach().numpy(),histtype='step',range=(0,1),bins=100,fill=False,edgecolor='b')\n",
        "        plt.hist(pred.cpu().detach().numpy(),histtype='step',range=(0,1),bins=100,fill=False,edgecolor='r')\n",
        "        \n",
        "        experiment.log_figure(figure=plt)\n",
        "        plt.close()\n"
      ],
      "execution_count": 28,
      "outputs": []
    },
    {
      "cell_type": "code",
      "metadata": {
        "id": "LmJdk_POC9Mh",
        "colab_type": "code",
        "colab": {}
      },
      "source": [
        "# ranges=[2,2,4,2,3,50,50]\n",
        "\n",
        "def run_training(epochs=100):\n",
        "    # iterating over epochs...\n",
        "    ibatch = 0\n",
        "    for epoch in tqdm(range(epochs)):\n",
        "        Training(epoch)\n",
        "        Validation(epoch)\n",
        "        # scheduler.step()\n",
        "    "
      ],
      "execution_count": 29,
      "outputs": []
    },
    {
      "cell_type": "code",
      "metadata": {
        "id": "fp53YVEDD3Tz",
        "colab_type": "code",
        "colab": {
          "base_uri": "https://localhost:8080/",
          "height": 358
        },
        "outputId": "7d39f6de-76c7-4a4a-a21c-493137c257ef"
      },
      "source": [
        "#  with experiment.train():\n",
        "# experiment.log_code()\n",
        "run_training(params[\"Nepoch\"])\n"
      ],
      "execution_count": 30,
      "outputs": [
        {
          "output_type": "stream",
          "text": [
            " 25%|██▌       | 1259/5000 [1:23:44<4:03:28,  3.90s/it]"
          ],
          "name": "stderr"
        },
        {
          "output_type": "error",
          "ename": "KeyboardInterrupt",
          "evalue": "ignored",
          "traceback": [
            "\u001b[0;31m---------------------------------------------------------------------------\u001b[0m",
            "\u001b[0;31mKeyboardInterrupt\u001b[0m                         Traceback (most recent call last)",
            "\u001b[0;32m<ipython-input-30-3d40980aecbc>\u001b[0m in \u001b[0;36m<module>\u001b[0;34m()\u001b[0m\n\u001b[1;32m      1\u001b[0m \u001b[0;31m#  with experiment.train():\u001b[0m\u001b[0;34m\u001b[0m\u001b[0;34m\u001b[0m\u001b[0;34m\u001b[0m\u001b[0m\n\u001b[1;32m      2\u001b[0m \u001b[0;31m# experiment.log_code()\u001b[0m\u001b[0;34m\u001b[0m\u001b[0;34m\u001b[0m\u001b[0;34m\u001b[0m\u001b[0m\n\u001b[0;32m----> 3\u001b[0;31m \u001b[0mrun_training\u001b[0m\u001b[0;34m(\u001b[0m\u001b[0mparams\u001b[0m\u001b[0;34m[\u001b[0m\u001b[0;34m\"Nepoch\"\u001b[0m\u001b[0;34m]\u001b[0m\u001b[0;34m)\u001b[0m\u001b[0;34m\u001b[0m\u001b[0;34m\u001b[0m\u001b[0m\n\u001b[0m",
            "\u001b[0;32m<ipython-input-29-2bef3352c42a>\u001b[0m in \u001b[0;36mrun_training\u001b[0;34m(epochs)\u001b[0m\n\u001b[1;32m      5\u001b[0m     \u001b[0mibatch\u001b[0m \u001b[0;34m=\u001b[0m \u001b[0;36m0\u001b[0m\u001b[0;34m\u001b[0m\u001b[0;34m\u001b[0m\u001b[0m\n\u001b[1;32m      6\u001b[0m     \u001b[0;32mfor\u001b[0m \u001b[0mepoch\u001b[0m \u001b[0;32min\u001b[0m \u001b[0mtqdm\u001b[0m\u001b[0;34m(\u001b[0m\u001b[0mrange\u001b[0m\u001b[0;34m(\u001b[0m\u001b[0mepochs\u001b[0m\u001b[0;34m)\u001b[0m\u001b[0;34m)\u001b[0m\u001b[0;34m:\u001b[0m\u001b[0;34m\u001b[0m\u001b[0;34m\u001b[0m\u001b[0m\n\u001b[0;32m----> 7\u001b[0;31m         \u001b[0mTraining\u001b[0m\u001b[0;34m(\u001b[0m\u001b[0mepoch\u001b[0m\u001b[0;34m)\u001b[0m\u001b[0;34m\u001b[0m\u001b[0;34m\u001b[0m\u001b[0m\n\u001b[0m\u001b[1;32m      8\u001b[0m         \u001b[0mValidation\u001b[0m\u001b[0;34m(\u001b[0m\u001b[0mepoch\u001b[0m\u001b[0;34m)\u001b[0m\u001b[0;34m\u001b[0m\u001b[0;34m\u001b[0m\u001b[0m\n\u001b[1;32m      9\u001b[0m         \u001b[0;31m# scheduler.step()\u001b[0m\u001b[0;34m\u001b[0m\u001b[0;34m\u001b[0m\u001b[0;34m\u001b[0m\u001b[0m\n",
            "\u001b[0;32m<ipython-input-27-b1065471b035>\u001b[0m in \u001b[0;36mTraining\u001b[0;34m(epoch)\u001b[0m\n\u001b[1;32m      5\u001b[0m     \u001b[0mibatch\u001b[0m \u001b[0;34m=\u001b[0m \u001b[0mepoch\u001b[0m\u001b[0;34m*\u001b[0m\u001b[0mparams\u001b[0m\u001b[0;34m[\u001b[0m\u001b[0;34m\"train_size\"\u001b[0m\u001b[0;34m]\u001b[0m\u001b[0;34m/\u001b[0m\u001b[0mparams\u001b[0m\u001b[0;34m[\u001b[0m\u001b[0;34m\"batch_size\"\u001b[0m\u001b[0;34m]\u001b[0m\u001b[0;34m\u001b[0m\u001b[0;34m\u001b[0m\u001b[0m\n\u001b[1;32m      6\u001b[0m     \u001b[0;32mwith\u001b[0m \u001b[0mexperiment\u001b[0m\u001b[0;34m.\u001b[0m\u001b[0mtrain\u001b[0m\u001b[0;34m(\u001b[0m\u001b[0;34m)\u001b[0m\u001b[0;34m:\u001b[0m\u001b[0;34m\u001b[0m\u001b[0;34m\u001b[0m\u001b[0m\n\u001b[0;32m----> 7\u001b[0;31m         \u001b[0;32mfor\u001b[0m \u001b[0mEnergy_b\u001b[0m\u001b[0;34m,\u001b[0m \u001b[0mEneREC_b\u001b[0m\u001b[0;34m,\u001b[0m \u001b[0mUVW_b\u001b[0m\u001b[0;34m,\u001b[0m \u001b[0mUVWREC_b\u001b[0m\u001b[0;34m,\u001b[0m \u001b[0mDIR_b\u001b[0m\u001b[0;34m,\u001b[0m \u001b[0mSHW_b\u001b[0m\u001b[0;34m,\u001b[0m  \u001b[0mPMResponse_b\u001b[0m \u001b[0;32min\u001b[0m \u001b[0mtrain_dataloader\u001b[0m\u001b[0;34m:\u001b[0m\u001b[0;34m\u001b[0m\u001b[0;34m\u001b[0m\u001b[0m\n\u001b[0m\u001b[1;32m      8\u001b[0m             \u001b[0;31m# moving them to device(for example, cuda-device)\u001b[0m\u001b[0;34m\u001b[0m\u001b[0;34m\u001b[0m\u001b[0;34m\u001b[0m\u001b[0m\n\u001b[1;32m      9\u001b[0m             \u001b[0mEnergy_b\u001b[0m\u001b[0;34m,\u001b[0m \u001b[0mEneREC_b\u001b[0m\u001b[0;34m,\u001b[0m \u001b[0mUVW_b\u001b[0m\u001b[0;34m,\u001b[0m \u001b[0mUVWREC_b\u001b[0m\u001b[0;34m,\u001b[0m \u001b[0mDIR_b\u001b[0m\u001b[0;34m,\u001b[0m \u001b[0mSHW_b\u001b[0m\u001b[0;34m,\u001b[0m  \u001b[0mPMResponse_b\u001b[0m \u001b[0;34m=\u001b[0m \u001b[0mEnergy_b\u001b[0m\u001b[0;34m.\u001b[0m\u001b[0mto\u001b[0m\u001b[0;34m(\u001b[0m\u001b[0mdevice\u001b[0m\u001b[0;34m)\u001b[0m\u001b[0;34m,\u001b[0m                                             \u001b[0mEneREC_b\u001b[0m\u001b[0;34m.\u001b[0m\u001b[0mto\u001b[0m\u001b[0;34m(\u001b[0m\u001b[0mdevice\u001b[0m\u001b[0;34m)\u001b[0m\u001b[0;34m,\u001b[0m                                             \u001b[0mUVW_b\u001b[0m\u001b[0;34m.\u001b[0m\u001b[0mto\u001b[0m\u001b[0;34m(\u001b[0m\u001b[0mdevice\u001b[0m\u001b[0;34m)\u001b[0m\u001b[0;34m,\u001b[0m                                             \u001b[0mUVWREC_b\u001b[0m\u001b[0;34m.\u001b[0m\u001b[0mto\u001b[0m\u001b[0;34m(\u001b[0m\u001b[0mdevice\u001b[0m\u001b[0;34m)\u001b[0m\u001b[0;34m,\u001b[0m                                             \u001b[0mDIR_b\u001b[0m\u001b[0;34m.\u001b[0m\u001b[0mto\u001b[0m\u001b[0;34m(\u001b[0m\u001b[0mdevice\u001b[0m\u001b[0;34m)\u001b[0m\u001b[0;34m,\u001b[0m                                             \u001b[0mSHW_b\u001b[0m\u001b[0;34m.\u001b[0m\u001b[0mto\u001b[0m\u001b[0;34m(\u001b[0m\u001b[0mdevice\u001b[0m\u001b[0;34m)\u001b[0m\u001b[0;34m,\u001b[0m                                             \u001b[0mPMResponse_b\u001b[0m\u001b[0;34m.\u001b[0m\u001b[0mto\u001b[0m\u001b[0;34m(\u001b[0m\u001b[0mdevice\u001b[0m\u001b[0;34m)\u001b[0m\u001b[0;34m\u001b[0m\u001b[0;34m\u001b[0m\u001b[0m\n",
            "\u001b[0;32m/usr/local/lib/python3.6/dist-packages/torch/utils/data/dataloader.py\u001b[0m in \u001b[0;36m__next__\u001b[0;34m(self)\u001b[0m\n\u001b[1;32m    361\u001b[0m \u001b[0;34m\u001b[0m\u001b[0m\n\u001b[1;32m    362\u001b[0m     \u001b[0;32mdef\u001b[0m \u001b[0m__next__\u001b[0m\u001b[0;34m(\u001b[0m\u001b[0mself\u001b[0m\u001b[0;34m)\u001b[0m\u001b[0;34m:\u001b[0m\u001b[0;34m\u001b[0m\u001b[0;34m\u001b[0m\u001b[0m\n\u001b[0;32m--> 363\u001b[0;31m         \u001b[0mdata\u001b[0m \u001b[0;34m=\u001b[0m \u001b[0mself\u001b[0m\u001b[0;34m.\u001b[0m\u001b[0m_next_data\u001b[0m\u001b[0;34m(\u001b[0m\u001b[0;34m)\u001b[0m\u001b[0;34m\u001b[0m\u001b[0;34m\u001b[0m\u001b[0m\n\u001b[0m\u001b[1;32m    364\u001b[0m         \u001b[0mself\u001b[0m\u001b[0;34m.\u001b[0m\u001b[0m_num_yielded\u001b[0m \u001b[0;34m+=\u001b[0m \u001b[0;36m1\u001b[0m\u001b[0;34m\u001b[0m\u001b[0;34m\u001b[0m\u001b[0m\n\u001b[1;32m    365\u001b[0m         \u001b[0;32mif\u001b[0m \u001b[0mself\u001b[0m\u001b[0;34m.\u001b[0m\u001b[0m_dataset_kind\u001b[0m \u001b[0;34m==\u001b[0m \u001b[0m_DatasetKind\u001b[0m\u001b[0;34m.\u001b[0m\u001b[0mIterable\u001b[0m \u001b[0;32mand\u001b[0m\u001b[0;31m \u001b[0m\u001b[0;31m\\\u001b[0m\u001b[0;34m\u001b[0m\u001b[0;34m\u001b[0m\u001b[0m\n",
            "\u001b[0;32m/usr/local/lib/python3.6/dist-packages/torch/utils/data/dataloader.py\u001b[0m in \u001b[0;36m_next_data\u001b[0;34m(self)\u001b[0m\n\u001b[1;32m    401\u001b[0m     \u001b[0;32mdef\u001b[0m \u001b[0m_next_data\u001b[0m\u001b[0;34m(\u001b[0m\u001b[0mself\u001b[0m\u001b[0;34m)\u001b[0m\u001b[0;34m:\u001b[0m\u001b[0;34m\u001b[0m\u001b[0;34m\u001b[0m\u001b[0m\n\u001b[1;32m    402\u001b[0m         \u001b[0mindex\u001b[0m \u001b[0;34m=\u001b[0m \u001b[0mself\u001b[0m\u001b[0;34m.\u001b[0m\u001b[0m_next_index\u001b[0m\u001b[0;34m(\u001b[0m\u001b[0;34m)\u001b[0m  \u001b[0;31m# may raise StopIteration\u001b[0m\u001b[0;34m\u001b[0m\u001b[0;34m\u001b[0m\u001b[0m\n\u001b[0;32m--> 403\u001b[0;31m         \u001b[0mdata\u001b[0m \u001b[0;34m=\u001b[0m \u001b[0mself\u001b[0m\u001b[0;34m.\u001b[0m\u001b[0m_dataset_fetcher\u001b[0m\u001b[0;34m.\u001b[0m\u001b[0mfetch\u001b[0m\u001b[0;34m(\u001b[0m\u001b[0mindex\u001b[0m\u001b[0;34m)\u001b[0m  \u001b[0;31m# may raise StopIteration\u001b[0m\u001b[0;34m\u001b[0m\u001b[0;34m\u001b[0m\u001b[0m\n\u001b[0m\u001b[1;32m    404\u001b[0m         \u001b[0;32mif\u001b[0m \u001b[0mself\u001b[0m\u001b[0;34m.\u001b[0m\u001b[0m_pin_memory\u001b[0m\u001b[0;34m:\u001b[0m\u001b[0;34m\u001b[0m\u001b[0;34m\u001b[0m\u001b[0m\n\u001b[1;32m    405\u001b[0m             \u001b[0mdata\u001b[0m \u001b[0;34m=\u001b[0m \u001b[0m_utils\u001b[0m\u001b[0;34m.\u001b[0m\u001b[0mpin_memory\u001b[0m\u001b[0;34m.\u001b[0m\u001b[0mpin_memory\u001b[0m\u001b[0;34m(\u001b[0m\u001b[0mdata\u001b[0m\u001b[0;34m)\u001b[0m\u001b[0;34m\u001b[0m\u001b[0;34m\u001b[0m\u001b[0m\n",
            "\u001b[0;32m/usr/local/lib/python3.6/dist-packages/torch/utils/data/_utils/fetch.py\u001b[0m in \u001b[0;36mfetch\u001b[0;34m(self, possibly_batched_index)\u001b[0m\n\u001b[1;32m     42\u001b[0m     \u001b[0;32mdef\u001b[0m \u001b[0mfetch\u001b[0m\u001b[0;34m(\u001b[0m\u001b[0mself\u001b[0m\u001b[0;34m,\u001b[0m \u001b[0mpossibly_batched_index\u001b[0m\u001b[0;34m)\u001b[0m\u001b[0;34m:\u001b[0m\u001b[0;34m\u001b[0m\u001b[0;34m\u001b[0m\u001b[0m\n\u001b[1;32m     43\u001b[0m         \u001b[0;32mif\u001b[0m \u001b[0mself\u001b[0m\u001b[0;34m.\u001b[0m\u001b[0mauto_collation\u001b[0m\u001b[0;34m:\u001b[0m\u001b[0;34m\u001b[0m\u001b[0;34m\u001b[0m\u001b[0m\n\u001b[0;32m---> 44\u001b[0;31m             \u001b[0mdata\u001b[0m \u001b[0;34m=\u001b[0m \u001b[0;34m[\u001b[0m\u001b[0mself\u001b[0m\u001b[0;34m.\u001b[0m\u001b[0mdataset\u001b[0m\u001b[0;34m[\u001b[0m\u001b[0midx\u001b[0m\u001b[0;34m]\u001b[0m \u001b[0;32mfor\u001b[0m \u001b[0midx\u001b[0m \u001b[0;32min\u001b[0m \u001b[0mpossibly_batched_index\u001b[0m\u001b[0;34m]\u001b[0m\u001b[0;34m\u001b[0m\u001b[0;34m\u001b[0m\u001b[0m\n\u001b[0m\u001b[1;32m     45\u001b[0m         \u001b[0;32melse\u001b[0m\u001b[0;34m:\u001b[0m\u001b[0;34m\u001b[0m\u001b[0;34m\u001b[0m\u001b[0m\n\u001b[1;32m     46\u001b[0m             \u001b[0mdata\u001b[0m \u001b[0;34m=\u001b[0m \u001b[0mself\u001b[0m\u001b[0;34m.\u001b[0m\u001b[0mdataset\u001b[0m\u001b[0;34m[\u001b[0m\u001b[0mpossibly_batched_index\u001b[0m\u001b[0;34m]\u001b[0m\u001b[0;34m\u001b[0m\u001b[0;34m\u001b[0m\u001b[0m\n",
            "\u001b[0;32m/usr/local/lib/python3.6/dist-packages/torch/utils/data/_utils/fetch.py\u001b[0m in \u001b[0;36m<listcomp>\u001b[0;34m(.0)\u001b[0m\n\u001b[1;32m     42\u001b[0m     \u001b[0;32mdef\u001b[0m \u001b[0mfetch\u001b[0m\u001b[0;34m(\u001b[0m\u001b[0mself\u001b[0m\u001b[0;34m,\u001b[0m \u001b[0mpossibly_batched_index\u001b[0m\u001b[0;34m)\u001b[0m\u001b[0;34m:\u001b[0m\u001b[0;34m\u001b[0m\u001b[0;34m\u001b[0m\u001b[0m\n\u001b[1;32m     43\u001b[0m         \u001b[0;32mif\u001b[0m \u001b[0mself\u001b[0m\u001b[0;34m.\u001b[0m\u001b[0mauto_collation\u001b[0m\u001b[0;34m:\u001b[0m\u001b[0;34m\u001b[0m\u001b[0;34m\u001b[0m\u001b[0m\n\u001b[0;32m---> 44\u001b[0;31m             \u001b[0mdata\u001b[0m \u001b[0;34m=\u001b[0m \u001b[0;34m[\u001b[0m\u001b[0mself\u001b[0m\u001b[0;34m.\u001b[0m\u001b[0mdataset\u001b[0m\u001b[0;34m[\u001b[0m\u001b[0midx\u001b[0m\u001b[0;34m]\u001b[0m \u001b[0;32mfor\u001b[0m \u001b[0midx\u001b[0m \u001b[0;32min\u001b[0m \u001b[0mpossibly_batched_index\u001b[0m\u001b[0;34m]\u001b[0m\u001b[0;34m\u001b[0m\u001b[0;34m\u001b[0m\u001b[0m\n\u001b[0m\u001b[1;32m     45\u001b[0m         \u001b[0;32melse\u001b[0m\u001b[0;34m:\u001b[0m\u001b[0;34m\u001b[0m\u001b[0;34m\u001b[0m\u001b[0m\n\u001b[1;32m     46\u001b[0m             \u001b[0mdata\u001b[0m \u001b[0;34m=\u001b[0m \u001b[0mself\u001b[0m\u001b[0;34m.\u001b[0m\u001b[0mdataset\u001b[0m\u001b[0;34m[\u001b[0m\u001b[0mpossibly_batched_index\u001b[0m\u001b[0;34m]\u001b[0m\u001b[0;34m\u001b[0m\u001b[0;34m\u001b[0m\u001b[0m\n",
            "\u001b[0;32m/usr/local/lib/python3.6/dist-packages/torch/utils/data/dataset.py\u001b[0m in \u001b[0;36m__getitem__\u001b[0;34m(self, idx)\u001b[0m\n\u001b[1;32m    255\u001b[0m \u001b[0;34m\u001b[0m\u001b[0m\n\u001b[1;32m    256\u001b[0m     \u001b[0;32mdef\u001b[0m \u001b[0m__getitem__\u001b[0m\u001b[0;34m(\u001b[0m\u001b[0mself\u001b[0m\u001b[0;34m,\u001b[0m \u001b[0midx\u001b[0m\u001b[0;34m)\u001b[0m\u001b[0;34m:\u001b[0m\u001b[0;34m\u001b[0m\u001b[0;34m\u001b[0m\u001b[0m\n\u001b[0;32m--> 257\u001b[0;31m         \u001b[0;32mreturn\u001b[0m \u001b[0mself\u001b[0m\u001b[0;34m.\u001b[0m\u001b[0mdataset\u001b[0m\u001b[0;34m[\u001b[0m\u001b[0mself\u001b[0m\u001b[0;34m.\u001b[0m\u001b[0mindices\u001b[0m\u001b[0;34m[\u001b[0m\u001b[0midx\u001b[0m\u001b[0;34m]\u001b[0m\u001b[0;34m]\u001b[0m\u001b[0;34m\u001b[0m\u001b[0;34m\u001b[0m\u001b[0m\n\u001b[0m\u001b[1;32m    258\u001b[0m \u001b[0;34m\u001b[0m\u001b[0m\n\u001b[1;32m    259\u001b[0m     \u001b[0;32mdef\u001b[0m \u001b[0m__len__\u001b[0m\u001b[0;34m(\u001b[0m\u001b[0mself\u001b[0m\u001b[0;34m)\u001b[0m\u001b[0;34m:\u001b[0m\u001b[0;34m\u001b[0m\u001b[0;34m\u001b[0m\u001b[0m\n",
            "\u001b[0;32m/usr/local/lib/python3.6/dist-packages/torch/utils/data/dataset.py\u001b[0m in \u001b[0;36m__getitem__\u001b[0;34m(self, index)\u001b[0m\n\u001b[1;32m    160\u001b[0m \u001b[0;34m\u001b[0m\u001b[0m\n\u001b[1;32m    161\u001b[0m     \u001b[0;32mdef\u001b[0m \u001b[0m__getitem__\u001b[0m\u001b[0;34m(\u001b[0m\u001b[0mself\u001b[0m\u001b[0;34m,\u001b[0m \u001b[0mindex\u001b[0m\u001b[0;34m)\u001b[0m\u001b[0;34m:\u001b[0m\u001b[0;34m\u001b[0m\u001b[0;34m\u001b[0m\u001b[0m\n\u001b[0;32m--> 162\u001b[0;31m         \u001b[0;32mreturn\u001b[0m \u001b[0mtuple\u001b[0m\u001b[0;34m(\u001b[0m\u001b[0mtensor\u001b[0m\u001b[0;34m[\u001b[0m\u001b[0mindex\u001b[0m\u001b[0;34m]\u001b[0m \u001b[0;32mfor\u001b[0m \u001b[0mtensor\u001b[0m \u001b[0;32min\u001b[0m \u001b[0mself\u001b[0m\u001b[0;34m.\u001b[0m\u001b[0mtensors\u001b[0m\u001b[0;34m)\u001b[0m\u001b[0;34m\u001b[0m\u001b[0;34m\u001b[0m\u001b[0m\n\u001b[0m\u001b[1;32m    163\u001b[0m \u001b[0;34m\u001b[0m\u001b[0m\n\u001b[1;32m    164\u001b[0m     \u001b[0;32mdef\u001b[0m \u001b[0m__len__\u001b[0m\u001b[0;34m(\u001b[0m\u001b[0mself\u001b[0m\u001b[0;34m)\u001b[0m\u001b[0;34m:\u001b[0m\u001b[0;34m\u001b[0m\u001b[0;34m\u001b[0m\u001b[0m\n",
            "\u001b[0;32m/usr/local/lib/python3.6/dist-packages/torch/utils/data/dataset.py\u001b[0m in \u001b[0;36m<genexpr>\u001b[0;34m(.0)\u001b[0m\n\u001b[1;32m    160\u001b[0m \u001b[0;34m\u001b[0m\u001b[0m\n\u001b[1;32m    161\u001b[0m     \u001b[0;32mdef\u001b[0m \u001b[0m__getitem__\u001b[0m\u001b[0;34m(\u001b[0m\u001b[0mself\u001b[0m\u001b[0;34m,\u001b[0m \u001b[0mindex\u001b[0m\u001b[0;34m)\u001b[0m\u001b[0;34m:\u001b[0m\u001b[0;34m\u001b[0m\u001b[0;34m\u001b[0m\u001b[0m\n\u001b[0;32m--> 162\u001b[0;31m         \u001b[0;32mreturn\u001b[0m \u001b[0mtuple\u001b[0m\u001b[0;34m(\u001b[0m\u001b[0mtensor\u001b[0m\u001b[0;34m[\u001b[0m\u001b[0mindex\u001b[0m\u001b[0;34m]\u001b[0m \u001b[0;32mfor\u001b[0m \u001b[0mtensor\u001b[0m \u001b[0;32min\u001b[0m \u001b[0mself\u001b[0m\u001b[0;34m.\u001b[0m\u001b[0mtensors\u001b[0m\u001b[0;34m)\u001b[0m\u001b[0;34m\u001b[0m\u001b[0;34m\u001b[0m\u001b[0m\n\u001b[0m\u001b[1;32m    163\u001b[0m \u001b[0;34m\u001b[0m\u001b[0m\n\u001b[1;32m    164\u001b[0m     \u001b[0;32mdef\u001b[0m \u001b[0m__len__\u001b[0m\u001b[0;34m(\u001b[0m\u001b[0mself\u001b[0m\u001b[0;34m)\u001b[0m\u001b[0;34m:\u001b[0m\u001b[0;34m\u001b[0m\u001b[0;34m\u001b[0m\u001b[0m\n",
            "\u001b[0;31mKeyboardInterrupt\u001b[0m: "
          ]
        }
      ]
    },
    {
      "cell_type": "code",
      "metadata": {
        "id": "gv8G78FLfZd4",
        "colab_type": "code",
        "colab": {
          "base_uri": "https://localhost:8080/",
          "height": 1000
        },
        "outputId": "995a5714-d420-4e8f-b95c-5891b8dfba52"
      },
      "source": [
        "experiment.end()"
      ],
      "execution_count": 31,
      "outputs": [
        {
          "output_type": "stream",
          "text": [
            "COMET INFO: ---------------------------\n",
            "COMET INFO: Comet.ml Experiment Summary\n",
            "COMET INFO: ---------------------------\n",
            "COMET INFO:   Data:\n",
            "COMET INFO:     display_summary_level : 1\n",
            "COMET INFO:     url                   : https://www.comet.ml/satoruk-icepp/cwreg/0aec6e72e499496483f0d576c350ee24\n",
            "COMET INFO:   Metrics [count] (min, max):\n",
            "COMET INFO:     test_val_loss [1259]            : (0.00035457356716506183, 0.0032983925193548203)\n",
            "COMET INFO:     train_batch_train_loss [503949] : (0.00011293535499135032, 0.3403891921043396)\n",
            "COMET INFO:     train_learning_rate [1259]      : (8.05788267244349e-06, 0.0001)\n",
            "COMET INFO:     train_loss [50394]              : (0.00012849755876231939, 0.31519460678100586)\n",
            "COMET INFO:     train_train_loss [1259]         : (0.0003004873700047028, 0.03511841136263683)\n",
            "COMET INFO:   Others:\n",
            "COMET INFO:     Name : 20200924-191924\n",
            "COMET INFO:   Parameters:\n",
            "COMET INFO:     DoBlind               : 1\n",
            "COMET INFO:     LRgamma               : 0.998\n",
            "COMET INFO:     LRtype                : CosExp\n",
            "COMET INFO:     Nepoch                : 5000\n",
            "COMET INFO:     Nfc                   : 1\n",
            "COMET INFO:     Nfcnodes              : 128\n",
            "COMET INFO:     Nlayer                : 16\n",
            "COMET INFO:     NphoScale             : 200000.0\n",
            "COMET INFO:     Nresblock             : 5\n",
            "COMET INFO:     Nsd                   : 1\n",
            "COMET INFO:     SHWScale              : [200, 1, 1]\n",
            "COMET INFO:     ShowerLengthThreshold : 2\n",
            "COMET INFO:     UVWScale              : [40, 80, 40]\n",
            "COMET INFO:     UseBN                 : True\n",
            "COMET INFO:     UseLPF                : 1\n",
            "COMET INFO:     UsePMT                : 1\n",
            "COMET INFO:     Wthreshold            : 0.3757409006941327\n",
            "COMET INFO:     base_lr               : 1e-08\n",
            "COMET INFO:     batch_size            : 200\n",
            "COMET INFO:     dropout_conv          : 0.3\n",
            "COMET INFO:     dropout_fc            : 1\n",
            "COMET INFO:     ene_reg               : 1\n",
            "COMET INFO:     ethreshold            : 1\n",
            "COMET INFO:     learning_rate         : 0.0001\n",
            "COMET INFO:     milestones            : [200, 400, 600, 800, 1000]\n",
            "COMET INFO:     noiselevel            : 1e-05\n",
            "COMET INFO:     optim                 : Adam\n",
            "COMET INFO:     pos_reg               : True\n",
            "COMET INFO:     shw_reg               : True\n",
            "COMET INFO:     stepsize_lr           : 1\n",
            "COMET INFO:     stepsize_lr_down      : 29\n",
            "COMET INFO:     train_size            : 80000\n",
            "COMET INFO:     val_size              : 1000\n",
            "COMET INFO:     weight_decay          : 0.0001\n",
            "COMET INFO:     weightstd             : 0.001\n",
            "COMET INFO:   Uploads [count]:\n",
            "COMET INFO:     code                : 1 (18 KB)\n",
            "COMET INFO:     environment details : 1\n",
            "COMET INFO:     figures [1259]      : 1259\n",
            "COMET INFO:     filename            : 1\n",
            "COMET INFO:     installed packages  : 1\n",
            "COMET INFO:     notebook            : 1\n",
            "COMET INFO:     os packages         : 1\n",
            "COMET INFO: ---------------------------\n",
            "COMET ERROR: File-like could not be uploaded\n",
            "COMET INFO: Uploading stats to Comet before program termination (may take several seconds)\n",
            "COMET INFO: Waiting for completion of the file uploads (may take several seconds)\n",
            "COMET INFO: Still uploading\n"
          ],
          "name": "stderr"
        }
      ]
    },
    {
      "cell_type": "code",
      "metadata": {
        "id": "7Yqu7GcK2aCh",
        "colab_type": "code",
        "colab": {
          "base_uri": "https://localhost:8080/",
          "height": 1000
        },
        "outputId": "b77b5e30-7247-4b56-97e5-cc9334a7c886"
      },
      "source": [
        "dummy_input = torch.randn((1, 4760)).cuda()\n",
        "torch.onnx.export(model, dummy_input, \"meg2enereg.onnx\", verbose=True)"
      ],
      "execution_count": 33,
      "outputs": [
        {
          "output_type": "stream",
          "text": [
            "graph(%0 : Float(1:4760, 4760:1),\n",
            "      %conv1.weight : Float(16:42, 1:42, 7:6, 6:1),\n",
            "      %conv1.bias : Float(16:1),\n",
            "      %conv2.weight : Float(32:256, 16:16, 4:4, 4:1),\n",
            "      %conv2.bias : Float(32:1),\n",
            "      %conv3.weight : Float(64:128, 32:4, 2:2, 2:1),\n",
            "      %conv3.bias : Float(64:1),\n",
            "      %bn1.weight : Float(16:1),\n",
            "      %bn1.bias : Float(16:1),\n",
            "      %bn1.running_mean : Float(16:1),\n",
            "      %bn1.running_var : Float(16:1),\n",
            "      %bn2.weight : Float(32:1),\n",
            "      %bn2.bias : Float(32:1),\n",
            "      %bn2.running_mean : Float(32:1),\n",
            "      %bn2.running_var : Float(32:1),\n",
            "      %bn3.weight : Float(64:1),\n",
            "      %bn3.bias : Float(64:1),\n",
            "      %bn3.running_mean : Float(64:1),\n",
            "      %bn3.running_var : Float(64:1),\n",
            "      %fc1.weight : Float(128:1820, 1820:1),\n",
            "      %fc1.bias : Float(128:1),\n",
            "      %fc2.weight : Float(1:128, 128:1),\n",
            "      %fc2.bias : Float(1:1),\n",
            "      %70 : Long(1:1),\n",
            "      %71 : Long(1:1),\n",
            "      %72 : Long(1:1),\n",
            "      %73 : Long(1:1),\n",
            "      %74 : Long(1:1)):\n",
            "  %26 : Tensor = onnx::Shape(%0)\n",
            "  %27 : Tensor = onnx::Constant[value={0}]()\n",
            "  %28 : Long() = onnx::Gather[axis=0](%26, %27) # <ipython-input-20-7401fa9b9647>:35:0\n",
            "  %30 : Tensor = onnx::Unsqueeze[axes=[0]](%28)\n",
            "  %32 : Tensor = onnx::Concat[axis=0](%30, %70)\n",
            "  %33 : Float(1:4760, 4760:1) = onnx::Reshape(%0, %32) # <ipython-input-20-7401fa9b9647>:35:0\n",
            "  %34 : Float(1:4760, 4092:1), %35 : Float(1:4760, 668:1) = onnx::Split[axis=1, split=[4092, 668]](%33)\n",
            "  %36 : Tensor = onnx::Shape(%34)\n",
            "  %37 : Tensor = onnx::Constant[value={0}]()\n",
            "  %38 : Long() = onnx::Gather[axis=0](%36, %37) # <ipython-input-20-7401fa9b9647>:38:0\n",
            "  %42 : Tensor = onnx::Unsqueeze[axes=[0]](%38)\n",
            "  %46 : Tensor = onnx::Concat[axis=0](%42, %71, %72, %73)\n",
            "  %47 : Float(1:4092, 1:4092, 93:44, 44:1) = onnx::Reshape(%34, %46) # <ipython-input-20-7401fa9b9647>:38:0\n",
            "  %48 : Float(1:4608, 16:288, 24:12, 12:1) = onnx::Conv[dilations=[1, 1], group=1, kernel_shape=[7, 6], pads=[3, 3, 3, 3], strides=[4, 4]](%47, %conv1.weight, %conv1.bias) # /usr/local/lib/python3.6/dist-packages/torch/nn/modules/conv.py:416:0\n",
            "  %49 : Float(1:4608, 16:288, 24:12, 12:1) = onnx::BatchNormalization[epsilon=1.0000000000000001e-05, momentum=0.90000000000000002](%48, %bn1.weight, %bn1.bias, %bn1.running_mean, %bn1.running_var) # /usr/local/lib/python3.6/dist-packages/torch/nn/functional.py:973:0\n",
            "  %50 : Float(1:4608, 16:288, 24:12, 12:1) = onnx::LeakyRelu[alpha=0.10000000000000001](%49) # /usr/local/lib/python3.6/dist-packages/torch/nn/functional.py:1295:0\n",
            "  %51 : Float(1:2304, 32:72, 12:6, 6:1) = onnx::Conv[dilations=[1, 1], group=1, kernel_shape=[4, 4], pads=[1, 1, 1, 1], strides=[2, 2]](%50, %conv2.weight, %conv2.bias) # /usr/local/lib/python3.6/dist-packages/torch/nn/modules/conv.py:416:0\n",
            "  %52 : Float(1:2304, 32:72, 12:6, 6:1) = onnx::BatchNormalization[epsilon=1.0000000000000001e-05, momentum=0.90000000000000002](%51, %bn2.weight, %bn2.bias, %bn2.running_mean, %bn2.running_var) # /usr/local/lib/python3.6/dist-packages/torch/nn/functional.py:973:0\n",
            "  %53 : Float(1:2304, 32:72, 12:6, 6:1) = onnx::LeakyRelu[alpha=0.10000000000000001](%52) # /usr/local/lib/python3.6/dist-packages/torch/nn/functional.py:1295:0\n",
            "  %54 : Float(1:1152, 64:18, 6:3, 3:1) = onnx::Conv[dilations=[1, 1], group=1, kernel_shape=[2, 2], pads=[0, 0, 0, 0], strides=[2, 2]](%53, %conv3.weight, %conv3.bias) # /usr/local/lib/python3.6/dist-packages/torch/nn/modules/conv.py:416:0\n",
            "  %55 : Float(1:1152, 64:18, 6:3, 3:1) = onnx::BatchNormalization[epsilon=1.0000000000000001e-05, momentum=0.90000000000000002](%54, %bn3.weight, %bn3.bias, %bn3.running_mean, %bn3.running_var) # /usr/local/lib/python3.6/dist-packages/torch/nn/functional.py:973:0\n",
            "  %56 : Float(1:1152, 64:18, 6:3, 3:1) = onnx::LeakyRelu[alpha=0.10000000000000001](%55) # /usr/local/lib/python3.6/dist-packages/torch/nn/functional.py:1295:0\n",
            "  %57 : Tensor = onnx::Shape(%56)\n",
            "  %58 : Tensor = onnx::Constant[value={0}]()\n",
            "  %59 : Long() = onnx::Gather[axis=0](%57, %58) # <ipython-input-20-7401fa9b9647>:42:0\n",
            "  %61 : Tensor = onnx::Unsqueeze[axes=[0]](%59)\n",
            "  %63 : Tensor = onnx::Concat[axis=0](%61, %74)\n",
            "  %64 : Float(1:1152, 1152:1) = onnx::Reshape(%56, %63) # <ipython-input-20-7401fa9b9647>:42:0\n",
            "  %65 : Float(1:1820, 1820:1) = onnx::Concat[axis=1](%64, %35) # <ipython-input-20-7401fa9b9647>:43:0\n",
            "  %66 : Float(1:128, 128:1) = onnx::Gemm[alpha=1., beta=1., transB=1](%65, %fc1.weight, %fc1.bias) # /usr/local/lib/python3.6/dist-packages/torch/nn/functional.py:973:0\n",
            "  %67 : Float(1:128, 128:1) = onnx::LeakyRelu[alpha=0.10000000000000001](%66) # /usr/local/lib/python3.6/dist-packages/torch/nn/functional.py:1295:0\n",
            "  %68 : Float(1:1, 1:1) = onnx::Gemm[alpha=1., beta=1., transB=1](%67, %fc2.weight, %fc2.bias) # /usr/local/lib/python3.6/dist-packages/torch/nn/functional.py:1674:0\n",
            "  %69 : Float(1:1, 1:1) = onnx::Tanh(%68) # <ipython-input-20-7401fa9b9647>:46:0\n",
            "  return (%69)\n",
            "\n"
          ],
          "name": "stdout"
        }
      ]
    },
    {
      "cell_type": "code",
      "metadata": {
        "id": "7rCFQwPQ3lZy",
        "colab_type": "code",
        "colab": {
          "base_uri": "https://localhost:8080/",
          "height": 258
        },
        "outputId": "6bcf7fca-309a-40dd-8999-fa4155dfb526"
      },
      "source": [
        "!pip install onnx onnxruntime"
      ],
      "execution_count": 35,
      "outputs": [
        {
          "output_type": "stream",
          "text": [
            "Collecting onnx\n",
            "\u001b[?25l  Downloading https://files.pythonhosted.org/packages/36/ee/bc7bc88fc8449266add978627e90c363069211584b937fd867b0ccc59f09/onnx-1.7.0-cp36-cp36m-manylinux1_x86_64.whl (7.4MB)\n",
            "\u001b[K     |████████████████████████████████| 7.4MB 2.8MB/s \n",
            "\u001b[?25hCollecting onnxruntime\n",
            "\u001b[?25l  Downloading https://files.pythonhosted.org/packages/14/a6/30c6c17524d6930df677412eda0b3c2acd9062697fc0e86842f2dd058835/onnxruntime-1.4.0-cp36-cp36m-manylinux2010_x86_64.whl (4.4MB)\n",
            "\u001b[K     |████████████████████████████████| 4.4MB 43.2MB/s \n",
            "\u001b[?25hRequirement already satisfied: six in /usr/local/lib/python3.6/dist-packages (from onnx) (1.15.0)\n",
            "Requirement already satisfied: numpy in /usr/local/lib/python3.6/dist-packages (from onnx) (1.18.5)\n",
            "Requirement already satisfied: typing-extensions>=3.6.2.1 in /usr/local/lib/python3.6/dist-packages (from onnx) (3.7.4.3)\n",
            "Requirement already satisfied: protobuf in /usr/local/lib/python3.6/dist-packages (from onnx) (3.12.4)\n",
            "Requirement already satisfied: setuptools in /usr/local/lib/python3.6/dist-packages (from protobuf->onnx) (50.3.0)\n",
            "Installing collected packages: onnx, onnxruntime\n",
            "Successfully installed onnx-1.7.0 onnxruntime-1.4.0\n"
          ],
          "name": "stdout"
        }
      ]
    },
    {
      "cell_type": "code",
      "metadata": {
        "id": "BdvPv8l43Umi",
        "colab_type": "code",
        "colab": {}
      },
      "source": [
        "import onnx\n",
        "\n",
        "onnx_model = onnx.load(\"meg2enereg.onnx\")\n",
        "onnx.checker.check_model(onnx_model)"
      ],
      "execution_count": 36,
      "outputs": []
    },
    {
      "cell_type": "code",
      "metadata": {
        "id": "d7sqma_yx1Wy",
        "colab_type": "code",
        "colab": {
          "base_uri": "https://localhost:8080/",
          "height": 34
        },
        "outputId": "6ceaf5b3-f7ac-4d61-c294-164beb1d234a"
      },
      "source": [
        "import onnxruntime\n",
        "\n",
        "ort_session = onnxruntime.InferenceSession(\"meg2enereg.onnx\")\n",
        "\n",
        "def to_numpy(tensor):\n",
        "    return tensor.detach().cpu().numpy() if tensor.requires_grad else tensor.cpu().numpy()\n",
        "\n",
        "# compute ONNX Runtime output prediction\n",
        "ort_inputs = {ort_session.get_inputs()[0].name: to_numpy(PMResponse[0]).reshape(1,4760)}\n",
        "ort_outs = ort_session.run(None, ort_inputs)\n",
        "print(ort_outs,Energy[0])"
      ],
      "execution_count": 38,
      "outputs": [
        {
          "output_type": "stream",
          "text": [
            "[array([[0.8672646]], dtype=float32)] tensor([0.8810])\n"
          ],
          "name": "stdout"
        }
      ]
    },
    {
      "cell_type": "code",
      "metadata": {
        "id": "p3eil_bW4pSO",
        "colab_type": "code",
        "colab": {}
      },
      "source": [
        ""
      ],
      "execution_count": null,
      "outputs": []
    }
  ]
}