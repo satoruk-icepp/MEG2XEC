{
  "nbformat": 4,
  "nbformat_minor": 0,
  "metadata": {
    "colab": {
      "name": "MEG2Reg.ipynb",
      "provenance": [],
      "collapsed_sections": [],
      "machine_shape": "hm",
      "include_colab_link": true
    },
    "kernelspec": {
      "name": "python3",
      "display_name": "Python 3"
    },
    "accelerator": "GPU"
  },
  "cells": [
    {
      "cell_type": "markdown",
      "metadata": {
        "id": "view-in-github",
        "colab_type": "text"
      },
      "source": [
        "<a href=\"https://colab.research.google.com/github/satoruk-icepp/MEG2XEC/blob/master/MEG2Reg.ipynb\" target=\"_parent\"><img src=\"https://colab.research.google.com/assets/colab-badge.svg\" alt=\"Open In Colab\"/></a>"
      ]
    },
    {
      "cell_type": "code",
      "metadata": {
        "id": "JdCOQWBz1SuB",
        "colab_type": "code",
        "outputId": "87841d4d-22eb-4c2a-b3fd-1e232937eadb",
        "colab": {
          "base_uri": "https://localhost:8080/",
          "height": 54
        }
      },
      "source": [
        "from google.colab import drive\n",
        "drive.mount('/content/drive')"
      ],
      "execution_count": 25,
      "outputs": [
        {
          "output_type": "stream",
          "text": [
            "Drive already mounted at /content/drive; to attempt to forcibly remount, call drive.mount(\"/content/drive\", force_remount=True).\n"
          ],
          "name": "stdout"
        }
      ]
    },
    {
      "cell_type": "code",
      "metadata": {
        "id": "UkZmERLgEDe2",
        "colab_type": "code",
        "outputId": "b2986c71-6faf-41cd-f0b5-d2794a416aa6",
        "colab": {
          "base_uri": "https://localhost:8080/",
          "height": 34
        }
      },
      "source": [
        "%%writefile .comet.config\n",
        "[comet]\n",
        "api_key=mIel5ZAPOioTs0Cij75dSSQXs\n",
        "logging_file = /tmp/comet.log\n",
        "logging_file_level = info\n"
      ],
      "execution_count": 26,
      "outputs": [
        {
          "output_type": "stream",
          "text": [
            "Overwriting .comet.config\n"
          ],
          "name": "stdout"
        }
      ]
    },
    {
      "cell_type": "code",
      "metadata": {
        "id": "9wNHxlzNEGOJ",
        "colab_type": "code",
        "outputId": "3a3065cb-d2f3-4aef-e5a2-9c5d1ff03955",
        "colab": {
          "base_uri": "https://localhost:8080/",
          "height": 406
        }
      },
      "source": [
        "! [ ! -z \"$COLAB_GPU\" ] && pip install skorch comet_ml"
      ],
      "execution_count": 27,
      "outputs": [
        {
          "output_type": "stream",
          "text": [
            "Requirement already satisfied: skorch in /usr/local/lib/python3.6/dist-packages (0.6.0)\n",
            "Requirement already satisfied: comet_ml in /usr/local/lib/python3.6/dist-packages (2.0.17)\n",
            "Requirement already satisfied: tqdm>=4.14.0 in /usr/local/lib/python3.6/dist-packages (from skorch) (4.28.1)\n",
            "Requirement already satisfied: scipy>=1.1.0 in /usr/local/lib/python3.6/dist-packages (from skorch) (1.3.1)\n",
            "Requirement already satisfied: scikit-learn>=0.19.1 in /usr/local/lib/python3.6/dist-packages (from skorch) (0.21.3)\n",
            "Requirement already satisfied: tabulate>=0.7.7 in /usr/local/lib/python3.6/dist-packages (from skorch) (0.8.5)\n",
            "Requirement already satisfied: numpy>=1.13.3 in /usr/local/lib/python3.6/dist-packages (from skorch) (1.17.3)\n",
            "Requirement already satisfied: nvidia-ml-py3>=7.352.0 in /usr/local/lib/python3.6/dist-packages (from comet_ml) (7.352.0)\n",
            "Requirement already satisfied: everett[ini]>=1.0.1; python_version >= \"3.0\" in /usr/local/lib/python3.6/dist-packages (from comet_ml) (1.0.2)\n",
            "Requirement already satisfied: six in /usr/local/lib/python3.6/dist-packages (from comet_ml) (1.12.0)\n",
            "Requirement already satisfied: requests>=2.18.4 in /usr/local/lib/python3.6/dist-packages (from comet_ml) (2.21.0)\n",
            "Requirement already satisfied: netifaces>=0.10.7 in /usr/local/lib/python3.6/dist-packages (from comet_ml) (0.10.9)\n",
            "Requirement already satisfied: comet-git-pure>=0.19.11 in /usr/local/lib/python3.6/dist-packages (from comet_ml) (0.19.13)\n",
            "Requirement already satisfied: websocket-client>=0.55.0 in /usr/local/lib/python3.6/dist-packages (from comet_ml) (0.56.0)\n",
            "Requirement already satisfied: jsonschema<3.1.0,>=2.6.0 in /usr/local/lib/python3.6/dist-packages (from comet_ml) (2.6.0)\n",
            "Requirement already satisfied: wurlitzer>=1.0.2 in /usr/local/lib/python3.6/dist-packages (from comet_ml) (2.0.0)\n",
            "Requirement already satisfied: joblib>=0.11 in /usr/local/lib/python3.6/dist-packages (from scikit-learn>=0.19.1->skorch) (0.14.0)\n",
            "Requirement already satisfied: configobj; extra == \"ini\" in /usr/local/lib/python3.6/dist-packages (from everett[ini]>=1.0.1; python_version >= \"3.0\"->comet_ml) (5.0.6)\n",
            "Requirement already satisfied: idna<2.9,>=2.5 in /usr/local/lib/python3.6/dist-packages (from requests>=2.18.4->comet_ml) (2.8)\n",
            "Requirement already satisfied: certifi>=2017.4.17 in /usr/local/lib/python3.6/dist-packages (from requests>=2.18.4->comet_ml) (2019.9.11)\n",
            "Requirement already satisfied: chardet<3.1.0,>=3.0.2 in /usr/local/lib/python3.6/dist-packages (from requests>=2.18.4->comet_ml) (3.0.4)\n",
            "Requirement already satisfied: urllib3<1.25,>=1.21.1 in /usr/local/lib/python3.6/dist-packages (from requests>=2.18.4->comet_ml) (1.24.3)\n"
          ],
          "name": "stdout"
        }
      ]
    },
    {
      "cell_type": "code",
      "metadata": {
        "id": "WTfFz2Z81Tz3",
        "colab_type": "code",
        "colab": {}
      },
      "source": [
        "from comet_ml import Experiment\n",
        "from datetime import datetime\n",
        "import pandas as pd\n",
        "import numpy as np\n",
        "import matplotlib.pyplot as plt\n",
        "import torch\n",
        "import torch.nn as nn\n",
        "import torch.nn.functional as F\n",
        "import torch.utils.data as utils\n",
        "import torch.optim as optim\n",
        "from torch.optim.lr_scheduler import MultiStepLR\n",
        "from tqdm import tqdm, tqdm_notebook\n",
        "from scipy.optimize import curve_fit"
      ],
      "execution_count": 0,
      "outputs": []
    },
    {
      "cell_type": "code",
      "metadata": {
        "id": "opEPrKJbzG8A",
        "colab_type": "code",
        "outputId": "1775fd8f-2c6a-41a6-fffc-31f8587c0d3d",
        "colab": {
          "base_uri": "https://localhost:8080/",
          "height": 840
        }
      },
      "source": [
        "experiment = Experiment(project_name=\"CWreg\")\n",
        "curtime = datetime.now().strftime(\"%Y%m%d-%H%M%S\")\n",
        "experiment.set_name(\"%s\"%(curtime))\n",
        "params={'batch_size' : 200,\n",
        "        'learning_rate':0.1,\n",
        "        'dropout_conv':0.05,\n",
        "        'dropout_fc':0.05,\n",
        "        'optim':\"Adam\",\n",
        "        'weight_decay':1e-05,\n",
        "        'Nresblock':4,\n",
        "        'Nsd':0,\n",
        "        'Wthreshold':np.log(0.2+1e-02)/2.5+1,\n",
        "        'weightstd':0.0001,\n",
        "        'Nlayer':32,\n",
        "        'Nfc':0,\n",
        "        'Nfcnodes':256,\n",
        "        'LRgamma':0.1\n",
        "}\n",
        "experiment.log_parameters(params)"
      ],
      "execution_count": 29,
      "outputs": [
        {
          "output_type": "stream",
          "text": [
            "COMET INFO: ----------------------------\n",
            "COMET INFO: Comet.ml Experiment Summary:\n",
            "COMET INFO:   Data:\n",
            "COMET INFO:     url: https://www.comet.ml/satoruk-icepp/cwreg/fa8ea0d5e900426882c264b9cf12ca5a\n",
            "COMET INFO:   Metrics [count] (min, max):\n",
            "COMET INFO:     sys.cpu.percent.01 [2]               : (13.5, 18.8)\n",
            "COMET INFO:     sys.cpu.percent.02 [2]               : (7.9, 10.7)\n",
            "COMET INFO:     sys.cpu.percent.03 [2]               : (7.9, 11.3)\n",
            "COMET INFO:     sys.cpu.percent.04 [2]               : (11.8, 83.2)\n",
            "COMET INFO:     sys.cpu.percent.avg [2]              : (11.600000000000001, 29.675)\n",
            "COMET INFO:     sys.gpu.0.free_memory [2]            : (17071734784.0, 17071734784.0)\n",
            "COMET INFO:     sys.gpu.0.gpu_utilization [2]        : (0.0, 0.0)\n",
            "COMET INFO:     sys.gpu.0.total_memory               : (17071734784.0, 17071734784.0)\n",
            "COMET INFO:     sys.gpu.0.used_memory [2]            : (0.0, 0.0)\n",
            "COMET INFO:     sys.ram.total [2]                    : (27395411968.0, 27395411968.0)\n",
            "COMET INFO:     sys.ram.used [2]                     : (678100992.0, 3463237632.0)\n",
            "COMET INFO:     train_learning_rate [5062]           : (0.00010000000000000003, 0.1)\n",
            "COMET INFO:     train_loss [107315]                  : (0.01581815630197525, 1.0765177011489868)\n",
            "COMET INFO:     train_sys.cpu.percent.01 [500]       : (0.7, 77.4)\n",
            "COMET INFO:     train_sys.cpu.percent.02 [500]       : (0.6, 84.5)\n",
            "COMET INFO:     train_sys.cpu.percent.03 [500]       : (0.6, 55.8)\n",
            "COMET INFO:     train_sys.cpu.percent.04 [500]       : (0.6, 99.4)\n",
            "COMET INFO:     train_sys.cpu.percent.avg [500]      : (0.775, 28.025000000000002)\n",
            "COMET INFO:     train_sys.gpu.0.free_memory [567]    : (12064784384.0, 12064784384.0)\n",
            "COMET INFO:     train_sys.gpu.0.gpu_utilization [567]: (0.0, 100.0)\n",
            "COMET INFO:     train_sys.gpu.0.used_memory [567]    : (5006950400.0, 5006950400.0)\n",
            "COMET INFO:     train_sys.ram.total [500]            : (27395411968.0, 27395411968.0)\n",
            "COMET INFO:     train_sys.ram.used [500]             : (10253795328.0, 13433905152.0)\n",
            "COMET INFO:     train_train_loss [5062]              : (0.017140429466962814, 1.080854058265686)\n",
            "COMET INFO:     train_train_loss_rec [5062]          : (0.01755399815738201, 0.03379121050238609)\n",
            "COMET INFO:     train_train_mse [5062]               : (0.14777271449565887, 5.200033187866211)\n",
            "COMET INFO:     train_train_mse_rec [5062]           : (0.15358591079711914, 0.4560036361217499)\n",
            "COMET INFO:     train_u_resolution [5061]            : (0.014259286224842072, 1.0714435577392578)\n",
            "COMET INFO:     train_u_resolution_lpf [5061]        : (0.014855850487947464, 0.014855852350592613)\n",
            "COMET INFO:     train_v_resolution [5061]            : (0.006275825202465057, 1.0854042768478394)\n",
            "COMET INFO:     train_v_resolution_lpf [5061]        : (0.0066483099944889545, 0.006648310460150242)\n",
            "COMET INFO:     train_val_loss [5061]                : (0.022683577612042427, 1.026392936706543)\n",
            "COMET INFO:     train_val_loss_rec [5061]            : (0.024318654090166092, 0.02431865781545639)\n",
            "COMET INFO:     train_val_mse [5061]                 : (0.24926435947418213, 4.881025791168213)\n",
            "COMET INFO:     train_val_mse_rec [5061]             : (0.2728809118270874, 0.2728809714317322)\n",
            "COMET INFO:     train_w_resolution [5061]            : (0.0972415953874588, 1.1492295265197754)\n",
            "COMET INFO:     train_w_resolution_lpf [5061]        : (0.10668457299470901, 0.10668458044528961)\n",
            "COMET INFO:   Other [count]:\n",
            "COMET INFO:     Name: 20191111-222753\n",
            "COMET INFO:   Uploads:\n",
            "COMET INFO:     figures: 507\n",
            "COMET INFO: ----------------------------\n",
            "COMET INFO: Experiment is live on comet.ml https://www.comet.ml/satoruk-icepp/cwreg/41105d47d09249deb4755918d8d09c9f\n",
            "\n"
          ],
          "name": "stderr"
        }
      ]
    },
    {
      "cell_type": "code",
      "metadata": {
        "id": "fUcYFNGQCMT3",
        "colab_type": "code",
        "colab": {}
      },
      "source": [
        "device = torch.device('cuda:0')"
      ],
      "execution_count": 0,
      "outputs": []
    },
    {
      "cell_type": "code",
      "metadata": {
        "id": "8hYAOaiY1nWx",
        "colab_type": "code",
        "colab": {}
      },
      "source": [
        "# csv_data  = pd.read_csv('/content/drive/My Drive/MEG2CW/fout.csv')\n",
        "# names=['E','U','V','W','PT','PP','UR','VR','WR']\n",
        "# PMnames = ['PM%d'%(i) for i in range(4760)]\n",
        "# names = names+PMnames\n",
        "# csv_data  = pd.read_csv('/content/drive/My Drive/MEG2CW/fout_norm.csv',names=names)\n",
        "csv_data  = pd.read_csv('/content/drive/My Drive/MEG2CW/fout_norm.csv')"
      ],
      "execution_count": 0,
      "outputs": []
    },
    {
      "cell_type": "code",
      "metadata": {
        "id": "o880tO_j2LsK",
        "colab_type": "code",
        "colab": {}
      },
      "source": [
        "print(csv_data.shape)\n",
        "print(params['Wthreshold'])\n",
        "# csv_data = csv_data[csv_data['w']<params['Wthreshold']]\n",
        "csv_data"
      ],
      "execution_count": 0,
      "outputs": []
    },
    {
      "cell_type": "code",
      "metadata": {
        "id": "6E8pdRH32YPJ",
        "colab_type": "code",
        "colab": {}
      },
      "source": [
        "csv_data_numpy = csv_data.to_numpy()\n",
        "del csv_data"
      ],
      "execution_count": 0,
      "outputs": []
    },
    {
      "cell_type": "code",
      "metadata": {
        "id": "0iCD9VPG5UBp",
        "colab_type": "code",
        "colab": {}
      },
      "source": [
        "Energy  = csv_data_numpy[:,0]\n",
        "UVW     = csv_data_numpy[:,1:4]\n",
        "DIR     = csv_data_numpy[:,4:6]\n",
        "UVWREC  = csv_data_numpy[:,6:9]\n",
        "PMResponse = csv_data_numpy[:,9:4101]"
      ],
      "execution_count": 0,
      "outputs": []
    },
    {
      "cell_type": "code",
      "metadata": {
        "id": "iUpGkRmH5xUl",
        "colab_type": "code",
        "colab": {}
      },
      "source": [
        "Energy     = Energy.reshape(-1,1)\n",
        "PMResponse = PMResponse.reshape(-1,93,44)\n",
        "indx_U = np.arange(-21.5,22.5)\n",
        "indx_V = np.arange(-46,47)\n",
        "# for i in np.arange(-21.5,22.5):\n",
        "PMU = (np.dot(np.sum(PMResponse[:],axis=1),indx_U)/np.sum(np.sum(PMResponse[:],axis=1),axis=1))/22\n",
        "PMV = (np.dot(np.sum(PMResponse[:],axis=2),indx_V)/np.sum(np.sum(PMResponse[:],axis=2),axis=1))/46.5\n",
        "PMU = PMU.reshape(-1,1)\n",
        "PMV = PMV.reshape(-1,1)\n",
        "PMURMS = np.sqrt(np.mean(np.square(np.sum(PMResponse[:],axis=1)),axis=1)).reshape(-1,1)\n",
        "PMVRMS = np.sqrt(np.mean(np.square(np.sum(PMResponse[:],axis=2)),axis=1)).reshape(-1,1)\n",
        "plt.hist2d(UVW[:,2],PMURMS.reshape(-1),bins=[40,40])\n",
        "ADD = np.concatenate((PMU,PMV,PMURMS,PMVRMS),axis=1)\n",
        "# print(ADD)"
      ],
      "execution_count": 0,
      "outputs": []
    },
    {
      "cell_type": "code",
      "metadata": {
        "id": "Jr8qby97dTE-",
        "colab_type": "code",
        "colab": {}
      },
      "source": [
        "del csv_data_numpy"
      ],
      "execution_count": 0,
      "outputs": []
    },
    {
      "cell_type": "code",
      "metadata": {
        "id": "VBCtjK5S_ro4",
        "colab_type": "code",
        "colab": {}
      },
      "source": [
        "PMResponse = PMResponse.reshape(-1,4092)\n",
        "# PMResponse = PMResponse/PMResponseScale"
      ],
      "execution_count": 0,
      "outputs": []
    },
    {
      "cell_type": "code",
      "metadata": {
        "id": "oU_4kZYGChlC",
        "colab_type": "code",
        "colab": {}
      },
      "source": [
        "Energy        = torch.tensor(Energy).float()\n",
        "UVW           = torch.tensor(UVW).float()\n",
        "DIR           = torch.tensor(DIR).float()\n",
        "ADD           = torch.tensor(ADD).float()\n",
        "UVWREC        = torch.tensor(UVWREC).float()\n",
        "PMResponse    = torch.tensor(PMResponse).float()"
      ],
      "execution_count": 0,
      "outputs": []
    },
    {
      "cell_type": "code",
      "metadata": {
        "id": "iYGwOp69_eMd",
        "colab_type": "code",
        "colab": {}
      },
      "source": [
        "from torch.utils.data.dataset import Subset\n",
        "BATCH_SIZE = params[\"batch_size\"]\n",
        "calo_dataset    = utils.TensorDataset(Energy,UVW,UVWREC,DIR,ADD,PMResponse)\n",
        "data_size =  len(calo_dataset)\n",
        "full_size = int(data_size/1000)*1000\n",
        "print(data_size)\n",
        "train_dataset = Subset(calo_dataset,list(range(0,int(0.8*full_size))))\n",
        "val_dataset = Subset(calo_dataset,list(range(int(0.8*full_size),full_size)))\n",
        "train_dataloader = torch.utils.data.DataLoader(train_dataset, \n",
        "                                              batch_size=BATCH_SIZE, \n",
        "                                              pin_memory=True, shuffle=True)\n",
        "val_dataloader = torch.utils.data.DataLoader(val_dataset, \n",
        "                                              batch_size=len(val_dataset), \n",
        "                                              pin_memory=True, shuffle=True)"
      ],
      "execution_count": 0,
      "outputs": []
    },
    {
      "cell_type": "code",
      "metadata": {
        "id": "_Xa9GjOIattu",
        "colab_type": "code",
        "colab": {}
      },
      "source": [
        "def normal_init(m, mean, std):\n",
        "    if isinstance(m, (nn.Linear, nn.Conv2d, nn.BatchNorm2d, nn.BatchNorm1d)):\n",
        "        m.weight.data.normal_(mean, std)\n",
        "        if m.bias.data is not None:\n",
        "            m.bias.data.zero_()"
      ],
      "execution_count": 0,
      "outputs": []
    },
    {
      "cell_type": "code",
      "metadata": {
        "id": "7TiG4ON2EEi1",
        "colab_type": "code",
        "colab": {}
      },
      "source": [
        "class ResidualBlock(nn.Module):\n",
        "    def __init__(self,input_size):\n",
        "        super(ResidualBlock, self).__init__()        \n",
        "        self.conv1 = nn.Conv2d(input_size,input_size,3,padding=1)\n",
        "        self.conv2 = nn.Conv2d(input_size,input_size,3,padding=1)\n",
        "        self.bn1 = nn.BatchNorm2d(self.conv1.out_channels)\n",
        "        self.bn2 = nn.BatchNorm2d(self.conv2.out_channels)        \n",
        "        self.activation = nn.LeakyReLU(0.0)\n",
        "    def forward(self,xraw):\n",
        "        x = self.activation(self.bn1(self.conv1(xraw)))\n",
        "        x = self.activation(self.bn2(self.conv2(x))+xraw)\n",
        "        return x"
      ],
      "execution_count": 0,
      "outputs": []
    },
    {
      "cell_type": "code",
      "metadata": {
        "id": "G0QEoDZM8OE1",
        "colab_type": "code",
        "colab": {}
      },
      "source": [
        "class Regressor(nn.Module):\n",
        "    def __init__(self, dropout_conv =0.0,dropout_fc=0.0,Nresblock=0,Nsd=0,Nlayer=32,Nfc=4,Nfcnodes=256):\n",
        "        super(Regressor, self).__init__()\n",
        "        # self.fc1 = nn.Linear(4092,256)\n",
        "        # self.conv1 = nn.Conv2d(1, Nlayer, kernel_size=(10,10), stride = 5, padding = (1,3))#(93+6,44+6)->24,12\n",
        "        # self.conv2 = nn.Conv2d(\n",
        "        #     self.conv1.out_channels, \n",
        "        #     self.conv1.out_channels*2, \n",
        "        #     kernel_size=(4, 3), \n",
        "        #     stride=2\n",
        "        #     # ,padding = (1,1)\n",
        "        # )#24*12->12*6\n",
        "        # self.conv3 = nn.Conv2d(\n",
        "        #     self.conv2.out_channels, \n",
        "        #     self.conv2.out_channels*2, \n",
        "        #     3\n",
        "        #     # ,stride=2\n",
        "        # )#12*6->6*3\n",
        "        self.conv1 = nn.Conv2d(1, Nlayer, kernel_size=(7,6), stride = 4, padding = (3,3))#(93+6,44+6)->24,12\n",
        "        self.conv2 = nn.Conv2d(\n",
        "            self.conv1.out_channels, \n",
        "            self.conv1.out_channels*2, \n",
        "            kernel_size=(4, 4), \n",
        "            stride=2\n",
        "            ,padding = (1,1)\n",
        "        )#24*12->12*6\n",
        "        self.conv3 = nn.Conv2d(\n",
        "            self.conv2.out_channels, \n",
        "            self.conv2.out_channels*2, \n",
        "            2\n",
        "            ,stride=2\n",
        "        )#12*6->6*3\n",
        "        self.convsd = nn.Conv2d(\n",
        "            self.conv1.out_channels, \n",
        "            self.conv1.out_channels, \n",
        "            3,\n",
        "            padding=1\n",
        "        )#12*6->6*3 \n",
        "        self.rb = ResidualBlock(self.conv1.out_channels)\n",
        "        self.fcstart = nn.Linear(self.conv3.out_channels*18+7,Nfcnodes)\n",
        "        self.Nfc = Nfc\n",
        "        self.fc=[nn.Linear(self.fcstart.out_features//2**i,self.fcstart.out_features//2**(i+1)).to(device) for i in range(self.Nfc)]\n",
        "        self.fcend = nn.Linear(self.fcstart.out_features//2**(Nfc),3)\n",
        "        \n",
        "        self.bn1 = nn.BatchNorm2d(self.conv1.out_channels)\n",
        "        self.bn2 = nn.BatchNorm2d(self.conv2.out_channels)\n",
        "        self.bn3 = nn.BatchNorm2d(self.conv3.out_channels)\n",
        "        self.dropout1 = nn.Dropout(dropout_conv)\n",
        "        self.dropoutfc = nn.Dropout(dropout_fc)\n",
        "        self.Nresblock = Nresblock\n",
        "        self.Nsd = Nsd\n",
        "        \n",
        "    def forward(self, x, uvw_rec):\n",
        "        # x = F.relu(self.dropout_fc1(self.fc1(x)))\n",
        "        x = x.view(x.shape[0],1,-1)\n",
        "        \n",
        "        # x_mppc,x_pmt = x.split(4092)\n",
        "        x = x.view(x.shape[0],1,93,44)\n",
        "        x = F.relu(self.bn1(self.conv1(x)))\n",
        "        for i in range(self.Nresblock):\n",
        "            x = self.dropout1(self.rb(x))\n",
        "        for i in range(self.Nsd):\n",
        "            x = F.relu(self.dropout1(self.bn1(self.convsd(x))))\n",
        "        x = F.relu(self.dropout1(self.bn2(self.conv2(x))))\n",
        "        x = F.relu(self.dropout1(self.bn3(self.conv3(x))))\n",
        "        \n",
        "        x = x.view(x.shape[0],self.conv3.out_channels*18)\n",
        "        x = torch.cat([x,uvw_rec],dim=1)\n",
        "        x = F.relu(self.fcstart(x))\n",
        "        for i in range(self.Nfc):\n",
        "            x = F.relu(self.dropoutfc(self.fc[i](x)))\n",
        "        # x = F.relu(self.dropoutfc(self.fc3(x)))\n",
        "        # x = F.relu(self.dropoutfc(self.fc4(x)))\n",
        "        x = self.fcend(x)\n",
        "        return torch.tanh(x)\n",
        "    def weight_init(self, mean, std):\n",
        "        for m in self._modules:\n",
        "            normal_init(self._modules[m], mean, std)"
      ],
      "execution_count": 0,
      "outputs": []
    },
    {
      "cell_type": "code",
      "metadata": {
        "id": "lYHrkeby_Xde",
        "colab_type": "code",
        "colab": {}
      },
      "source": [
        "model = Regressor(\n",
        "    params[\"dropout_conv\"],\n",
        "    params[\"dropout_fc\"],\n",
        "    params[\"Nresblock\"],\n",
        "    params[\"Nsd\"],\n",
        "    params['Nlayer'],\n",
        "    params['Nfc'],\n",
        "    params['Nfcnodes']\n",
        "    ).to(device)\n",
        "print(model)\n",
        "# model.weight_init(mean=0.0, std=params['weightstd'])"
      ],
      "execution_count": 0,
      "outputs": []
    },
    {
      "cell_type": "code",
      "metadata": {
        "id": "xsT0tiw2Cq0c",
        "colab_type": "code",
        "colab": {}
      },
      "source": [
        "# learning_rate = 0.001\n",
        "# opt = optim.Adam(regressor.parameters(), lr=learning_rate)\n",
        "opt = optim.Adam(model.parameters(), lr=params[\"learning_rate\"], weight_decay=params[\"weight_decay\"])\n",
        "scheduler = MultiStepLR(opt, milestones=[50,250,650], gamma=params[\"LRgamma\"])"
      ],
      "execution_count": 0,
      "outputs": []
    },
    {
      "cell_type": "code",
      "metadata": {
        "id": "VV8n2CduHEg8",
        "colab_type": "code",
        "colab": {}
      },
      "source": [
        "Energy_mean, UVW_mean, DIR_mean = Energy.mean(dim=0).to(device), UVW.mean(dim=0).to(device), DIR.mean(dim=0).to(device)\n",
        "EZRP_mean = torch.cat([Energy_mean, UVW_mean]).to(device)\n",
        "UVWDIR_mean = torch.cat([UVW_mean, DIR_mean]).to(device)\n",
        "def metric_relative_mse(y_pred,y_true):\n",
        "    y_true_mean = y_true.mean(dim=0)\n",
        "    # return (((y_true - y_pred).pow(2).mean(dim=0) / (y_true - EZRP_mean).pow(2).mean(dim=0)).sum()).sqrt()\n",
        "    return (((y_true - y_pred).pow(2).mean(dim=0) / (y_true - UVW_mean).pow(2).mean(dim=0)).sum()).sqrt()\n",
        "    # return (((y_true[:,2] - y_pred[:,2]).pow(2).mean(dim=0) / (y_true[:,2] - UVW_mean[2]).pow(2).mean(dim=0)).sum()).sqrt()\n",
        "    # return (((y_true - y_pred).pow(2).mean(dim=0) / (y_true - UVWDIR_mean).pow(2).mean(dim=0)).sum()).sqrt()\n",
        "    # return (((y_true - y_pred).pow(2).mean(dim=0) / (y_true - Energy_mean).pow(2).mean(dim=0)).sum()).sqrt()"
      ],
      "execution_count": 0,
      "outputs": []
    },
    {
      "cell_type": "code",
      "metadata": {
        "id": "Ue2O6r-2D1zZ",
        "colab_type": "code",
        "colab": {}
      },
      "source": [
        "# loss_fn = torch.nn.SmoothL1Loss().to(device)\n",
        "loss_fn = torch.nn.L1Loss().to(device)"
      ],
      "execution_count": 0,
      "outputs": []
    },
    {
      "cell_type": "code",
      "metadata": {
        "id": "LmJdk_POC9Mh",
        "colab_type": "code",
        "colab": {}
      },
      "source": [
        "def run_training(epochs=100):\n",
        "    # iterating over epochs...\n",
        "    for epoch in tqdm(range(epochs)):\n",
        "        first = True\n",
        "        for Energy_b, UVW_b, UVWREC_b, DIR_b,ADD_b, PMResponse_b in train_dataloader:\n",
        "        # moving them to device(for example, cuda-device)\n",
        "            Energy_b, UVW_b, UVWREC_b, DIR_b,ADD_b, PMResponse_b = Energy_b.to(device), \\\n",
        "                                            UVW_b.to(device), \\\n",
        "                                            UVWREC_b.to(device), \\\n",
        "                                            DIR_b.to(device), \\\n",
        "                                            ADD_b.to(device), \\\n",
        "                                            PMResponse_b.to(device)\n",
        "\n",
        "#             pred = regressor(EnergyDeposit_b)\n",
        "            model.train()\n",
        "            UVWDIR_b = torch.cat([UVW_b,DIR_b],dim=1)\n",
        "            UVWDIRrec_b = torch.cat([UVWREC_b,DIR_b],dim=1)\n",
        "            # pred = model(PMResponse_b,UVWREC_b)\n",
        "            # pred = model(PMResponse_b,torch.zeros(UVW_b.shape[0],3).to(device))\n",
        "            pred = model(PMResponse_b,torch.cat([ADD_b,UVWREC_b],dim=1))\n",
        "            # loss        = loss_fn(pred, torch.cat([ParticleMomentum_b, ParticlePoint_b], dim=1))\n",
        "            # loss        = loss_fn(pred, torch.cat([Energy_b,ZRP_b],dim=1))\n",
        "            loss        = loss_fn(pred, UVW_b)\n",
        "            loss_rec    = loss_fn(UVWREC_b, UVW_b)\n",
        "            # loss        = loss_fn(pred[:,2], UVW_b[:,2])\n",
        "            # loss_rec    = loss_fn(UVWREC_b[:,2], UVW_b[:,2])\n",
        "            # loss        = loss_fn(pred, Energy_b)\n",
        "\n",
        "            # model.train()\n",
        "            opt.zero_grad()\n",
        "            loss.backward()\n",
        "            opt.step()\n",
        "        \n",
        "        with torch.no_grad():\n",
        "            model.eval()\n",
        "            pred = model(PMResponse_b,torch.cat([ADD_b,UVWREC_b],dim=1))\n",
        "            train_mse       = metric_relative_mse(pred, UVW_b).item()\n",
        "            train_mse_rec   = metric_relative_mse(UVWREC_b, UVW_b).item()\n",
        "\n",
        "        if epoch%10==0:\n",
        "            plt.figure(figsize=(20,12))\n",
        "            grid = plt.GridSpec(3, 3, wspace=0.4, hspace=0.3)\n",
        "            for idim in range(3):\n",
        "                plt.subplot(grid[2,idim])\n",
        "                plt.hist2d(UVW_b[:,2].cpu().detach().numpy(),UVW_b[:,idim].cpu().detach().numpy()-pred[:,idim].cpu().detach().numpy(),\n",
        "                        range=[[-1,1],[-0.2,0.2]],\n",
        "                        bins = [40,40]\n",
        "                        )\n",
        "        \n",
        "        experiment.log_metric(\"learning_rate\", scheduler.get_lr(),step=epoch)\n",
        "        experiment.log_metric(\"train_loss\", loss.item(),step=epoch)\n",
        "        experiment.log_metric(\"train_mse\", train_mse,step=epoch)\n",
        "        experiment.log_metric(\"train_loss_rec\", loss_rec.item(),step=epoch)\n",
        "        experiment.log_metric(\"train_mse_rec\", train_mse_rec,step=epoch)\n",
        "        scheduler.step()\n",
        "        for Energy_b, UVW_b, UVWREC_b, DIR_b,ADD_b, PMResponse_b in val_dataloader:\n",
        "    # moving them to device(for example, cuda-device)\n",
        "            Energy_b, UVW_b, UVWREC_b, DIR_b,ADD_b, PMResponse_b = Energy_b.to(device), \\\n",
        "                                            UVW_b.to(device), \\\n",
        "                                            UVWREC_b.to(device), \\\n",
        "                                            DIR_b.to(device), \\\n",
        "                                            ADD_b.to(device), \\\n",
        "                                            PMResponse_b.to(device)\n",
        "\n",
        "            break\n",
        "\n",
        "#             pred = regressor(EnergyDeposit_b)\n",
        "        with torch.no_grad():\n",
        "            model.eval()\n",
        "            UVWDIR_b = torch.cat([UVW_b,DIR_b],dim=1)\n",
        "            UVWDIRrec_b = torch.cat([UVWREC_b,DIR_b],dim=1)\n",
        "            # pred = model(PMResponse_b,UVWREC_b)\n",
        "            # pred = model(PMResponse_b,torch.zeros(UVW_b.shape[0],3).to(device))\n",
        "            pred = model(PMResponse_b,torch.cat([ADD_b,UVWREC_b],dim=1))\n",
        "            val_loss        = loss_fn(pred, UVW_b)\n",
        "            val_loss_rec    = loss_fn(UVWREC_b, UVW_b)\n",
        "            val_mse       = metric_relative_mse(pred, UVW_b).item()\n",
        "            val_mse_rec   = metric_relative_mse(UVWREC_b, UVW_b).item()\n",
        "            # val_mse   = metric_relative_mse(pred, Energy_b).item()\n",
        "            # val_mse   = 0\n",
        "        experiment.log_metric(\"val_loss\", val_loss.item(),step=epoch)\n",
        "        experiment.log_metric(\"val_loss_rec\", val_loss_rec.item(),step=epoch)\n",
        "        experiment.log_metric(\"val_mse\", val_mse,step=epoch)\n",
        "        experiment.log_metric(\"val_mse_rec\", val_mse_rec,step=epoch)\n",
        "        resolution     =[np.sqrt(np.mean((UVW_b[:,idim].cpu().detach().numpy()-pred[:,idim].cpu().detach().numpy())**2)) for idim in range(3)]\n",
        "        resolution_lpf =[np.sqrt(np.mean((UVW_b[:,idim].cpu().detach().numpy()-UVWREC_b[:,idim].cpu().detach().numpy())**2)) for idim in range(3)]\n",
        "        experiment.log_metric(\"u_resolution\", resolution[0],step=epoch)\n",
        "        experiment.log_metric(\"v_resolution\", resolution[1],step=epoch)\n",
        "        experiment.log_metric(\"w_resolution\", resolution[2],step=epoch)\n",
        "        experiment.log_metric(\"u_resolution_lpf\", resolution_lpf[0],step=epoch)\n",
        "        experiment.log_metric(\"v_resolution_lpf\", resolution_lpf[1],step=epoch)\n",
        "        experiment.log_metric(\"w_resolution_lpf\", resolution_lpf[2],step=epoch)\n",
        "        if epoch%10==0:\n",
        "            # plt.figure(figsize=(20,12))\n",
        "            # grid = plt.GridSpec(2, 3, wspace=0.4, hspace=0.3)\n",
        "            for idim in range(3):\n",
        "                plt.subplot(grid[0,idim])\n",
        "                plt.hist(UVW_b[:,idim].cpu().detach().numpy()-pred[:,idim].cpu().detach().numpy(),range=(-0.1,0.1),bins=80)\n",
        "                plt.title(\"%f\"%(np.sqrt(np.mean((UVW_b[:,idim].cpu().detach().numpy()-pred[:,idim].cpu().detach().numpy())**2))))\n",
        "                plt.subplot(grid[1,idim])\n",
        "                plt.hist2d(UVW_b[:,2].cpu().detach().numpy(),UVW_b[:,idim].cpu().detach().numpy()-pred[:,idim].cpu().detach().numpy(),\n",
        "                        range=[[-1,1],[-0.1,0.1]],\n",
        "                        bins = [40,40]\n",
        "                        )\n",
        "            \n",
        "            experiment.log_figure(figure=plt)\n",
        "            plt.close()\n",
        "        "
      ],
      "execution_count": 0,
      "outputs": []
    },
    {
      "cell_type": "code",
      "metadata": {
        "id": "fp53YVEDD3Tz",
        "colab_type": "code",
        "colab": {}
      },
      "source": [
        "with experiment.train():\n",
        "    run_training(10000)"
      ],
      "execution_count": 0,
      "outputs": []
    },
    {
      "cell_type": "code",
      "metadata": {
        "id": "gv8G78FLfZd4",
        "colab_type": "code",
        "colab": {}
      },
      "source": [
        ""
      ],
      "execution_count": 0,
      "outputs": []
    }
  ]
}