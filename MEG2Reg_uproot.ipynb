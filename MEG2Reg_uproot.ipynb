{
  "nbformat": 4,
  "nbformat_minor": 0,
  "metadata": {
    "colab": {
      "name": "MEG2Reg_uproot.ipynb",
      "provenance": [],
      "collapsed_sections": [],
      "machine_shape": "hm",
      "include_colab_link": true
    },
    "kernelspec": {
      "name": "python3",
      "display_name": "Python 3"
    },
    "accelerator": "GPU"
  },
  "cells": [
    {
      "cell_type": "markdown",
      "metadata": {
        "id": "view-in-github",
        "colab_type": "text"
      },
      "source": [
        "<a href=\"https://colab.research.google.com/github/satoruk-icepp/MEG2XEC/blob/master/MEG2Reg_uproot.ipynb\" target=\"_parent\"><img src=\"https://colab.research.google.com/assets/colab-badge.svg\" alt=\"Open In Colab\"/></a>"
      ]
    },
    {
      "cell_type": "code",
      "metadata": {
        "id": "JdCOQWBz1SuB",
        "colab_type": "code",
        "outputId": "836a7fa1-7e7a-49a7-dae7-75c0b0076edd",
        "colab": {
          "base_uri": "https://localhost:8080/",
          "height": 122
        }
      },
      "source": [
        "from google.colab import drive\n",
        "drive.mount('/content/drive')"
      ],
      "execution_count": 1,
      "outputs": [
        {
          "output_type": "stream",
          "text": [
            "Go to this URL in a browser: https://accounts.google.com/o/oauth2/auth?client_id=947318989803-6bn6qk8qdgf4n4g3pfee6491hc0brc4i.apps.googleusercontent.com&redirect_uri=urn%3aietf%3awg%3aoauth%3a2.0%3aoob&response_type=code&scope=email%20https%3a%2f%2fwww.googleapis.com%2fauth%2fdocs.test%20https%3a%2f%2fwww.googleapis.com%2fauth%2fdrive%20https%3a%2f%2fwww.googleapis.com%2fauth%2fdrive.photos.readonly%20https%3a%2f%2fwww.googleapis.com%2fauth%2fpeopleapi.readonly\n",
            "\n",
            "Enter your authorization code:\n",
            "··········\n",
            "Mounted at /content/drive\n"
          ],
          "name": "stdout"
        }
      ]
    },
    {
      "cell_type": "code",
      "metadata": {
        "id": "UkZmERLgEDe2",
        "colab_type": "code",
        "outputId": "53d611a1-5b4c-4e0d-fcb6-6adc93618a60",
        "colab": {
          "base_uri": "https://localhost:8080/",
          "height": 34
        }
      },
      "source": [
        "%%writefile .comet.config\n",
        "[comet]\n",
        "api_key=mIel5ZAPOioTs0Cij75dSSQXs\n",
        "logging_file = /tmp/comet.log\n",
        "logging_file_level = info\n"
      ],
      "execution_count": 2,
      "outputs": [
        {
          "output_type": "stream",
          "text": [
            "Writing .comet.config\n"
          ],
          "name": "stdout"
        }
      ]
    },
    {
      "cell_type": "code",
      "metadata": {
        "id": "uIeCSaaMLuiR",
        "colab_type": "code",
        "outputId": "17f9a9df-c0c0-4df0-fe32-232e69191608",
        "colab": {
          "base_uri": "https://localhost:8080/",
          "height": 938
        }
      },
      "source": [
        "! [ ! -z \"$COLAB_GPU\" ] && pip install skorch comet_ml\n",
        "!pip install uproot"
      ],
      "execution_count": 3,
      "outputs": [
        {
          "output_type": "stream",
          "text": [
            "Collecting skorch\n",
            "\u001b[?25l  Downloading https://files.pythonhosted.org/packages/fb/1e/cc4e1f23cd1faab06672f309e0857294aaa80c5f84670f4d3d19b08ab10b/skorch-0.7.0-py3-none-any.whl (105kB)\n",
            "\u001b[K     |████████████████████████████████| 112kB 2.8MB/s \n",
            "\u001b[?25hCollecting comet_ml\n",
            "\u001b[?25l  Downloading https://files.pythonhosted.org/packages/99/c6/fac88f43f2aa61a09fee4ffb769c73fe93fe7de75764246e70967d31da09/comet_ml-3.0.2-py3-none-any.whl (170kB)\n",
            "\u001b[K     |████████████████████████████████| 174kB 8.4MB/s \n",
            "\u001b[?25hRequirement already satisfied: scikit-learn>=0.19.1 in /usr/local/lib/python3.6/dist-packages (from skorch) (0.22.1)\n",
            "Requirement already satisfied: tqdm>=4.14.0 in /usr/local/lib/python3.6/dist-packages (from skorch) (4.28.1)\n",
            "Requirement already satisfied: tabulate>=0.7.7 in /usr/local/lib/python3.6/dist-packages (from skorch) (0.8.6)\n",
            "Requirement already satisfied: scipy>=1.1.0 in /usr/local/lib/python3.6/dist-packages (from skorch) (1.4.1)\n",
            "Requirement already satisfied: numpy>=1.13.3 in /usr/local/lib/python3.6/dist-packages (from skorch) (1.17.5)\n",
            "Collecting comet-git-pure>=0.19.11\n",
            "\u001b[?25l  Downloading https://files.pythonhosted.org/packages/fa/91/b191ae375380332f82aaa83a41c45844ee1809198085cd267fbcb95cce86/comet_git_pure-0.19.14-py3-none-any.whl (401kB)\n",
            "\u001b[K     |████████████████████████████████| 409kB 10.6MB/s \n",
            "\u001b[?25hCollecting everett[ini]>=1.0.1; python_version >= \"3.0\"\n",
            "  Downloading https://files.pythonhosted.org/packages/12/34/de70a3d913411e40ce84966f085b5da0c6df741e28c86721114dd290aaa0/everett-1.0.2-py2.py3-none-any.whl\n",
            "Requirement already satisfied: requests>=2.18.4 in /usr/local/lib/python3.6/dist-packages (from comet_ml) (2.21.0)\n",
            "Requirement already satisfied: six in /usr/local/lib/python3.6/dist-packages (from comet_ml) (1.12.0)\n",
            "Collecting wurlitzer>=1.0.2\n",
            "  Downloading https://files.pythonhosted.org/packages/24/5e/f3bd8443bfdf96d2f5d10097d301076a9eb55637b7864e52d2d1a4d8c72a/wurlitzer-2.0.0-py2.py3-none-any.whl\n",
            "Collecting websocket-client>=0.55.0\n",
            "\u001b[?25l  Downloading https://files.pythonhosted.org/packages/4c/5f/f61b420143ed1c8dc69f9eaec5ff1ac36109d52c80de49d66e0c36c3dfdf/websocket_client-0.57.0-py2.py3-none-any.whl (200kB)\n",
            "\u001b[K     |████████████████████████████████| 204kB 10.9MB/s \n",
            "\u001b[?25hRequirement already satisfied: jsonschema<3.1.0,>=2.6.0 in /usr/local/lib/python3.6/dist-packages (from comet_ml) (2.6.0)\n",
            "Collecting netifaces>=0.10.7\n",
            "  Downloading https://files.pythonhosted.org/packages/0c/9b/c4c7eb09189548d45939a3d3a6b3d53979c67d124459b27a094c365c347f/netifaces-0.10.9-cp36-cp36m-manylinux1_x86_64.whl\n",
            "Requirement already satisfied: nvidia-ml-py3>=7.352.0 in /usr/local/lib/python3.6/dist-packages (from comet_ml) (7.352.0)\n",
            "Requirement already satisfied: joblib>=0.11 in /usr/local/lib/python3.6/dist-packages (from scikit-learn>=0.19.1->skorch) (0.14.1)\n",
            "Requirement already satisfied: urllib3>=1.24.1 in /usr/local/lib/python3.6/dist-packages (from comet-git-pure>=0.19.11->comet_ml) (1.24.3)\n",
            "Requirement already satisfied: certifi in /usr/local/lib/python3.6/dist-packages (from comet-git-pure>=0.19.11->comet_ml) (2019.11.28)\n",
            "Collecting configobj; extra == \"ini\"\n",
            "  Downloading https://files.pythonhosted.org/packages/64/61/079eb60459c44929e684fa7d9e2fdca403f67d64dd9dbac27296be2e0fab/configobj-5.0.6.tar.gz\n",
            "Requirement already satisfied: idna<2.9,>=2.5 in /usr/local/lib/python3.6/dist-packages (from requests>=2.18.4->comet_ml) (2.8)\n",
            "Requirement already satisfied: chardet<3.1.0,>=3.0.2 in /usr/local/lib/python3.6/dist-packages (from requests>=2.18.4->comet_ml) (3.0.4)\n",
            "Building wheels for collected packages: configobj\n",
            "  Building wheel for configobj (setup.py) ... \u001b[?25l\u001b[?25hdone\n",
            "  Created wheel for configobj: filename=configobj-5.0.6-cp36-none-any.whl size=34546 sha256=fb7c73b4cc848c801770c4bebce2e69ddffb7c29154bee26cbf947d8977b7c9f\n",
            "  Stored in directory: /root/.cache/pip/wheels/f1/e4/16/4981ca97c2d65106b49861e0b35e2660695be7219a2d351ee0\n",
            "Successfully built configobj\n",
            "Installing collected packages: skorch, comet-git-pure, configobj, everett, wurlitzer, websocket-client, netifaces, comet-ml\n",
            "Successfully installed comet-git-pure-0.19.14 comet-ml-3.0.2 configobj-5.0.6 everett-1.0.2 netifaces-0.10.9 skorch-0.7.0 websocket-client-0.57.0 wurlitzer-2.0.0\n",
            "Collecting uproot\n",
            "\u001b[?25l  Downloading https://files.pythonhosted.org/packages/49/c7/77d2f88dd7523992c9b6c3c785490d2ba0299ba09054190ce216fda7cf19/uproot-3.11.1-py2.py3-none-any.whl (114kB)\n",
            "\u001b[K     |████████████████████████████████| 122kB 2.8MB/s \n",
            "\u001b[?25hCollecting awkward<1.0,>=0.12.0\n",
            "\u001b[?25l  Downloading https://files.pythonhosted.org/packages/35/f3/d86d52275cfe131692c89558a22187e40cf111485154affac74d7509ee43/awkward-0.12.19-py2.py3-none-any.whl (87kB)\n",
            "\u001b[K     |████████████████████████████████| 92kB 12.6MB/s \n",
            "\u001b[?25hRequirement already satisfied: numpy>=1.13.1 in /usr/local/lib/python3.6/dist-packages (from uproot) (1.17.5)\n",
            "Requirement already satisfied: cachetools in /usr/local/lib/python3.6/dist-packages (from uproot) (4.0.0)\n",
            "Collecting uproot-methods>=0.7.0\n",
            "  Downloading https://files.pythonhosted.org/packages/3c/39/7867f279a8ca8a67ae8ca56c371dda6cc8e05dc01ac614f05586c857dfe2/uproot_methods-0.7.2-py2.py3-none-any.whl\n",
            "Installing collected packages: awkward, uproot-methods, uproot\n",
            "Successfully installed awkward-0.12.19 uproot-3.11.1 uproot-methods-0.7.2\n"
          ],
          "name": "stdout"
        }
      ]
    },
    {
      "cell_type": "code",
      "metadata": {
        "id": "WTfFz2Z81Tz3",
        "colab_type": "code",
        "colab": {}
      },
      "source": [
        "from comet_ml import Experiment\n",
        "from comet_ml.exceptions import InterruptedExperiment\n",
        "import uproot\n",
        "from datetime import datetime\n",
        "import pandas as pd\n",
        "import numpy as np\n",
        "import math\n",
        "import matplotlib.pyplot as plt\n",
        "from matplotlib.colors import LogNorm\n",
        "import torch\n",
        "import torch.nn as nn\n",
        "import torch.nn.functional as F\n",
        "import torch.utils.data as utils\n",
        "import torch.optim as optim\n",
        "from torch.optim.lr_scheduler import MultiStepLR,StepLR,CyclicLR,CosineAnnealingLR\n",
        "from torch.utils.data.dataset import Subset\n",
        "# from torch.utils.tensorboard import SummaryWriter\n",
        "from torchvision import datasets, transforms\n",
        "from tqdm import tqdm, tqdm_notebook\n",
        "from scipy.optimize import curve_fit"
      ],
      "execution_count": 0,
      "outputs": []
    },
    {
      "cell_type": "code",
      "metadata": {
        "id": "opEPrKJbzG8A",
        "colab_type": "code",
        "outputId": "aab15c1e-48aa-42e0-82a1-f73f167bd748",
        "colab": {
          "base_uri": "https://localhost:8080/",
          "height": 51
        }
      },
      "source": [
        "experiment = Experiment(project_name=\"CWreg\",log_code=True)\n",
        "curtime = datetime.now().strftime(\"%Y%m%d-%H%M%S\")\n",
        "experiment.set_name(\"%s\"%(curtime))\n",
        "params={'batch_size' : 200,\n",
        "        'train_size':20000,\n",
        "        'val_size':1000,\n",
        "        'dropout_conv':0.3,\n",
        "        'dropout_fc':0.05,\n",
        "        'optim':\"Adam\",\n",
        "        'weight_decay':1e-05,\n",
        "        'Nresblock':0,\n",
        "        'Nsd':0,\n",
        "        'Wthreshold':np.log(0.2+1e-02)/2.5+1,\n",
        "        'ethreshold':0.0,\n",
        "        'weightstd':0.01,\n",
        "        'Nlayer':16,\n",
        "        'Nfc':0,\n",
        "        'Nfcnodes':128,\n",
        "        'Nepoch':5000,\n",
        "        # 'learning_rate':0.0000001,# for lr_test\n",
        "        # 'LRgamma':10,# for lr_test\n",
        "        'stepsize_lr':1, # for lr_test\n",
        "        # \"LRtype\":\"Step\",\n",
        "        'learning_rate':0.01,\n",
        "        # 'LRgamma':0.3,\n",
        "        'LRgamma':0.995,\n",
        "        'milestones':[200,400,600,800,1000],\n",
        "        # \"LRtype\":\"MStep\",\n",
        "        # \"LRtype\":\"Cyclic\",\n",
        "        # \"LRtype\":\"CosA\",\n",
        "        \"LRtype\":\"CosExp\",\n",
        "        'stepsize_lr':100,\n",
        "        'stepsize_lr_down':29,\n",
        "        'ene_reg':False,\n",
        "        'pos_reg':True,\n",
        "        'shw_reg':False,\n",
        "        'base_lr':0.000001,\n",
        "        # 'max_lr':0.005,\n",
        "        \n",
        "        'UseLPF':False,\n",
        "        'DoBlind':False\n",
        "}\n",
        "experiment.log_parameters(params)"
      ],
      "execution_count": 5,
      "outputs": [
        {
          "output_type": "stream",
          "text": [
            "COMET INFO: Experiment is live on comet.ml https://www.comet.ml/satoruk-icepp/cwreg/1b2fc5bd942f4886b3996f7dd343de20\n",
            "\n"
          ],
          "name": "stderr"
        }
      ]
    },
    {
      "cell_type": "code",
      "metadata": {
        "id": "8hYAOaiY1nWx",
        "colab_type": "code",
        "colab": {}
      },
      "source": [
        "# csv_data  = pd.read_csv('/content/drive/My Drive/MEG2CW/fout.csv')\n",
        "# names=['E','U','V','W','PT','PP','UR','VR','WR']\n",
        "# PMnames = ['PM%d'%(i) for i in range(4760)]\n",
        "# names = names+PMnames\n",
        "# csv_data  = pd.read_csv('/content/drive/My Drive/MEG2CW/fout_norm.csv',names=names)\n",
        "# csv_data  = pd.read_csv('/content/drive/My Drive/MEG2CW/fout_norm.csv')\n",
        "file = uproot.open(\"/content/drive/My Drive/MEG2CW/test.root\")\n",
        "tout = file[\"tout\"]\n",
        "# file"
      ],
      "execution_count": 0,
      "outputs": []
    },
    {
      "cell_type": "code",
      "metadata": {
        "id": "fUcYFNGQCMT3",
        "colab_type": "code",
        "colab": {}
      },
      "source": [
        "device = torch.device('cuda:0')"
      ],
      "execution_count": 0,
      "outputs": []
    },
    {
      "cell_type": "code",
      "metadata": {
        "id": "0iCD9VPG5UBp",
        "colab_type": "code",
        "colab": {}
      },
      "source": [
        "Energy  = tout.array(\"energy\").reshape(-1,1)\n",
        "EneREC  = tout.array(\"nsum2\").reshape(-1,1)\n",
        "UVW     = tout.array(\"uvw_MC\").reshape(-1,3)\n",
        "DIR     = tout.array(\"gamangle\").reshape(-1,2)\n",
        "SHW     = tout.array(\"shw_vec\").reshape(-1,3)\n",
        "UVWREC  = tout.array(\"uvw_rec\").reshape(-1,3)\n",
        "PMResponse = tout.array(\"Npho\").reshape(-1,4760)"
      ],
      "execution_count": 0,
      "outputs": []
    },
    {
      "cell_type": "code",
      "metadata": {
        "id": "pBXM1qUdRLSE",
        "colab_type": "code",
        "outputId": "569cb546-e5dd-443c-9b33-3642cc07af7d",
        "colab": {
          "base_uri": "https://localhost:8080/",
          "height": 136
        }
      },
      "source": [
        "Energy"
      ],
      "execution_count": 9,
      "outputs": [
        {
          "output_type": "execute_result",
          "data": {
            "text/plain": [
              "array([[0.881     ],\n",
              "       [0.780469  ],\n",
              "       [0.85545005],\n",
              "       ...,\n",
              "       [0.881     ],\n",
              "       [0.881     ],\n",
              "       [0.63565946]])"
            ]
          },
          "metadata": {
            "tags": []
          },
          "execution_count": 9
        }
      ]
    },
    {
      "cell_type": "code",
      "metadata": {
        "id": "2guyklucOade",
        "colab_type": "code",
        "outputId": "86087085-6d72-46f8-af03-65d904d94c43",
        "colab": {
          "base_uri": "https://localhost:8080/",
          "height": 367
        }
      },
      "source": [
        "plt.hist(SHW[:,0])"
      ],
      "execution_count": 10,
      "outputs": [
        {
          "output_type": "execute_result",
          "data": {
            "text/plain": [
              "(array([8.6317e+04, 3.0860e+03, 2.9000e+02, 2.7000e+01, 5.0000e+00,\n",
              "        0.0000e+00, 0.0000e+00, 0.0000e+00, 0.0000e+00, 1.0000e+00]),\n",
              " array([1.00864507e-03, 2.11465684e-01, 4.21922723e-01, 6.32379762e-01,\n",
              "        8.42836800e-01, 1.05329384e+00, 1.26375088e+00, 1.47420792e+00,\n",
              "        1.68466496e+00, 1.89512199e+00, 2.10557903e+00]),\n",
              " <a list of 10 Patch objects>)"
            ]
          },
          "metadata": {
            "tags": []
          },
          "execution_count": 10
        },
        {
          "output_type": "display_data",
          "data": {
            "image/png": "[encoded data removed]",
            "text/plain": [
              "<Figure size 432x288 with 1 Axes>"
            ]
          },
          "metadata": {
            "tags": []
          }
        }
      ]
    },
    {
      "cell_type": "code",
      "metadata": {
        "id": "KcRFdIMHHwlS",
        "colab_type": "code",
        "outputId": "dcc70d23-abed-46ba-ac80-8ece55fb5155",
        "colab": {
          "base_uri": "https://localhost:8080/",
          "height": 367
        }
      },
      "source": [
        "plt.hist(Energy)"
      ],
      "execution_count": 11,
      "outputs": [
        {
          "output_type": "execute_result",
          "data": {
            "text/plain": [
              "(array([2.0100e+02, 2.5000e+01, 4.8100e+02, 9.4900e+02, 2.3180e+03,\n",
              "        8.1480e+03, 1.5320e+04, 6.1826e+04, 4.5200e+02, 6.0000e+00]),\n",
              " array([0.00425274, 0.11701414, 0.22977554, 0.34253694, 0.45529834,\n",
              "        0.56805974, 0.68082115, 0.79358255, 0.90634395, 1.01910535,\n",
              "        1.13186675]),\n",
              " <a list of 10 Patch objects>)"
            ]
          },
          "metadata": {
            "tags": []
          },
          "execution_count": 11
        },
        {
          "output_type": "display_data",
          "data": {
            "image/png": "[encoded data removed]",
            "text/plain": [
              "<Figure size 432x288 with 1 Axes>"
            ]
          },
          "metadata": {
            "tags": []
          }
        }
      ]
    },
    {
      "cell_type": "code",
      "metadata": {
        "id": "4AbgnoXHruGH",
        "colab_type": "code",
        "colab": {}
      },
      "source": [
        "# channellist=np.array([2*i for i in range(2380)])\n",
        "if params[\"DoBlind\"]:\n",
        "    allchannel =np.array([i for i in range(4760)])\n",
        "    channellist=np.loadtxt(\"/content/drive/My Drive/MEG2CW/pmlist.dat\",dtype=int,delimiter=',')\n",
        "    invalidch = set(allchannel)^set(channellist)\n",
        "    invalidch = list(invalidch)\n",
        "    len(invalidch)\n",
        "    # channellist[::4]=0\n",
        "    PMResponse[0,invalidch]=0"
      ],
      "execution_count": 0,
      "outputs": []
    },
    {
      "cell_type": "code",
      "metadata": {
        "id": "iUpGkRmH5xUl",
        "colab_type": "code",
        "outputId": "e28dc25b-69e7-4aaf-a4ff-7a63c6bd81fe",
        "colab": {
          "base_uri": "https://localhost:8080/",
          "height": 516
        }
      },
      "source": [
        "Energy     = Energy.reshape(-1,1)\n",
        "EneREC     = EneREC.reshape(-1,1)\n",
        "PMResponse_MPPC,PMResponse_PMT = np.split(PMResponse,[4092],axis=1)\n",
        "PMResponse_MPPC = PMResponse_MPPC.reshape(-1,93,44)\n",
        "\n",
        "plt.imshow(PMResponse_MPPC[0])\n",
        "plt.show()\n",
        "# indx_U = np.arange(-21.5,22.5)\n",
        "# indx_V = np.arange(-46,47)\n",
        "# for i in np.arange(-21.5,22.5):\n",
        "# PMU = (np.dot(np.sum(PMResponse_MPPC[:],axis=1),indx_U)/np.sum(np.sum(PMResponse_MPPC[:],axis=1),axis=1))/22\n",
        "# PMV = (np.dot(np.sum(PMResponse_MPPC[:],axis=2),indx_V)/np.sum(np.sum(PMResponse_MPPC[:],axis=2),axis=1))/46.5\n",
        "# PMU = PMU.reshape(-1,1)\n",
        "# PMV = PMV.reshape(-1,1)\n",
        "# PMURMS = np.sqrt(np.mean(np.square(np.sum(PMResponse_MPPC[:],axis=1)),axis=1)).reshape(-1,1)\n",
        "# PMVRMS = np.sqrt(np.mean(np.square(np.sum(PMResponse_MPPC[:],axis=2)),axis=1)).reshape(-1,1)\n",
        "# plt.hist2d(UVW[:,2],PMURMS.reshape(-1),bins=[40,40])\n",
        "# ADD = np.concatenate((PMU,PMV,PMURMS,PMVRMS),axis=1)\n",
        "COSST = 0.8*np.cos(np.pi*SHW[:,1]).reshape(-1,1)\n",
        "SINST = 0.8*np.sin(np.pi*SHW[:,1]).reshape(-1,1)\n",
        "COSSP = 0.8*np.cos(np.pi*SHW[:,2]).reshape(-1,1)\n",
        "SINSP = 0.8*np.sin(np.pi*SHW[:,2]).reshape(-1,1)\n",
        "SHW = np.concatenate((SHW[:,0].reshape(-1,1),COSST,SINST,COSSP,SINSP),axis=1)\n",
        "# print(ADD)"
      ],
      "execution_count": 14,
      "outputs": [
        {
          "output_type": "display_data",
          "data": {
            "image/png": "[encoded data removed]",
            "text/plain": [
              "<Figure size 432x288 with 1 Axes>"
            ]
          },
          "metadata": {
            "tags": []
          }
        },
        {
          "output_type": "display_data",
          "data": {
            "image/png": "[encoded data removed]",
            "text/plain": [
              "<Figure size 432x288 with 1 Axes>"
            ]
          },
          "metadata": {
            "tags": []
          }
        }
      ]
    },
    {
      "cell_type": "code",
      "metadata": {
        "id": "Jr8qby97dTE-",
        "colab_type": "code",
        "colab": {}
      },
      "source": [
        "# del csv_data_numpy"
      ],
      "execution_count": 0,
      "outputs": []
    },
    {
      "cell_type": "code",
      "metadata": {
        "id": "VBCtjK5S_ro4",
        "colab_type": "code",
        "colab": {}
      },
      "source": [
        "PMResponse = PMResponse.reshape(-1,4760)\n",
        "# PMResponse = PMResponse/PMResponseScale"
      ],
      "execution_count": 0,
      "outputs": []
    },
    {
      "cell_type": "code",
      "metadata": {
        "id": "oU_4kZYGChlC",
        "colab_type": "code",
        "colab": {}
      },
      "source": [
        "Energy        = torch.tensor(Energy).float()\n",
        "EneREC        = torch.tensor(EneREC).float()\n",
        "UVW           = torch.tensor(UVW).float()\n",
        "DIR           = torch.tensor(DIR).float()\n",
        "SHW           = torch.tensor(SHW).float()\n",
        "# ADD           = torch.tensor(ADD).float()\n",
        "UVWREC        = torch.tensor(UVWREC).float()\n",
        "PMResponse    = torch.tensor(PMResponse).float()"
      ],
      "execution_count": 0,
      "outputs": []
    },
    {
      "cell_type": "code",
      "metadata": {
        "id": "iYGwOp69_eMd",
        "colab_type": "code",
        "outputId": "218c20ae-eead-46f2-f735-22c2f4018251",
        "colab": {
          "base_uri": "https://localhost:8080/",
          "height": 34
        }
      },
      "source": [
        "# from torch.utils.data.dataset import Subset\n",
        "BATCH_SIZE = params[\"batch_size\"]\n",
        "calo_dataset    = utils.TensorDataset(Energy,EneREC,UVW,UVWREC,DIR,SHW,PMResponse)\n",
        "data_size =  len(calo_dataset)\n",
        "full_size = int(data_size//1000)*1000\n",
        "val_size = 500\n",
        "print(data_size)\n",
        "# train_dataset = Subset(calo_dataset,list(range(0,full_size-val_size)))\n",
        "# val_dataset = Subset(calo_dataset,list(range(full_size-val_size,full_size)))\n",
        "train_dataset = Subset(calo_dataset,list(range(0,params[\"train_size\"])))\n",
        "val_dataset = Subset(calo_dataset,list(range(params[\"train_size\"],params[\"train_size\"]+params[\"val_size\"])))\n",
        "train_dataloader = torch.utils.data.DataLoader(train_dataset, \n",
        "                                              batch_size=BATCH_SIZE, \n",
        "                                              pin_memory=True, shuffle=True)\n",
        "val_dataloader = torch.utils.data.DataLoader(val_dataset, \n",
        "                                              batch_size=len(val_dataset), \n",
        "                                              pin_memory=True, shuffle=True)\n"
      ],
      "execution_count": 18,
      "outputs": [
        {
          "output_type": "stream",
          "text": [
            "89726\n"
          ],
          "name": "stdout"
        }
      ]
    },
    {
      "cell_type": "code",
      "metadata": {
        "id": "_Xa9GjOIattu",
        "colab_type": "code",
        "colab": {}
      },
      "source": [
        "# def normal_init(m, mean, std):\n",
        "#     if isinstance(m, (nn.Linear, nn.Conv2d, nn.BatchNorm2d, nn.BatchNorm1d)):\n",
        "#         m.weight.data.normal_(mean, std)\n",
        "#         if m.bias.data is not None:\n",
        "#             m.bias.data.zero_()"
      ],
      "execution_count": 0,
      "outputs": []
    },
    {
      "cell_type": "code",
      "metadata": {
        "id": "7TiG4ON2EEi1",
        "colab_type": "code",
        "colab": {}
      },
      "source": [
        "import sys\n",
        "sys.path.append('/content/drive/My Drive/PySource/')\n",
        "from NetworkUtil import ResidualBlock\n",
        "from CosineExp import CosineExpLR\n",
        "from NetworkUtil import normal_init\n",
        "from Regressor_MEG import Regressor_MEG"
      ],
      "execution_count": 0,
      "outputs": []
    },
    {
      "cell_type": "code",
      "metadata": {
        "id": "nrDoA6uVJDy8",
        "colab_type": "code",
        "colab": {}
      },
      "source": [
        "# class Regressor(nn.Module):\n",
        "#     def __init__(self, dropout_conv =0.0,dropout_fc=0.0,Nresblock=0,Nsd=0,Nlayer=32,Nfc=4,Nfcnodes=256,UseLPF=False):\n",
        "#         super(Regressor, self).__init__()\n",
        "#         # self.rconv1 = ReducedConv(1,Nlayer,)\n",
        "#         self.conv1 = nn.Conv2d(\n",
        "#             1, \n",
        "#             Nlayer, \n",
        "#             kernel_size=3, \n",
        "#             padding = 2\n",
        "#             )#(93+4,44+4)->95,46\n",
        "#         self.conv2 = nn.Conv2d(\n",
        "#             self.conv1.out_channels, \n",
        "#             self.conv1.out_channels*2, \n",
        "#             kernel_size=(5, 4), \n",
        "#             stride=2\n",
        "#         )#95,46->46*22\n",
        "#         self.conv3 = nn.Conv2d(\n",
        "#             self.conv2.out_channels, \n",
        "#             self.conv2.out_channels*2, \n",
        "#             4\n",
        "#             ,stride=2\n",
        "#         )#46*22->22,10\n",
        "#         self.conv4 = nn.Conv2d(\n",
        "#             self.conv3.out_channels, \n",
        "#             self.conv3.out_channels*2, \n",
        "#             4\n",
        "#             ,stride=2\n",
        "#         )#22*10->10,4\n",
        "#         self.convsd = nn.Conv2d(\n",
        "#             self.conv1.out_channels, \n",
        "#             self.conv1.out_channels, \n",
        "#             3,\n",
        "#             padding=1\n",
        "#         )#6*6->6*3 \n",
        "#         self.rb = ResidualBlock(self.conv1.out_channels)\n",
        "#         self.UseLPF = UseLPF\n",
        "#         if self.UseLPF:\n",
        "#             self.fcstart = nn.Linear(self.conv4.out_channels*40+668+7,Nfcnodes)\n",
        "#         else:\n",
        "#             self.fcstart = nn.Linear(self.conv4.out_channels*40+668+4,Nfcnodes)\n",
        "#         # self.fcstart = nn.Linear(self.conv4.out_channels*40+668+4,Nfcnodes)\n",
        "#         self.Nfc = Nfc\n",
        "#         self.fc=[nn.Linear(self.fcstart.out_features//2**i,self.fcstart.out_features//2**(i+1)).to(device) for i in range(self.Nfc)]\n",
        "#         self.fcend = nn.Linear(self.fcstart.out_features//2**(Nfc),9)\n",
        "        \n",
        "#         self.bn1 = nn.BatchNorm2d(self.conv1.out_channels)\n",
        "#         self.bn2 = nn.BatchNorm2d(self.conv2.out_channels)\n",
        "#         self.bn3 = nn.BatchNorm2d(self.conv3.out_channels)\n",
        "#         self.bn4 = nn.BatchNorm2d(self.conv4.out_channels)\n",
        "#         self.dropout1 = nn.Dropout(dropout_conv)\n",
        "#         self.dropoutfc = nn.Dropout(dropout_fc)\n",
        "#         self.Nresblock = Nresblock\n",
        "#         self.Nsd = Nsd\n",
        "        \n",
        "#     def forward(self, x, add):\n",
        "#         x = x.view(x.shape[0],-1)\n",
        "#         x_mppc,x_pmt = torch.split(x,4092,dim=1)\n",
        "#         x_mppc = x_mppc.view(x_mppc.shape[0],1,93,44)\n",
        "#         x_mppc = F.relu(self.bn1(self.conv1(x_mppc)))\n",
        "#         for i in range(self.Nresblock):\n",
        "#             x_mppc = self.dropout1(self.rb(x_mppc))\n",
        "#         for i in range(self.Nsd):\n",
        "#             x_mppc = F.relu(self.dropout1(self.bn1(self.convsd(x_mppc))))\n",
        "#         x_mppc = F.relu(self.dropout1(self.bn2(self.conv2(x_mppc))))\n",
        "#         x_mppc = F.relu(self.dropout1(self.bn3(self.conv3(x_mppc))))\n",
        "#         x_mppc = F.relu(self.dropout1(self.bn4(self.conv4(x_mppc))))\n",
        "        \n",
        "#         x_mppc = x_mppc.view(x_mppc.shape[0],self.conv4.out_channels*40)\n",
        "#         x = torch.cat([x_mppc,x_pmt,add],dim=1)\n",
        "#         x = F.relu(self.fcstart(x))\n",
        "#         for i in range(self.Nfc):\n",
        "#             x = F.relu(self.dropoutfc(self.fc[i](x)))\n",
        "#         # x = F.relu(self.dropoutfc(self.fc3(x)))\n",
        "#         # x = F.relu(self.dropoutfc(self.fc4(x)))\n",
        "#         x = self.fcend(x)\n",
        "#         return torch.tanh(x)\n",
        "#     def weight_init(self, mean, std):\n",
        "#         for m in self._modules:\n",
        "#             normal_init(self._modules[m], mean, std)"
      ],
      "execution_count": 0,
      "outputs": []
    },
    {
      "cell_type": "code",
      "metadata": {
        "id": "lYHrkeby_Xde",
        "colab_type": "code",
        "outputId": "bff1cca3-20a6-4ff1-b2f8-0d65f2a95d36",
        "colab": {
          "base_uri": "https://localhost:8080/",
          "height": 391
        }
      },
      "source": [
        "model = Regressor_MEG(\n",
        "    params[\"dropout_conv\"],\n",
        "    params[\"dropout_fc\"],\n",
        "    params[\"Nresblock\"],\n",
        "    params[\"Nsd\"],\n",
        "    params['Nlayer'],\n",
        "    params['Nfc'],\n",
        "    params['Nfcnodes']\n",
        "    ).to(device)\n",
        "    \n",
        "print(model)\n",
        "model.weight_init(mean=0.0, std=params['weightstd'])"
      ],
      "execution_count": 22,
      "outputs": [
        {
          "output_type": "stream",
          "text": [
            "Regressor(\n",
            "  (conv1): Conv2d(1, 16, kernel_size=(3, 3), stride=(1, 1), padding=(2, 2))\n",
            "  (conv2): Conv2d(16, 32, kernel_size=(5, 4), stride=(2, 2))\n",
            "  (conv3): Conv2d(32, 64, kernel_size=(4, 4), stride=(2, 2))\n",
            "  (conv4): Conv2d(64, 128, kernel_size=(4, 4), stride=(2, 2))\n",
            "  (convsd): Conv2d(16, 16, kernel_size=(3, 3), stride=(1, 1), padding=(1, 1))\n",
            "  (rb): ResidualBlock(\n",
            "    (conv1): Conv2d(16, 16, kernel_size=(3, 3), stride=(1, 1), padding=(1, 1))\n",
            "    (conv2): Conv2d(16, 16, kernel_size=(3, 3), stride=(1, 1), padding=(1, 1))\n",
            "    (bn1): BatchNorm2d(16, eps=1e-05, momentum=0.1, affine=True, track_running_stats=True)\n",
            "    (bn2): BatchNorm2d(16, eps=1e-05, momentum=0.1, affine=True, track_running_stats=True)\n",
            "    (activation): LeakyReLU(negative_slope=0.0)\n",
            "  )\n",
            "  (fcstart): Linear(in_features=5792, out_features=128, bias=True)\n",
            "  (fcend): Linear(in_features=128, out_features=9, bias=True)\n",
            "  (bn1): BatchNorm2d(16, eps=1e-05, momentum=0.1, affine=True, track_running_stats=True)\n",
            "  (bn2): BatchNorm2d(32, eps=1e-05, momentum=0.1, affine=True, track_running_stats=True)\n",
            "  (bn3): BatchNorm2d(64, eps=1e-05, momentum=0.1, affine=True, track_running_stats=True)\n",
            "  (bn4): BatchNorm2d(128, eps=1e-05, momentum=0.1, affine=True, track_running_stats=True)\n",
            "  (dropout1): Dropout(p=0.3, inplace=False)\n",
            "  (dropoutfc): Dropout(p=0.05, inplace=False)\n",
            ")\n"
          ],
          "name": "stdout"
        }
      ]
    },
    {
      "cell_type": "code",
      "metadata": {
        "id": "xsT0tiw2Cq0c",
        "colab_type": "code",
        "colab": {}
      },
      "source": [
        "# learning_rate = 0.001\n",
        "# opt = optim.Adam(regressor.parameters(), lr=learning_rate)\n",
        "opt = optim.Adam(model.parameters(), lr=params[\"learning_rate\"], weight_decay=params[\"weight_decay\"])\n",
        "if params[\"LRtype\"]==\"Cyclic\":\n",
        "    scheduler = CyclicLR(opt, params[\"base_lr\"],params[\"learning_rate\"],\n",
        "                         step_size_up=params[\"stepsize_lr\"],\n",
        "                         step_size_down=params[\"stepsize_lr_down\"],\n",
        "                         cycle_momentum=False,mode=\"exp_range\",gamma = params[\"LRgamma\"])\n",
        "elif params[\"LRtype\"]==\"MStep\":\n",
        "    scheduler = MultiStepLR(opt, milestones=params[\"milestones\"], gamma=params[\"LRgamma\"])\n",
        "elif params[\"LRtype\"]==\"Step\":\n",
        "    scheduler = StepLR(opt,step_size=params[\"stepsize_lr\"],gamma=params[\"LRgamma\"])\n",
        "elif params[\"LRtype\"]==\"CosA\":\n",
        "    scheduler = CosineAnnealingLR(opt,T_max=params[\"stepsize_lr\"],eta_min=params[\"base_lr\"])\n",
        "elif params[\"LRtype\"]==\"CosExp\":\n",
        "    scheduler = CosineExpLR(opt,T_max=params[\"stepsize_lr\"],eta_min=params[\"base_lr\"],gamma = params[\"LRgamma\"])"
      ],
      "execution_count": 0,
      "outputs": []
    },
    {
      "cell_type": "code",
      "metadata": {
        "id": "VV8n2CduHEg8",
        "colab_type": "code",
        "colab": {}
      },
      "source": [
        "Energy_mean, UVW_mean, DIR_mean,SHW_mean = Energy.mean(dim=0).to(device), UVW.mean(dim=0).to(device), DIR.mean(dim=0).to(device),SHW.mean(dim=0).to(device)\n",
        "UVWE_mean = torch.cat([UVW_mean,Energy_mean]).to(device)\n",
        "UVWESHW_mean = torch.cat([UVW_mean,Energy_mean,SHW_mean]).to(device)\n",
        "UVWDIR_mean = torch.cat([UVW_mean, DIR_mean]).to(device)\n",
        "def metric_relative_mse(y_pred,y_true):\n",
        "    y_true_mean = y_true.mean(dim=0)\n",
        "    # return (((y_true - y_pred).pow(2).mean(dim=0) / (y_true - UVWE_mean).pow(2).mean(dim=0)).sum()).sqrt()\n",
        "    return (((y_true - y_pred).pow(2).mean(dim=0) / (y_true - UVWESHW_mean).pow(2).mean(dim=0)).sum()).sqrt()\n",
        "    # return (((y_true - y_pred).pow(2).mean(dim=0) / (y_true - UVWESHW_mean).pow(2).mean(dim=0)).sum()).sqrt()\n",
        "    # return (((y_true - y_pred).pow(2).mean(dim=0) / (y_true - UVW_mean).pow(2).mean(dim=0)).sum()).sqrt()\n",
        "    # return (((y_true[:,2] - y_pred[:,2]).pow(2).mean(dim=0) / (y_true[:,2] - UVW_mean[2]).pow(2).mean(dim=0)).sum()).sqrt()\n",
        "    # return (((y_true - y_pred).pow(2).mean(dim=0) / (y_true - UVWDIR_mean).pow(2).mean(dim=0)).sum()).sqrt()\n",
        "    # return (((y_true - y_pred).pow(2).mean(dim=0) / (y_true - Energy_mean).pow(2).mean(dim=0)).sum()).sqrt()"
      ],
      "execution_count": 0,
      "outputs": []
    },
    {
      "cell_type": "code",
      "metadata": {
        "id": "Ue2O6r-2D1zZ",
        "colab_type": "code",
        "colab": {}
      },
      "source": [
        "# loss_fn = torch.nn.SmoothL1Loss().to(device)\n",
        "loss_fn = torch.nn.L1Loss().to(device)"
      ],
      "execution_count": 0,
      "outputs": []
    },
    {
      "cell_type": "code",
      "metadata": {
        "id": "LmJdk_POC9Mh",
        "colab_type": "code",
        "colab": {}
      },
      "source": [
        "ranges=[2,2,4,2,3,50,50]\n",
        "\n",
        "def run_training(epochs=100):\n",
        "    # iterating over epochs...\n",
        "    ibatch = 0\n",
        "    for epoch in tqdm(range(epochs)):\n",
        "        first = True\n",
        "        with experiment.train():\n",
        "            for Energy_b, EneREC_b, UVW_b, UVWREC_b, DIR_b, SHW_b,  PMResponse_b in train_dataloader:\n",
        "            # moving them to device(for example, cuda-device)\n",
        "                Energy_b, EneREC_b, UVW_b, UVWREC_b, DIR_b, SHW_b,  PMResponse_b = Energy_b.to(device), \\\n",
        "                                                EneREC_b.to(device), \\\n",
        "                                                UVW_b.to(device), \\\n",
        "                                                UVWREC_b.to(device), \\\n",
        "                                                DIR_b.to(device), \\\n",
        "                                                SHW_b.to(device), \\\n",
        "                                                PMResponse_b.to(device)\n",
        "\n",
        "    #             pred = regressor(EnergyDeposit_b)\n",
        "                model.train()\n",
        "                UVWDIR_b = torch.cat([UVW_b,DIR_b],dim=1)\n",
        "                UVWDIRrec_b = torch.cat([UVWREC_b,DIR_b],dim=1)\n",
        "                # if params[\"UseLPF\"]:\n",
        "                #     pred = model(PMResponse_b,torch.cat([ADD_b,UVWREC_b],dim=1))\n",
        "                # else:\n",
        "                #     pred = model(PMResponse_b,ADD_b)\n",
        "                if params[\"pos_reg\"] and params[\"shw_reg\"]:\n",
        "                    TGT_b = torch.cat([UVW_b,SHW_b])\n",
        "                elif params[\"pos_reg\"]:\n",
        "                    TGT_b = UVW_b\n",
        "                loss            = loss_fn(pred, TGT_b)\n",
        "                # loss_rec        = loss_fn(torch.cat([UVWREC_b,EneREC_b,SHW_b],dim=1), torch.cat([UVW_b,Energy_b,SHW_b],dim=1))\n",
        "                # loss        = loss_fn(pred[:,0:3], UVW_b)\n",
        "                # loss_rec    = loss_fn(UVWREC_b, UVW_b)\n",
        "                # loss        = loss_fn(pred, Energy_b)\n",
        "\n",
        "                # model.train()\n",
        "                opt.zero_grad()\n",
        "                loss.backward()\n",
        "                opt.step()\n",
        "                # if params[\"LRtype\"]==\"Cyclic\":\n",
        "                #     scheduler.step()\n",
        "                ibatch+=1\n",
        "            experiment.log_metric(\"learning_rate\", scheduler.get_lr(),step=epoch)\n",
        "            # if params[\"LRtype\"]!=\"Cyclic\":\n",
        "            scheduler.step()\n",
        "            with torch.no_grad():\n",
        "                model.eval()\n",
        "                if params[\"UseLPF\"]:\n",
        "                    pred = model(PMResponse_b,torch.cat([ADD_b,UVWREC_b],dim=1))\n",
        "                else:\n",
        "                    pred = model(PMResponse_b,ADD_b)\n",
        "                # train_mse       = metric_relative_mse(pred, UVW_b).item()\n",
        "                # train_mse_rec   = metric_relative_mse(UVWREC_b, UVW_b).item()\n",
        "                train_mse            = metric_relative_mse(pred, torch.cat([UVW_b,Energy_b,SHW_b],dim=1)).item()\n",
        "                train_mse_rec        = metric_relative_mse(torch.cat([UVWREC_b,EneREC_b,SHW_b],dim=1), torch.cat([UVW_b,Energy_b,SHW_b],dim=1)).item()\n",
        "            \n",
        "            experiment.log_metric(\"train_loss\", loss.item(),step=epoch)\n",
        "            experiment.log_metric(\"train_mse\", train_mse,step=epoch)\n",
        "            experiment.log_metric(\"train_loss_rec\", loss_rec.item(),step=epoch)\n",
        "            experiment.log_metric(\"train_mse_rec\", train_mse_rec,step=epoch)\n",
        "        # scheduler.step()\n",
        "        with experiment.test():\n",
        "            for Energy_b, EneREC_b,  UVW_b, UVWREC_b, DIR_b, SHW_b, ADD_b, PMResponse_b in val_dataloader:\n",
        "        # moving them to device(for example, cuda-device)\n",
        "                Energy_b, EneREC_b,  UVW_b, UVWREC_b, DIR_b, SHW_b, ADD_b, PMResponse_b = Energy_b.to(device), \\\n",
        "                                                EneREC_b.to(device), \\\n",
        "                                                UVW_b.to(device), \\\n",
        "                                                UVWREC_b.to(device), \\\n",
        "                                                DIR_b.to(device), \\\n",
        "                                                SHW_b.to(device), \\\n",
        "                                                ADD_b.to(device), \\\n",
        "                                                PMResponse_b.to(device)\n",
        "\n",
        "                break\n",
        "\n",
        "    #             pred = regressor(EnergyDeposit_b)\n",
        "            with torch.no_grad():\n",
        "                model.eval()\n",
        "                # UVWDIR_b = torch.cat([UVW_b,DIR_b],dim=1)\n",
        "                # UVWDIRrec_b = torch.cat([UVWREC_b,DIR_b],dim=1)\n",
        "                # pred = model(PMResponse_b,UVWREC_b)\n",
        "                # pred = model(PMResponse_b,torch.zeros(UVW_b.shape[0],3).to(device))\n",
        "                # pred = model(PMResponse_b,ADD_b)\n",
        "                if params[\"UseLPF\"]:\n",
        "                    pred = model(PMResponse_b,torch.cat([ADD_b,UVWREC_b],dim=1))\n",
        "                else:\n",
        "                    pred = model(PMResponse_b,ADD_b)\n",
        "                # print(pred)\n",
        "                # pred = model(PMResponse_b,torch.cat([ADD_b,UVWREC_b],dim=1))\n",
        "                # val_loss        = loss_fn(pred[:,0:3], UVW_b)\n",
        "                # val_loss_rec    = loss_fn(UVWREC_b, UVW_b)\n",
        "                # val_mse       = metric_relative_mse(pred, UVW_b).item()\n",
        "                # val_mse_rec   = metric_relative_mse(UVWREC_b, UVW_b).item()\n",
        "                # val_loss            = loss_fn(pred, torch.cat([UVW_b,Energy_b],dim=1))\n",
        "                # val_loss_rec        = loss_fn(torch.cat([UVWREC_b,EneREC_b],dim=1), torch.cat([UVW_b,Energy_b],dim=1))\n",
        "                val_loss            = loss_fn(pred, torch.cat([UVW_b,Energy_b,SHW_b],dim=1))\n",
        "                val_loss_rec        = loss_fn(torch.cat([UVWREC_b,EneREC_b,SHW_b],dim=1), torch.cat([UVW_b,Energy_b,SHW_b],dim=1))\n",
        "                val_mse            = metric_relative_mse(pred, torch.cat([UVW_b,Energy_b,SHW_b],dim=1)).item()\n",
        "                val_mse_rec        = metric_relative_mse(torch.cat([UVWREC_b,EneREC_b,SHW_b],dim=1), torch.cat([UVW_b,Energy_b,SHW_b],dim=1)).item()\n",
        "                \n",
        "                # val_mse   = metric_relative_mse(pred, Energy_b).item()\n",
        "                # val_mse   = 0\n",
        "            experiment.log_metric(\"val_loss\", val_loss.item(),step=epoch)\n",
        "            experiment.log_metric(\"val_loss_rec\", val_loss_rec.item(),step=epoch)\n",
        "            experiment.log_metric(\"val_mse\", val_mse,step=epoch)\n",
        "            experiment.log_metric(\"val_mse_rec\", val_mse_rec,step=epoch)\n",
        "\n",
        "            w_real   = 40*(np.exp((UVW_b[:,2].cpu().detach().numpy()-1)*2.5)-0.01)\n",
        "            ene_pred = 20*pred[:,3].cpu().detach().numpy()\n",
        "            ene_raw  = 20*EneREC_b[:,0].cpu().detach().numpy()\n",
        "            shwl_real = 40*SHW_b[:,0].cpu().detach().numpy()\n",
        "            du       = 40*(UVW_b[:,0].cpu().detach().numpy()-pred[:,0].cpu().detach().numpy())\n",
        "            dv       = 80*(UVW_b[:,1].cpu().detach().numpy()-pred[:,1].cpu().detach().numpy())\n",
        "            dw       = 40*(np.exp((UVW_b[:,2].cpu().detach().numpy()-1)*2.5)-np.exp((pred[:,2].cpu().detach().numpy()-1)*2.5))\n",
        "            \n",
        "            du_lpf   = 40*(UVW_b[:,0].cpu().detach().numpy()-UVWREC_b[:,0].cpu().detach().numpy())\n",
        "            dv_lpf   = 80*(UVW_b[:,1].cpu().detach().numpy()-UVWREC_b[:,1].cpu().detach().numpy())\n",
        "            dw_lpf   = 40*(np.exp((UVW_b[:,2].cpu().detach().numpy()-1)*2.5)-np.exp((UVWREC_b[:,2].cpu().detach().numpy()-1)*2.5))\n",
        "            # w_sep = [1,3.5,7.5,20]\n",
        "            w_sep      = [2*i+1 for i in range(10)]\n",
        "            dw_dep     = [np.sqrt(np.mean((dw[(w_real > 2*i)&(w_real < 2*(i+1))])**2)) for i in range(10)]\n",
        "            dw_dep_lpf = [np.sqrt(np.mean((dw_lpf[(w_real > 2*i)&(w_real < 2*(i+1))])**2)) for i in range(10)]\n",
        "            du_dep     = [np.sqrt(np.mean((du[(w_real > 2*i)&(w_real < 2*(i+1))])**2)) for i in range(10)]\n",
        "            du_dep_lpf = [np.sqrt(np.mean((du_lpf[(w_real > 2*i)&(w_real < 2*(i+1))])**2)) for i in range(10)]\n",
        "            dv_dep     = [np.sqrt(np.mean((dv[(w_real > 2*i)&(w_real < 2*(i+1))])**2)) for i in range(10)]\n",
        "            dv_dep_lpf = [np.sqrt(np.mean((dv_lpf[(w_real > 2*i)&(w_real < 2*(i+1))])**2)) for i in range(10)]\n",
        "            dene     = 20*(Energy_b[:,0].cpu().detach().numpy()-pred[:,3].cpu().detach().numpy())\n",
        "            dene_raw = 20*(Energy_b[:,0].cpu().detach().numpy()-EneREC_b[:,0].cpu().detach().numpy())\n",
        "            dshwl = 40*(SHW_b[:,0].cpu().detach().numpy()-pred[:,4].cpu().detach().numpy())\n",
        "            # dshwt = 180/math.pi*angle_two_vectors(SHW_b[:,1:3],pred[:,5:7]).cpu().detach().numpy()\n",
        "            # dshwp = 180/math.pi*angle_two_vectors(SHW_b[:,3:5],pred[:,7:9]).cpu().detach().numpy()\n",
        "            # dshwt = 180/math.pi*angle_between(SHW_b[:,1:3].cpu().detach().numpy(),pred[:,5:7].cpu().detach().numpy())\n",
        "            # dshwp = 180/math.pi*angle_between(SHW_b[:,3:5].cpu().detach().numpy(),pred[:,7:9].cpu().detach().numpy())\n",
        "            # dshwt = np.zeros(SHW_b[:,1].cpu().detach().numpy().shape[0])\n",
        "            shwt = np.arctan2(pred[:,6].cpu().detach().numpy(),pred[:,5].cpu().detach().numpy())\n",
        "            shwp = np.arctan2(pred[:,8].cpu().detach().numpy(),pred[:,7].cpu().detach().numpy())\n",
        "            shwt_real = np.arctan2(SHW_b[:,2].cpu().detach().numpy(),SHW_b[:,1].cpu().detach().numpy())\n",
        "            shwp_real = np.arctan2(SHW_b[:,4].cpu().detach().numpy(),SHW_b[:,3].cpu().detach().numpy())\n",
        "            rawdshwt = 180/math.pi*(shwt_real-shwt)\n",
        "            rawdshwp = 180/math.pi*(shwp_real-shwp)\n",
        "            rawdshwt_gam = 180/math.pi*(shwt_real-np.pi*DIR_b[:,0].cpu().detach().numpy())\n",
        "            rawdshwp_gam = 180/math.pi*(shwp_real-np.pi*DIR_b[:,1].cpu().detach().numpy())\n",
        "            dshwt = np.zeros(rawdshwt.shape[0])\n",
        "            dshwp = np.zeros(rawdshwp.shape[0])\n",
        "            dshwt_gam = np.zeros(rawdshwt.shape[0])\n",
        "            dshwp_gam = np.zeros(rawdshwp.shape[0])\n",
        "            for i in range(len(rawdshwt)):\n",
        "                if rawdshwt[i]<-180:  dshwt[i] = rawdshwt[i] + 360\n",
        "                elif rawdshwt[i]>180: dshwt[i] = rawdshwt[i] - 360\n",
        "                else: dshwt[i] = rawdshwt[i]\n",
        "\n",
        "            for i in range(len(rawdshwp)):\n",
        "                if rawdshwp[i]<-180:  dshwp[i] = rawdshwp[i] + 360\n",
        "                elif rawdshwp[i]>180: dshwp[i] = rawdshwp[i] - 360\n",
        "                else: dshwp[i] = rawdshwp[i]\n",
        "            \n",
        "            for i in range(len(rawdshwt_gam)):\n",
        "                if rawdshwt_gam[i]<-180:  dshwt_gam[i] = rawdshwt_gam[i] + 360\n",
        "                elif rawdshwt_gam[i]>180: dshwt_gam[i] = rawdshwt_gam[i] - 360\n",
        "                else: dshwt_gam[i] = rawdshwt_gam[i]\n",
        "\n",
        "            for i in range(len(rawdshwp_gam)):\n",
        "                if rawdshwp_gam[i]<-180:  dshwp_gam[i] = rawdshwp_gam[i] + 360\n",
        "                elif rawdshwp_gam[i]>180: dshwp_gam[i] = rawdshwp_gam[i] - 360\n",
        "                else: dshwp_gam[i] = rawdshwp_gam[i]\n",
        "            # print(dshwp[abs(dshwp)>180])\n",
        "\n",
        "\n",
        "            resolution_u     = np.sqrt(np.mean((du)**2))\n",
        "            resolution_v     = np.sqrt(np.mean((dv)**2))\n",
        "            resolution_w     = np.sqrt(np.mean((dw)**2))\n",
        "            \n",
        "            resolution_u_lpf = np.sqrt(np.mean((du_lpf)**2))\n",
        "            resolution_v_lpf = np.sqrt(np.mean((dv_lpf)**2))\n",
        "            resolution_w_lpf = np.sqrt(np.mean((dw_lpf)**2))\n",
        "            \n",
        "            resolution_e     = np.sqrt(np.mean((dene)**2))\n",
        "            resolution_e_raw = np.sqrt(np.mean((dene_raw)**2))\n",
        "            resolution_shwl  = np.sqrt(np.mean((dshwl)**2))\n",
        "            resolution_shwt  = np.sqrt(np.mean((dshwt[shwl_real>5])**2,axis=0))\n",
        "            resolution_shwp  = np.sqrt(np.mean((dshwp[shwl_real>5])**2,axis=0))\n",
        "            resshwl_dep = [np.sqrt(np.mean((dshwl[(shwl_real > 2*i)&(shwl_real < 2*(i+1))])**2)) for i in range(10)]\n",
        "            resshwt_dep = [np.sqrt(np.mean((dshwt[(shwl_real > 2*i)&(shwl_real < 2*(i+1))])**2)) for i in range(10)]\n",
        "            resshwp_dep = [np.sqrt(np.mean((dshwp[(shwl_real > 2*i)&(shwl_real < 2*(i+1))])**2)) for i in range(10)]\n",
        "            resshwt_gam_dep = [np.sqrt(np.mean((dshwt_gam[(shwl_real > 2*i)&(shwl_real < 2*(i+1))])**2)) for i in range(10)]\n",
        "            resshwp_gam_dep = [np.sqrt(np.mean((dshwp_gam[(shwl_real > 2*i)&(shwl_real < 2*(i+1))])**2)) for i in range(10)]\n",
        "            # fraction = 0\n",
        "            # for i in range(len(Energy_b)):\n",
        "            #     if 180/math.pi*abs(np.arctan2(SHW_b[i,3].cpu().detach().numpy(),SHW_b[i,4].cpu().detach().numpy())-\n",
        "            #                     np.arctan2(pred[i,7].cpu().detach().numpy(),pred[i,8].cpu().detach().numpy()))>50:\n",
        "            #         print(180/math.pi*abs(np.arctan2(SHW_b[i,3].cpu().detach().numpy(),SHW_b[i,4].cpu().detach().numpy())-\n",
        "            #                     np.arctan2(pred[i,7].cpu().detach().numpy(),pred[i,8].cpu().detach().numpy())))\n",
        "            #         fraction+=1/float(len(Energy_b))\n",
        "            # print(fraction)\n",
        "            experiment.log_metric(\"e_resolution\"    , resolution_e    ,step=epoch)\n",
        "            experiment.log_metric(\"e_resolution_raw\", resolution_e_raw,step=epoch)\n",
        "            experiment.log_metric(\"u_resolution\", resolution_u,step=epoch)\n",
        "            experiment.log_metric(\"v_resolution\", resolution_v,step=epoch)\n",
        "            experiment.log_metric(\"w_resolution\", resolution_w,step=epoch)\n",
        "            experiment.log_metric(\"u_resolution_lpf\", resolution_u_lpf,step=epoch)\n",
        "            experiment.log_metric(\"v_resolution_lpf\", resolution_v_lpf,step=epoch)\n",
        "            experiment.log_metric(\"w_resolution_lpf\", resolution_w_lpf,step=epoch)\n",
        "            experiment.log_metric(\"shwl_resolution\"    , resolution_shwl    ,step=epoch)\n",
        "            experiment.log_metric(\"shwt_resolution\"    , resolution_shwt    ,step=epoch)\n",
        "            experiment.log_metric(\"shwp_resolution\"    , resolution_shwp    ,step=epoch)\n",
        "        if epoch%10==0:\n",
        "            plt.figure(figsize=(35,12))\n",
        "            grid = plt.GridSpec(2, 7, wspace=0.4, hspace=0.3)\n",
        "            for idim in range(7):\n",
        "                if idim==0:\n",
        "                    plt.subplot(grid[0,idim])\n",
        "                    plt.hist(du    ,histtype='step',range=(-ranges[idim],ranges[idim]),bins=80,color='b',fill=False,edgecolor='b',lw=2,label=\"CNN\")\n",
        "                    plt.hist(du_lpf,histtype='step',range=(-ranges[idim],ranges[idim]),bins=80,color='r',fill=False,edgecolor='r',lw=2,label=\"LPF\")\n",
        "                    plt.xlabel(r'$\\Delta_{u}[cm]$')\n",
        "                    plt.legend(loc=\"upper left\")\n",
        "                    plt.title(\"U Deviation\")\n",
        "                    plt.subplot(grid[1,idim])\n",
        "                    # plt.hist2d(w_real,du,range=[[0,10],[-ranges[idim],ranges[idim]]],bins = [40,40],norm=LogNorm())\n",
        "                    plt.scatter(w_sep,du_dep,color='b',label=\"ML\")\n",
        "                    plt.scatter(w_sep,du_dep_lpf,color='r',label=\"LPF\")\n",
        "                    plt.legend(loc=\"upper left\")\n",
        "                    plt.ylim(0,2)\n",
        "                    plt.xlabel(\"Depth[cm]\")\n",
        "                    plt.ylabel(r'$RMS(\\Delta_{u})[cm]$')\n",
        "                elif idim==1:\n",
        "                    plt.subplot(grid[0,idim])\n",
        "                    plt.hist(dv    ,histtype='step',range=(-ranges[idim],ranges[idim]),bins=80,color='b',fill=False,edgecolor='b',lw=2,label=\"CNN\")\n",
        "                    plt.hist(dv_lpf,histtype='step',range=(-ranges[idim],ranges[idim]),bins=80,color='r',fill=False,edgecolor='r',lw=2,label=\"LPF\")\n",
        "                    plt.title(\"V Deviation\")\n",
        "                    plt.legend(loc=\"upper left\")\n",
        "                    plt.xlabel(r'$\\Delta_{v}[cm]$')\n",
        "                    plt.subplot(grid[1,idim])\n",
        "                    plt.scatter(w_sep,dv_dep,color='b',label=\"ML\")\n",
        "                    plt.scatter(w_sep,dv_dep_lpf,color='r',label=\"LPF\")\n",
        "                    plt.legend(loc=\"upper left\")\n",
        "                    plt.ylim(0,2)\n",
        "                    plt.xlabel(\"Depth[cm]\")\n",
        "                    plt.ylabel(r'$RMS(\\Delta_{v})[cm]$')\n",
        "                    # plt.hist2d(w_real,dv,range=[[0,10],[-ranges[idim],ranges[idim]]],bins = [40,40],norm=LogNorm())\n",
        "                elif idim==2:\n",
        "                    plt.subplot(grid[0,idim])\n",
        "                    plt.hist(dw    ,histtype='step',range=(-ranges[idim],ranges[idim]),bins=80,color='b',fill=False,edgecolor='b',lw=2,label=\"CNN\")\n",
        "                    plt.hist(dw_lpf,histtype='step',range=(-ranges[idim],ranges[idim]),bins=80,color='r',fill=False,edgecolor='r',lw=2,label=\"LPF\")\n",
        "                    plt.title(\"W Deviation\")\n",
        "                    plt.legend(loc=\"upper left\")\n",
        "                    plt.xlabel(r'$\\Delta_{w}[cm]$')\n",
        "                    plt.subplot(grid[1,idim])\n",
        "                    plt.scatter(w_sep,dw_dep    ,color='b',label=\"ML\")\n",
        "                    plt.scatter(w_sep,dw_dep_lpf,color='r',label=\"LPF\")\n",
        "                    plt.legend(loc=\"upper left\")\n",
        "                    plt.ylim(0,2)\n",
        "                    plt.xlabel(\"Depth[cm]\")\n",
        "                    plt.ylabel(r'$RMS(\\Delta_{w})[cm]$')\n",
        "                    # plt.hist2d(w_real,dw,range=[[0,10],[-ranges[idim],ranges[idim]]],bins = [40,40],norm=LogNorm())\n",
        "                elif idim==3:\n",
        "                    plt.subplot(grid[0,idim])\n",
        "                    plt.hist(dene    ,histtype='step',range=(-ranges[idim],ranges[idim]),bins=80,color='b',fill=False,edgecolor='b',lw=2)\n",
        "                    plt.hist(dene_raw,histtype='step',range=(-ranges[idim],ranges[idim]),bins=80,color='r',fill=False,edgecolor='r',lw=2)\n",
        "                    plt.title(\"%f\"%(resolution_e))\n",
        "                    plt.subplot(grid[1,idim])\n",
        "                    # plt.hist2d(w_real,dene,range=[[0,10],[-ranges[idim],ranges[idim]]],bins = [40,40],norm=LogNorm())\n",
        "                    plt.hist(ene_pred  ,histtype='step',range=(15,20),bins=80,color='b',fill=False,edgecolor='b',lw=2)\n",
        "                    plt.hist(ene_raw   ,histtype='step',range=(15,20),bins=80,color='r',fill=False,edgecolor='r',lw=2)\n",
        "                elif idim==4:\n",
        "                    plt.subplot(grid[0,idim])\n",
        "                    plt.hist(dshwl,histtype='step',range=(-ranges[idim],ranges[idim]),bins=80,color='b',fill=False,edgecolor='b',lw=2)\n",
        "                    plt.title(\"%f\"%(resolution_shwl))\n",
        "                    plt.subplot(grid[1,idim])\n",
        "                    plt.scatter(w_sep,resshwl_dep    ,color='b',label=\"ML\")\n",
        "                    # plt.scatter(w_sep,resshwt_gam_dep    ,color='r',label=\"Gamma\")\n",
        "                    plt.ylim(0,10)\n",
        "                    plt.legend(loc=\"upper left\")\n",
        "                    plt.xlabel(\"Length of Shower[cm]\")\n",
        "                    plt.ylabel(r'$RMS(\\Delta_{L_{s}})[deg]$')\n",
        "                    # plt.hist2d(w_real,dshwl,range=[[0,10],[-ranges[idim],ranges[idim]]],bins = [40,40],norm=LogNorm())\n",
        "                elif idim==5:\n",
        "                    plt.subplot(grid[0,idim])\n",
        "                    plt.hist(dshwt,histtype='step',range=(-ranges[idim],ranges[idim]),bins=80,color='b',fill=False,edgecolor='b',lw=2,label=\"CNN\")\n",
        "                    plt.hist(dshwt_gam,histtype='step',range=(-ranges[idim],ranges[idim]),bins=80,color='r',fill=False,edgecolor='r',lw=2,label=\"Gamma\")\n",
        "                    plt.title(r'$\\Delta_{\\theta_{s}}[deg]$')\n",
        "                    plt.legend(loc=\"upper left\")\n",
        "                    plt.xlabel(r'$\\Delta_{\\theta_{s}}[deg]$')\n",
        "                    plt.subplot(grid[1,idim])\n",
        "                    plt.scatter(w_sep,resshwt_dep    ,color='b',label=\"ML\")\n",
        "                    plt.scatter(w_sep,resshwt_gam_dep    ,color='r',label=\"Gamma\")\n",
        "                    plt.ylim(0,40)\n",
        "                    plt.legend(loc=\"upper left\")\n",
        "                    plt.xlabel(\"Length of Shower[cm]\")\n",
        "                    plt.ylabel(r'$RMS(\\Delta_{\\theta_{s}})[deg]$')\n",
        "                    # plt.hist2d(w_real,dshwt,range=[[0,10],[-ranges[idim],ranges[idim]]],bins = [40,40],norm=LogNorm())\n",
        "                elif idim==6:\n",
        "                    plt.subplot(grid[0,idim])\n",
        "                    plt.hist(dshwp,histtype='step',range=(-ranges[idim],ranges[idim]),bins=80,color='b',fill=False,edgecolor='b',lw=2,label=\"CNN\")\n",
        "                    plt.hist(dshwp_gam,histtype='step',range=(-ranges[idim],ranges[idim]),bins=80,color='r',fill=False,edgecolor='r',lw=2,label=\"Gamma\")\n",
        "                    plt.title(r'$\\Delta_{\\phi_{s}}[deg]$')\n",
        "                    plt.legend(loc=\"upper left\")\n",
        "                    plt.xlabel(r'$\\Delta_{\\phi_{s}}[deg]$')\n",
        "                    plt.subplot(grid[1,idim])\n",
        "                    plt.scatter(w_sep,resshwp_dep    ,color='b',label=\"ML\")\n",
        "                    plt.scatter(w_sep,resshwp_gam_dep    ,color='r',label=\"Gamma\")\n",
        "                    plt.ylim(0,40)\n",
        "                    plt.legend(loc=\"upper left\")\n",
        "                    plt.xlabel(\"Length of Shower[cm]\")\n",
        "                    plt.ylabel(r'$RMS(\\Delta_{\\phi_{s}})[deg]$')\n",
        "                    # plt.hist2d(w_real,dshwp,range=[[0,10],[-ranges[idim],ranges[idim]]],bins = [40,40],norm=LogNorm())\n",
        "            #  torch.pred\n",
        "                \n",
        "            # plt.show()\n",
        "            experiment.log_figure(figure=plt)\n",
        "            plt.close()\n",
        "        "
      ],
      "execution_count": 0,
      "outputs": []
    },
    {
      "cell_type": "code",
      "metadata": {
        "id": "fp53YVEDD3Tz",
        "colab_type": "code",
        "outputId": "521e720d-f86c-4f59-f4ad-4bc96a2e11dd",
        "colab": {
          "base_uri": "https://localhost:8080/",
          "height": 156
        }
      },
      "source": [
        "#  with experiment.train():\n",
        "run_training(params[\"Nepoch\"])\n"
      ],
      "execution_count": 0,
      "outputs": [
        {
          "output_type": "stream",
          "text": [
            "\r  0%|          | 0/5000 [00:00<?, ?it/s]/usr/local/lib/python3.6/dist-packages/numpy/core/fromnumeric.py:3257: RuntimeWarning: Mean of empty slice.\n",
            "  out=out, **kwargs)\n",
            "/usr/local/lib/python3.6/dist-packages/numpy/core/_methods.py:161: RuntimeWarning: invalid value encountered in true_divide\n",
            "  ret = ret.dtype.type(ret / rcount)\n",
            "/usr/local/lib/python3.6/dist-packages/numpy/core/_methods.py:161: RuntimeWarning: invalid value encountered in double_scalars\n",
            "  ret = ret.dtype.type(ret / rcount)\n",
            " 10%|█         | 502/5000 [29:58<4:53:40,  3.92s/it]"
          ],
          "name": "stderr"
        }
      ]
    },
    {
      "cell_type": "code",
      "metadata": {
        "id": "gv8G78FLfZd4",
        "colab_type": "code",
        "colab": {}
      },
      "source": [
        "experiment.end()"
      ],
      "execution_count": 0,
      "outputs": []
    },
    {
      "cell_type": "code",
      "metadata": {
        "id": "_MfM8KEAofR0",
        "colab_type": "code",
        "colab": {}
      },
      "source": [
        ""
      ],
      "execution_count": 0,
      "outputs": []
    }
  ]
}