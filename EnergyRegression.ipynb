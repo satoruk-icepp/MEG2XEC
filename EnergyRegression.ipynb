{
  "nbformat": 4,
  "nbformat_minor": 0,
  "metadata": {
    "colab": {
      "name": "EnergyRegression.ipynb",
      "provenance": [],
      "collapsed_sections": [],
      "include_colab_link": true
    },
    "kernelspec": {
      "name": "python3",
      "display_name": "Python 3"
    },
    "accelerator": "GPU"
  },
  "cells": [
    {
      "cell_type": "markdown",
      "metadata": {
        "id": "view-in-github",
        "colab_type": "text"
      },
      "source": [
        "<a href=\"https://colab.research.google.com/github/satoruk-icepp/MEG2XEC/blob/master/EnergyRegression.ipynb\" target=\"_parent\"><img src=\"https://colab.research.google.com/assets/colab-badge.svg\" alt=\"Open In Colab\"/></a>"
      ]
    },
    {
      "cell_type": "code",
      "metadata": {
        "id": "XF6Z4Nzz7VzE",
        "colab_type": "code",
        "outputId": "7b4609f8-6007-4c36-b98e-b64f56181c57",
        "colab": {
          "base_uri": "https://localhost:8080/",
          "height": 34
        }
      },
      "source": [
        "from google.colab import drive\n",
        "drive.mount('/content/drive')"
      ],
      "execution_count": 1,
      "outputs": [
        {
          "output_type": "stream",
          "text": [
            "Drive already mounted at /content/drive; to attempt to forcibly remount, call drive.mount(\"/content/drive\", force_remount=True).\n"
          ],
          "name": "stdout"
        }
      ]
    },
    {
      "cell_type": "code",
      "metadata": {
        "id": "Td9O3Wc3mJle",
        "colab_type": "code",
        "outputId": "5bc8b261-39c4-4310-d185-b5c4856ce38a",
        "colab": {
          "base_uri": "https://localhost:8080/",
          "height": 496
        }
      },
      "source": [
        "! [ ! -z \"$COLAB_GPU\" ] && pip install skorch comet_ml\n",
        "!pip install uproot\n",
        "from comet_ml import Experiment"
      ],
      "execution_count": 2,
      "outputs": [
        {
          "output_type": "stream",
          "text": [
            "Requirement already satisfied: skorch in /usr/local/lib/python3.6/dist-packages (0.7.0)\n",
            "Requirement already satisfied: comet_ml in /usr/local/lib/python3.6/dist-packages (3.0.2)\n",
            "Requirement already satisfied: scikit-learn>=0.19.1 in /usr/local/lib/python3.6/dist-packages (from skorch) (0.21.3)\n",
            "Requirement already satisfied: tqdm>=4.14.0 in /usr/local/lib/python3.6/dist-packages (from skorch) (4.28.1)\n",
            "Requirement already satisfied: scipy>=1.1.0 in /usr/local/lib/python3.6/dist-packages (from skorch) (1.3.3)\n",
            "Requirement already satisfied: tabulate>=0.7.7 in /usr/local/lib/python3.6/dist-packages (from skorch) (0.8.6)\n",
            "Requirement already satisfied: numpy>=1.13.3 in /usr/local/lib/python3.6/dist-packages (from skorch) (1.17.4)\n",
            "Requirement already satisfied: netifaces>=0.10.7 in /usr/local/lib/python3.6/dist-packages (from comet_ml) (0.10.9)\n",
            "Requirement already satisfied: requests>=2.18.4 in /usr/local/lib/python3.6/dist-packages (from comet_ml) (2.21.0)\n",
            "Requirement already satisfied: websocket-client>=0.55.0 in /usr/local/lib/python3.6/dist-packages (from comet_ml) (0.57.0)\n",
            "Requirement already satisfied: wurlitzer>=1.0.2 in /usr/local/lib/python3.6/dist-packages (from comet_ml) (2.0.0)\n",
            "Requirement already satisfied: comet-git-pure>=0.19.11 in /usr/local/lib/python3.6/dist-packages (from comet_ml) (0.19.14)\n",
            "Requirement already satisfied: six in /usr/local/lib/python3.6/dist-packages (from comet_ml) (1.12.0)\n",
            "Requirement already satisfied: jsonschema<3.1.0,>=2.6.0 in /usr/local/lib/python3.6/dist-packages (from comet_ml) (2.6.0)\n",
            "Requirement already satisfied: everett[ini]>=1.0.1; python_version >= \"3.0\" in /usr/local/lib/python3.6/dist-packages (from comet_ml) (1.0.2)\n",
            "Requirement already satisfied: nvidia-ml-py3>=7.352.0 in /usr/local/lib/python3.6/dist-packages (from comet_ml) (7.352.0)\n",
            "Requirement already satisfied: joblib>=0.11 in /usr/local/lib/python3.6/dist-packages (from scikit-learn>=0.19.1->skorch) (0.14.1)\n",
            "Requirement already satisfied: chardet<3.1.0,>=3.0.2 in /usr/local/lib/python3.6/dist-packages (from requests>=2.18.4->comet_ml) (3.0.4)\n",
            "Requirement already satisfied: certifi>=2017.4.17 in /usr/local/lib/python3.6/dist-packages (from requests>=2.18.4->comet_ml) (2019.11.28)\n",
            "Requirement already satisfied: urllib3<1.25,>=1.21.1 in /usr/local/lib/python3.6/dist-packages (from requests>=2.18.4->comet_ml) (1.24.3)\n",
            "Requirement already satisfied: idna<2.9,>=2.5 in /usr/local/lib/python3.6/dist-packages (from requests>=2.18.4->comet_ml) (2.8)\n",
            "Requirement already satisfied: configobj; extra == \"ini\" in /usr/local/lib/python3.6/dist-packages (from everett[ini]>=1.0.1; python_version >= \"3.0\"->comet_ml) (5.0.6)\n",
            "Requirement already satisfied: uproot in /usr/local/lib/python3.6/dist-packages (3.11.0)\n",
            "Requirement already satisfied: uproot-methods>=0.7.0 in /usr/local/lib/python3.6/dist-packages (from uproot) (0.7.2)\n",
            "Requirement already satisfied: numpy>=1.13.1 in /usr/local/lib/python3.6/dist-packages (from uproot) (1.17.4)\n",
            "Requirement already satisfied: cachetools in /usr/local/lib/python3.6/dist-packages (from uproot) (4.0.0)\n",
            "Requirement already satisfied: awkward<1.0,>=0.12.0 in /usr/local/lib/python3.6/dist-packages (from uproot) (0.12.18)\n"
          ],
          "name": "stdout"
        }
      ]
    },
    {
      "cell_type": "code",
      "metadata": {
        "id": "lKlmZjwhmbXb",
        "colab_type": "code",
        "colab": {}
      },
      "source": [
        "import torch\n",
        "import torch.nn as nn\n",
        "import torch.nn.functional as F\n",
        "import torch.optim as optim\n",
        "import torch.utils.data as utils\n",
        "from torch.utils.data.dataset import Subset\n",
        "from torch.optim.lr_scheduler import MultiStepLR,StepLR,CyclicLR,CosineAnnealingLR\n",
        "from datetime import datetime\n",
        "import numpy as np\n",
        "import matplotlib.pyplot as plt\n",
        "import copy\n",
        "from tqdm import tqdm, tqdm_notebook\n",
        "import seaborn as sns\n",
        "from IPython.display import clear_output\n",
        "sns.set()\n",
        "\n",
        "def one_hot(a, num_classes):\n",
        "    return np.squeeze(np.eye(num_classes)[a.reshape(-1)])\n",
        "\n",
        "device = 'cuda' if torch.cuda.is_available() else 'cpu'"
      ],
      "execution_count": 0,
      "outputs": []
    },
    {
      "cell_type": "code",
      "metadata": {
        "id": "8AYTwzgGHkaU",
        "colab_type": "code",
        "outputId": "8f10001e-8522-4376-ae02-ad115ec6b27e",
        "colab": {
          "base_uri": "https://localhost:8080/",
          "height": 34
        }
      },
      "source": [
        "%%writefile .comet.config\n",
        "[comet]\n",
        "api_key=mIel5ZAPOioTs0Cij75dSSQXs\n",
        "logging_file = /tmp/comet.log\n",
        "logging_file_level = info\n"
      ],
      "execution_count": 4,
      "outputs": [
        {
          "output_type": "stream",
          "text": [
            "Overwriting .comet.config\n"
          ],
          "name": "stdout"
        }
      ]
    },
    {
      "cell_type": "code",
      "metadata": {
        "id": "PlrfKTewF_-O",
        "colab_type": "code",
        "outputId": "ce190c87-345e-40b6-e9c1-b380ee217285",
        "colab": {
          "base_uri": "https://localhost:8080/",
          "height": 51
        }
      },
      "source": [
        "experiment = Experiment(project_name=\"EneReg\",log_code=True)\n",
        "curtime = datetime.now().strftime(\"%Y%m%d-%H%M%S\")\n",
        "experiment.set_name(\"%s\"%(curtime))\n",
        "params={'batch_size' : 200,\n",
        "        # 'train_size':20000,\n",
        "        'val_size':500,\n",
        "        # 'dropout_conv':0.3,\n",
        "        'dropout_fc':0.0,\n",
        "        'optim':\"Adam\",\n",
        "        'weight_decay':1e-05,\n",
        "        # 'Nresblock':0,\n",
        "        # 'Nsd':0,\n",
        "        # 'Wthreshold':np.log(0.2+1e-02)/2.5+1,\n",
        "        # 'ethreshold':0.0,\n",
        "        'weightstd':0.01,\n",
        "        'NphoScale':10000,\n",
        "        # 'Nfcnodes':128,\n",
        "        'Nepoch':4000,\n",
        "        # 'learning_rate':0.0000001,# for lr_test\n",
        "        # 'LRgamma':10,# for lr_test\n",
        "        # 'stepsize_lr':1, # for lr_test\n",
        "        \"LRtype\":\"Step\",\n",
        "        'learning_rate':0.01,\n",
        "        # 'LRgamma':0.3,\n",
        "        # 'LRgamma':0.5,\n",
        "        'LRgamma':0.998,\n",
        "        'milestones':[200,500,2000,5000,20000],\n",
        "        # \"LRtype\":\"MStep\",\n",
        "        # \"LRtype\":\"Cyclic\",\n",
        "        # \"LRtype\":\"CosA\",\n",
        "        # \"LRtype\":\"CosExp\",\n",
        "        'stepsize_lr':1,\n",
        "        'stepsize_lr_down':29,\n",
        "        \n",
        "        'base_lr':0.000001,\n",
        "        'Erange':[15,20],\n",
        "        'Urange':[-8,8],\n",
        "        'Vrange':[-25,-5],\n",
        "        'Wrange':[2,10],\n",
        "        # 'max_lr':0.005,\n",
        "        \n",
        "        # 'UseLPF':False,\n",
        "        # 'DoBlind':False\n",
        "}\n",
        "experiment.log_parameters(params)"
      ],
      "execution_count": 5,
      "outputs": [
        {
          "output_type": "stream",
          "text": [
            "COMET INFO: Experiment is live on comet.ml https://www.comet.ml/satoruk-icepp/enereg/f3e59e108e7d43269f134a803d96ff23\n",
            "\n"
          ],
          "name": "stderr"
        }
      ]
    },
    {
      "cell_type": "code",
      "metadata": {
        "id": "xm-Z0b5b6mZl",
        "colab_type": "code",
        "colab": {}
      },
      "source": [
        "import uproot\n",
        "file = uproot.open(\"/content/drive/My Drive/MEG2CW/Gamma353640.root\")\n",
        "tout = file[\"tGamma\"]"
      ],
      "execution_count": 0,
      "outputs": []
    },
    {
      "cell_type": "code",
      "metadata": {
        "id": "4BKJaxNP8eZ2",
        "colab_type": "code",
        "outputId": "25cb86dd-8786-449d-dae5-0d87a707e5c9",
        "colab": {
          "base_uri": "https://localhost:8080/",
          "height": 170
        }
      },
      "source": [
        "tout.keys()"
      ],
      "execution_count": 7,
      "outputs": [
        {
          "output_type": "execute_result",
          "data": {
            "text/plain": [
              "[b'uvw',\n",
              " b'uvwlpf',\n",
              " b'nphoarray',\n",
              " b'qmppcsumwf',\n",
              " b'qpmtsumwf',\n",
              " b'nsum2',\n",
              " b'npmt2',\n",
              " b'ninner2',\n",
              " b'energy']"
            ]
          },
          "metadata": {
            "tags": []
          },
          "execution_count": 7
        }
      ]
    },
    {
      "cell_type": "code",
      "metadata": {
        "id": "JAt_s84l7g3T",
        "colab_type": "code",
        "colab": {}
      },
      "source": [
        "energy_raw = tout.array(\"energy\")\n",
        "npho_raw = tout.array(\"nphoarray\")\n",
        "uvwlpf = tout.array(\"uvwlpf\")\n",
        "\n",
        "npho_raw = npho_raw/params[\"NphoScale\"]\n",
        "indx_ene = (energy_raw<params[\"Erange\"][1]) & (energy_raw>params[\"Erange\"][0])\n",
        "indx_pos =(uvwlpf[:,2]>params[\"Wrange\"][0])\\\n",
        "&(uvwlpf[:,2]<params[\"Wrange\"][1]) \\\n",
        "& (uvwlpf[:,1]>params[\"Vrange\"][0])\\\n",
        "& (uvwlpf[:,1]<params[\"Vrange\"][1])\\\n",
        "& (uvwlpf[:,0]>params[\"Urange\"][0])\\\n",
        "& (uvwlpf[:,0]<params[\"Urange\"][1])\n",
        "indx = indx_ene & indx_pos\n",
        "# indx = (energy_raw<20) & (energy_raw>17) &  (uvwlpf[:,2]<10)\n",
        "energy = energy_raw[indx]\n",
        "npho = npho_raw[indx]"
      ],
      "execution_count": 0,
      "outputs": []
    },
    {
      "cell_type": "code",
      "metadata": {
        "id": "sEu3ygpc9guD",
        "colab_type": "code",
        "outputId": "68c1282c-7951-4c89-b153-0e320b55f548",
        "colab": {
          "base_uri": "https://localhost:8080/",
          "height": 612
        }
      },
      "source": [
        "plt.hist2d(uvwlpf[:,0],uvwlpf[:,1],bins=[50,50],range=[[-10,10],[-30,0]])"
      ],
      "execution_count": 9,
      "outputs": [
        {
          "output_type": "execute_result",
          "data": {
            "text/plain": [
              "(array([[ 7., 12.,  9., ...,  8.,  9.,  7.],\n",
              "        [ 7., 11.,  8., ...,  6.,  6.,  4.],\n",
              "        [ 8.,  8.,  9., ...,  8.,  9., 11.],\n",
              "        ...,\n",
              "        [12., 12.,  9., ..., 11.,  6.,  9.],\n",
              "        [ 9.,  8., 10., ..., 12.,  9.,  7.],\n",
              "        [ 6., 13., 13., ...,  3.,  8.,  0.]]),\n",
              " array([-10. ,  -9.6,  -9.2,  -8.8,  -8.4,  -8. ,  -7.6,  -7.2,  -6.8,\n",
              "         -6.4,  -6. ,  -5.6,  -5.2,  -4.8,  -4.4,  -4. ,  -3.6,  -3.2,\n",
              "         -2.8,  -2.4,  -2. ,  -1.6,  -1.2,  -0.8,  -0.4,   0. ,   0.4,\n",
              "          0.8,   1.2,   1.6,   2. ,   2.4,   2.8,   3.2,   3.6,   4. ,\n",
              "          4.4,   4.8,   5.2,   5.6,   6. ,   6.4,   6.8,   7.2,   7.6,\n",
              "          8. ,   8.4,   8.8,   9.2,   9.6,  10. ]),\n",
              " array([-30. , -29.4, -28.8, -28.2, -27.6, -27. , -26.4, -25.8, -25.2,\n",
              "        -24.6, -24. , -23.4, -22.8, -22.2, -21.6, -21. , -20.4, -19.8,\n",
              "        -19.2, -18.6, -18. , -17.4, -16.8, -16.2, -15.6, -15. , -14.4,\n",
              "        -13.8, -13.2, -12.6, -12. , -11.4, -10.8, -10.2,  -9.6,  -9. ,\n",
              "         -8.4,  -7.8,  -7.2,  -6.6,  -6. ,  -5.4,  -4.8,  -4.2,  -3.6,\n",
              "         -3. ,  -2.4,  -1.8,  -1.2,  -0.6,   0. ]),\n",
              " <matplotlib.collections.QuadMesh at 0x7fab9a4a9dd8>)"
            ]
          },
          "metadata": {
            "tags": []
          },
          "execution_count": 9
        },
        {
          "output_type": "display_data",
          "data": {
            "image/png": "[encoded data removed]",
            "text/plain": [
              "<Figure size 432x288 with 1 Axes>"
            ]
          },
          "metadata": {
            "tags": []
          }
        }
      ]
    },
    {
      "cell_type": "code",
      "metadata": {
        "id": "tKc7DF48_2LA",
        "colab_type": "code",
        "outputId": "0b9747f4-94fd-4a6e-e3a0-bbe4a860a2b7",
        "colab": {
          "base_uri": "https://localhost:8080/",
          "height": 286
        }
      },
      "source": [
        "plt.hist(npho.sum(axis=1))\n",
        "print(npho.sum(axis=1).mean())"
      ],
      "execution_count": 10,
      "outputs": [
        {
          "output_type": "stream",
          "text": [
            "8.692727894139688\n"
          ],
          "name": "stdout"
        },
        {
          "output_type": "display_data",
          "data": {
            "image/png": "[encoded data removed]",
            "text/plain": [
              "<Figure size 432x288 with 1 Axes>"
            ]
          },
          "metadata": {
            "tags": []
          }
        }
      ]
    },
    {
      "cell_type": "code",
      "metadata": {
        "id": "y3qsE6nn7gwg",
        "colab_type": "code",
        "outputId": "404ae03a-88e0-4a00-9a43-d9b1b09eb818",
        "colab": {
          "base_uri": "https://localhost:8080/",
          "height": 557
        }
      },
      "source": [
        "plt.hist(energy,bins=50)"
      ],
      "execution_count": 11,
      "outputs": [
        {
          "output_type": "execute_result",
          "data": {
            "text/plain": [
              "(array([ 99., 103., 130., 126., 174., 196., 219., 216., 278., 239., 273.,\n",
              "        303., 253., 268., 255., 226., 204., 162., 160., 130.,  85.,  73.,\n",
              "         53.,  40.,  29.,  22.,  16.,  11.,   5.,   2.,   4.,   4.,   3.,\n",
              "          1.,   1.,   2.,   1.,   1.,   0.,   1.,   0.,   0.,   0.,   0.,\n",
              "          0.,   1.,   0.,   0.,   0.,   1.]),\n",
              " array([15.00007265, 15.09789751, 15.19572236, 15.29354722, 15.39137208,\n",
              "        15.48919694, 15.58702179, 15.68484665, 15.78267151, 15.88049637,\n",
              "        15.97832122, 16.07614608, 16.17397094, 16.2717958 , 16.36962065,\n",
              "        16.46744551, 16.56527037, 16.66309523, 16.76092008, 16.85874494,\n",
              "        16.9565698 , 17.05439466, 17.15221951, 17.25004437, 17.34786923,\n",
              "        17.44569409, 17.54351894, 17.6413438 , 17.73916866, 17.83699352,\n",
              "        17.93481837, 18.03264323, 18.13046809, 18.22829295, 18.3261178 ,\n",
              "        18.42394266, 18.52176752, 18.61959238, 18.71741723, 18.81524209,\n",
              "        18.91306695, 19.01089181, 19.10871666, 19.20654152, 19.30436638,\n",
              "        19.40219124, 19.50001609, 19.59784095, 19.69566581, 19.79349067,\n",
              "        19.89131552]),\n",
              " <a list of 50 Patch objects>)"
            ]
          },
          "metadata": {
            "tags": []
          },
          "execution_count": 11
        },
        {
          "output_type": "display_data",
          "data": {
            "image/png": "[encoded data removed]",
            "text/plain": [
              "<Figure size 432x288 with 1 Axes>"
            ]
          },
          "metadata": {
            "tags": []
          }
        }
      ]
    },
    {
      "cell_type": "code",
      "metadata": {
        "id": "Y7pHtFtmA__e",
        "colab_type": "code",
        "colab": {}
      },
      "source": [
        "def normal_init(m, mean, std):\n",
        "    if isinstance(m, (nn.Linear, nn.Conv2d, nn.BatchNorm2d, nn.BatchNorm1d)):\n",
        "        m.weight.data.normal_(mean, std)\n",
        "        if m.bias is not None:\n",
        "            if m.bias.data is not None:\n",
        "                m.bias.data.zero_()"
      ],
      "execution_count": 0,
      "outputs": []
    },
    {
      "cell_type": "code",
      "metadata": {
        "id": "CcTbzz3prk9p",
        "colab_type": "code",
        "colab": {}
      },
      "source": [
        "class reg(nn.Module):\n",
        "    def __init__(self,dropout=0):\n",
        "        super(reg,self).__init__()\n",
        "        self.linear = nn.Linear(4760,1,False)\n",
        "        self.dropout = nn.Dropout(dropout);\n",
        "\n",
        "    def forward(self,x):\n",
        "        x = self.linear(self.dropout(x))\n",
        "        return x\n",
        "\n",
        "    def weight_init(self, mean, std):\n",
        "        for m in self._modules:\n",
        "            normal_init(self._modules[m], mean, std)"
      ],
      "execution_count": 0,
      "outputs": []
    },
    {
      "cell_type": "code",
      "metadata": {
        "id": "eW8k8CpynPP_",
        "colab_type": "code",
        "colab": {}
      },
      "source": [
        "# reg = nn.Sequential(nn.Linear(2, 1,False))\n",
        "loss_fn = torch.nn.SmoothL1Loss().to(device)"
      ],
      "execution_count": 0,
      "outputs": []
    },
    {
      "cell_type": "code",
      "metadata": {
        "id": "thqmnBoJpCAs",
        "colab_type": "code",
        "colab": {}
      },
      "source": [
        "model = reg(params[\"dropout_fc\"]).to(device)\n",
        "model.weight_init(mean=1e-04,std=1e-05)\n",
        "opt = optim.Adam(model.parameters(), lr=params[\"learning_rate\"])\n",
        "if params[\"LRtype\"]==\"Cyclic\":\n",
        "    scheduler = CyclicLR(opt, params[\"base_lr\"],params[\"learning_rate\"],\n",
        "                         step_size_up=params[\"stepsize_lr\"],\n",
        "                         step_size_down=params[\"stepsize_lr_down\"],\n",
        "                         cycle_momentum=False,mode=\"exp_range\",gamma = params[\"LRgamma\"])\n",
        "elif params[\"LRtype\"]==\"MStep\":\n",
        "    scheduler = MultiStepLR(opt, milestones=params[\"milestones\"], gamma=params[\"LRgamma\"])\n",
        "elif params[\"LRtype\"]==\"Step\":\n",
        "    scheduler = StepLR(opt,step_size=params[\"stepsize_lr\"],gamma=params[\"LRgamma\"])\n",
        "elif params[\"LRtype\"]==\"CosA\":\n",
        "    scheduler = CosineAnnealingLR(opt,T_max=params[\"stepsize_lr\"],eta_min=params[\"base_lr\"])\n",
        "# elif params[\"LRtype\"]==\"CosExp\":\n",
        "#     scheduler = CosineExpLR(opt,T_max=params[\"stepsize_lr\"],eta_min=params[\"base_lr\"],gamma = params[\"LRgamma\"])"
      ],
      "execution_count": 0,
      "outputs": []
    },
    {
      "cell_type": "code",
      "metadata": {
        "id": "g6RZx2cx9WGZ",
        "colab_type": "code",
        "colab": {}
      },
      "source": [
        "energy = torch.tensor(energy).float()\n",
        "npho = torch.tensor(npho).float()"
      ],
      "execution_count": 0,
      "outputs": []
    },
    {
      "cell_type": "code",
      "metadata": {
        "id": "FgbWQDcY9mIl",
        "colab_type": "code",
        "outputId": "ee73d3aa-eb77-4d99-a456-cbc1ce63d217",
        "colab": {
          "base_uri": "https://localhost:8080/",
          "height": 34
        }
      },
      "source": [
        "BATCH_SIZE = params[\"batch_size\"]\n",
        "# BATCH_SIZE = 100\n",
        "calo_dataset    = utils.TensorDataset(energy,npho)\n",
        "data_size =  len(calo_dataset)\n",
        "full_size = int(data_size//1000)*1000\n",
        "val_size = params[\"val_size\"]\n",
        "print(data_size)\n",
        "train_dataset = Subset(calo_dataset,list(range(0,full_size-val_size)))\n",
        "val_dataset = Subset(calo_dataset,list(range(full_size-val_size,full_size)))\n",
        "# train_dataset = Subset(calo_dataset,list(range(0,params[\"train_size\"])))\n",
        "# val_dataset = Subset(calo_dataset,list(range(params[\"train_size\"],params[\"train_size\"]+params[\"val_size\"])))\n",
        "train_dataloader = torch.utils.data.DataLoader(train_dataset, \n",
        "                                              batch_size=BATCH_SIZE, \n",
        "                                              pin_memory=True, shuffle=True)\n",
        "val_dataloader = torch.utils.data.DataLoader(val_dataset, \n",
        "                                              batch_size=len(val_dataset), \n",
        "                                              pin_memory=True, shuffle=True)"
      ],
      "execution_count": 17,
      "outputs": [
        {
          "output_type": "stream",
          "text": [
            "4370\n"
          ],
          "name": "stdout"
        }
      ]
    },
    {
      "cell_type": "code",
      "metadata": {
        "id": "Z5PFmnOYncyk",
        "colab_type": "code",
        "outputId": "401bd323-2dee-41d9-a477-55e88bd531b5",
        "colab": {
          "base_uri": "https://localhost:8080/",
          "height": 139
        }
      },
      "source": [
        "# batch_size=10\n",
        "ibatch = 0\n",
        "for i in range(params[\"Nepoch\"]):\n",
        "    with experiment.train():\n",
        "        model.train()\n",
        "        for energy_b,npho_b in train_dataloader:\n",
        "                # moving them to device(for example, cuda-device)\n",
        "            energy_b,npho_b = energy_b.to(device), \\\n",
        "                            npho_b.to(device)\n",
        "        # real_data = sample_real_data(batch_size)\n",
        "            \n",
        "            pred = model(npho_b)\n",
        "            target = (torch.ones(pred.shape[0])*17.6).to(device)\n",
        "            loss        = loss_fn(pred, target)\n",
        "            \n",
        "            opt.zero_grad()\n",
        "            loss.backward()\n",
        "            opt.step()\n",
        "            # if ibatch%10==0: print(ibatch)\n",
        "            ibatch +=1\n",
        "\n",
        "        scheduler.step()\n",
        "        experiment.log_metric(\"loss\", loss.item(),step=i)\n",
        "        experiment.log_metric(\"learning_rate\", scheduler.get_lr(),step=i)\n",
        "\n",
        "    with experiment.test():\n",
        "        model.eval()\n",
        "        for energy_b,npho_b in val_dataloader:\n",
        "                # moving them to device(for example, cuda-device)\n",
        "            energy_b,npho_b = energy_b.to(device), \\\n",
        "                            npho_b.to(device)\n",
        "            pred = model(npho_b)\n",
        "            target = (torch.ones(pred.shape[0])*17.6).to(device)\n",
        "            val_loss        = loss_fn(pred, target)                \n",
        "        experiment.log_metric(\"loss\", val_loss.item(),step=i)\n",
        "\n",
        "\n",
        "    if i%10==0:\n",
        "        plt.hist(energy_b.cpu().detach().numpy(),bins=50,range=(15,20),histtype='step',fill=False,edgecolor='b',label='nsum2')\n",
        "        plt.hist(pred.cpu().detach().numpy(),bins=50,range=(15,20),histtype='step',fill=False,edgecolor='r',label='pred')\n",
        "        plt.legend(loc=\"upper left\")\n",
        "        experiment.log_figure(figure=plt)\n",
        "        plt.close()\n",
        "        \n",
        "        \n",
        "        \n",
        "# print(loss.item(),pred,model.linear.weight)"
      ],
      "execution_count": 0,
      "outputs": [
        {
          "output_type": "stream",
          "text": [
            "/usr/local/lib/python3.6/dist-packages/torch/nn/modules/loss.py:782: UserWarning: Using a target size (torch.Size([200])) that is different to the input size (torch.Size([200, 1])). This will likely lead to incorrect results due to broadcasting. Please ensure they have the same size.\n",
            "  return F.smooth_l1_loss(input, target, reduction=self.reduction)\n",
            "/usr/local/lib/python3.6/dist-packages/torch/nn/modules/loss.py:782: UserWarning: Using a target size (torch.Size([100])) that is different to the input size (torch.Size([100, 1])). This will likely lead to incorrect results due to broadcasting. Please ensure they have the same size.\n",
            "  return F.smooth_l1_loss(input, target, reduction=self.reduction)\n",
            "/usr/local/lib/python3.6/dist-packages/torch/nn/modules/loss.py:782: UserWarning: Using a target size (torch.Size([500])) that is different to the input size (torch.Size([500, 1])). This will likely lead to incorrect results due to broadcasting. Please ensure they have the same size.\n",
            "  return F.smooth_l1_loss(input, target, reduction=self.reduction)\n"
          ],
          "name": "stderr"
        }
      ]
    },
    {
      "cell_type": "code",
      "metadata": {
        "id": "Qnu46y5an48f",
        "colab_type": "code",
        "colab": {}
      },
      "source": [
        "model.eval()\n",
        "pred_test = model.cpu()(torch.tensor(npho_raw).float())\n",
        "# prediction_test = regressor.cpu()(torch.tensor(EnergyDeposit_test).float())"
      ],
      "execution_count": 0,
      "outputs": []
    },
    {
      "cell_type": "code",
      "metadata": {
        "id": "XlnBlHQDTbRp",
        "colab_type": "code",
        "colab": {}
      },
      "source": [
        "# indx_w = (uvwlpf[:,2]>2)&(uvwlpf[:,2]<5)&(uvwlpf[:,1]>-20)&(uvwlpf[:,1]<-10)\n",
        "# indx_pos = (uvwlpf[:,2]>2) & (uvwlpf[:,2]<10) & (uvwlpf[:,1]<-10) & (uvwlpf[:,1]>-20) & (uvwlpf[:,0]>-5) & (uvwlpf[:,0]<5)\n",
        "plt.hist(pred_test[indx_pos].cpu().detach().numpy(),range=(0,20),bins=100,histtype='step',fill=False,edgecolor='r',label='pred')\n",
        "plt.hist(energy_raw[indx_pos],range=(0,20),bins=100,histtype='step',fill=False,edgecolor='b',label='raw')"
      ],
      "execution_count": 0,
      "outputs": []
    },
    {
      "cell_type": "code",
      "metadata": {
        "id": "q4X6Pc82TmiX",
        "colab_type": "code",
        "colab": {}
      },
      "source": [
        "print(uvwlpf[:,2].shape)\n",
        "from matplotlib.colors import LogNorm\n",
        "plt.hist2d(uvwlpf[indx_pos,2],pred_test[indx_pos,0].cpu().detach().numpy(),range=[[0,20],[0,20]],bins=[100,100],norm=LogNorm())\n",
        "# plt.hist2d(uvwlpf[:,2],pred_test[:,0].cpu().detach().numpy(),range=[[0,20],[0,20]],bins=[100,100])"
      ],
      "execution_count": 0,
      "outputs": []
    },
    {
      "cell_type": "code",
      "metadata": {
        "id": "5DbX138wt2Yf",
        "colab_type": "code",
        "colab": {}
      },
      "source": [
        "plt.hist2d(uvwlpf[:,1],pred_test[:,0].cpu().detach().numpy(),range=[[-40,0],[0,20]],bins=[100,100],norm=LogNorm())"
      ],
      "execution_count": 0,
      "outputs": []
    },
    {
      "cell_type": "code",
      "metadata": {
        "id": "JBq1dShot_Y_",
        "colab_type": "code",
        "colab": {}
      },
      "source": [
        "plt.hist2d(uvwlpf[:,0],pred_test[:,0].cpu().detach().numpy(),range=[[-10,10],[0,20]],bins=[100,100],norm=LogNorm())"
      ],
      "execution_count": 0,
      "outputs": []
    },
    {
      "cell_type": "code",
      "metadata": {
        "id": "eNf1KR0ZXqoY",
        "colab_type": "code",
        "colab": {}
      },
      "source": [
        "plt.hist2d(uvwlpf[:,2],energy_raw,range=[[0,40],[0,20]],bins=[100,100])"
      ],
      "execution_count": 0,
      "outputs": []
    },
    {
      "cell_type": "code",
      "metadata": {
        "id": "NPTEOXrFnvbc",
        "colab_type": "code",
        "colab": {}
      },
      "source": [
        "x = [i for i in range(4760)]\n",
        "# v = []\n",
        "print(model.linear.weight.cpu().detach().numpy())\n",
        "# for param in model.parameters():\n",
        "    # v.append(param.data[0])\n",
        "\n",
        "# plt.scatter(x,model.linear.weight.cpu().detach().numpy(),vmin=-0.001,vmax=0.001,c=\"r\")\n",
        "plt.hist(model.linear.weight[0].cpu().detach().numpy(),range=(0,4e-4),bins=80)\n",
        "    # for weight in param.data[0]:\n",
        "    #     print(weight)"
      ],
      "execution_count": 0,
      "outputs": []
    },
    {
      "cell_type": "code",
      "metadata": {
        "id": "zhXWq02bwRJJ",
        "colab_type": "code",
        "colab": {}
      },
      "source": [
        "file_uslit = uproot.open(\"/content/drive/My Drive/MEG2CW/Gamma330471.root\")\n",
        "tout_uslit = file_uslit[\"tGamma\"]"
      ],
      "execution_count": 0,
      "outputs": []
    },
    {
      "cell_type": "code",
      "metadata": {
        "id": "S9T4MxO6cJWk",
        "colab_type": "code",
        "colab": {}
      },
      "source": [
        "energy_uslit = tout_uslit.array(\"energy\")\n",
        "npho_uslit = tout_uslit.array(\"nphoarray\")\n",
        "uvwlpf_uslit = tout_uslit.array(\"uvwlpf\")\n",
        "\n",
        "npho_uslit = npho_uslit/params[\"NphoScale\"]"
      ],
      "execution_count": 0,
      "outputs": []
    },
    {
      "cell_type": "code",
      "metadata": {
        "id": "akgeJQKQ8kKG",
        "colab_type": "code",
        "colab": {}
      },
      "source": [
        "indx_pos_uslit =(uvwlpf_uslit[:,2]>params[\"Wrange\"][0])\\\n",
        "& (uvwlpf_uslit[:,2]<params[\"Wrange\"][1]) \\\n",
        "& (uvwlpf_uslit[:,1]>params[\"Vrange\"][0])\\\n",
        "& (uvwlpf_uslit[:,1]<params[\"Vrange\"][1])\\\n",
        "& (uvwlpf_uslit[:,0]>params[\"Urange\"][0])\\\n",
        "& (uvwlpf_uslit[:,0]<params[\"Urange\"][1])"
      ],
      "execution_count": 0,
      "outputs": []
    },
    {
      "cell_type": "code",
      "metadata": {
        "id": "41VjYOhtg4Rq",
        "colab_type": "code",
        "colab": {}
      },
      "source": [
        "pred_uslit = model.cpu()(torch.tensor(npho_uslit).float()).cpu().detach().numpy()"
      ],
      "execution_count": 0,
      "outputs": []
    },
    {
      "cell_type": "code",
      "metadata": {
        "id": "-yMbjgEdg9KP",
        "colab_type": "code",
        "colab": {}
      },
      "source": [
        "n,bins,_ = plt.hist(pred_uslit[indx_pos_uslit],range=(0,20),bins=100,histtype='step',fill=False,edgecolor='r',label='pred')\n",
        "plt.hist(energy_uslit[indx_pos_uslit],range=(0,20),bins=100,histtype='step',fill=False,edgecolor='b',label='pred')"
      ],
      "execution_count": 0,
      "outputs": []
    },
    {
      "cell_type": "code",
      "metadata": {
        "id": "MTQZPA1ahCf0",
        "colab_type": "code",
        "colab": {}
      },
      "source": [
        "# Fit functions\n",
        "def Gaussian(x,a,b,c):\n",
        "    return a * np.exp(-(x - b)**2.0 / (2 * c**2))"
      ],
      "execution_count": 0,
      "outputs": []
    },
    {
      "cell_type": "code",
      "metadata": {
        "id": "XXthXcq4jFdF",
        "colab_type": "code",
        "colab": {}
      },
      "source": [
        "from scipy.optimize import curve_fit\n",
        "binscenters = np.array([0.5 * (bins[i] + bins[i+1]) for i in range(len(bins)-1)])\n",
        "# popt, pcov = curve_fit(Gaussian,binscenters,n,bounds=(15,20)) \n",
        "indx_bin = binscenters>17\n",
        "# indx_bin = binscenters>0\n",
        "print(indx_bin)\n",
        "binscenters_fit = binscenters[indx_bin]\n",
        "n_fit = n[indx_bin]\n",
        "plt.plot(binscenters_fit,n_fit)\n",
        "popt, pcov = curve_fit(Gaussian,binscenters_fit,n_fit,bounds = ((10,16,0),(1e6,18,3))) \n",
        "print(popt)"
      ],
      "execution_count": 0,
      "outputs": []
    },
    {
      "cell_type": "code",
      "metadata": {
        "id": "ZktU4nIBknyS",
        "colab_type": "code",
        "colab": {}
      },
      "source": [
        "plt.hist(pred_uslit[indx_pos_uslit],range=(0,20),bins=100,histtype='step',fill=False,edgecolor='r',label='pred')\n",
        "plt.plot(binscenters, Gaussian(binscenters, *popt), color='darkorange', linewidth=2.5, label=r'Fitted function')"
      ],
      "execution_count": 0,
      "outputs": []
    },
    {
      "cell_type": "code",
      "metadata": {
        "id": "K6jZlgK8lODm",
        "colab_type": "code",
        "colab": {}
      },
      "source": [
        "plt.hist2d(uvwlpf_uslit[:,2],pred_uslit[:,0],range=[[0,40],[16,20]],bins=[100,100],norm=LogNorm())\n",
        "# print(pred_uslit.shape)\n",
        "# plt.hist2d(pred_uslit,pred_uslit,range=[[0,40],[0,20]],bins=[100,100])"
      ],
      "execution_count": 0,
      "outputs": []
    },
    {
      "cell_type": "code",
      "metadata": {
        "id": "qaewwQhr3I5k",
        "colab_type": "code",
        "colab": {}
      },
      "source": [
        ""
      ],
      "execution_count": 0,
      "outputs": []
    }
  ]
}