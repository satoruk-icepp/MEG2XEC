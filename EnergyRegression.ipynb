{
  "nbformat": 4,
  "nbformat_minor": 0,
  "metadata": {
    "colab": {
      "name": "EnergyRegression.ipynb",
      "provenance": [],
      "collapsed_sections": [],
      "include_colab_link": true
    },
    "kernelspec": {
      "name": "python3",
      "display_name": "Python 3"
    },
    "accelerator": "GPU"
  },
  "cells": [
    {
      "cell_type": "markdown",
      "metadata": {
        "id": "view-in-github",
        "colab_type": "text"
      },
      "source": [
        "<a href=\"https://colab.research.google.com/github/satoruk-icepp/MEG2XEC/blob/master/EnergyRegression.ipynb\" target=\"_parent\"><img src=\"https://colab.research.google.com/assets/colab-badge.svg\" alt=\"Open In Colab\"/></a>"
      ]
    },
    {
      "cell_type": "code",
      "metadata": {
        "id": "XF6Z4Nzz7VzE",
        "colab_type": "code",
        "outputId": "aba72f29-c72e-4d61-eaab-46c4e630d90c",
        "colab": {
          "base_uri": "https://localhost:8080/",
          "height": 54
        }
      },
      "source": [
        "from google.colab import drive\n",
        "drive.mount('/content/drive')"
      ],
      "execution_count": 1,
      "outputs": [
        {
          "output_type": "stream",
          "text": [
            "Drive already mounted at /content/drive; to attempt to forcibly remount, call drive.mount(\"/content/drive\", force_remount=True).\n"
          ],
          "name": "stdout"
        }
      ]
    },
    {
      "cell_type": "code",
      "metadata": {
        "id": "Td9O3Wc3mJle",
        "colab_type": "code",
        "outputId": "ce24bac2-437c-44b2-a10d-30b06a4938ae",
        "colab": {
          "base_uri": "https://localhost:8080/",
          "height": 496
        }
      },
      "source": [
        "! [ ! -z \"$COLAB_GPU\" ] && pip install skorch comet_ml\n",
        "!pip install uproot\n",
        "from comet_ml import Experiment"
      ],
      "execution_count": 2,
      "outputs": [
        {
          "output_type": "stream",
          "text": [
            "Requirement already satisfied: skorch in /usr/local/lib/python3.6/dist-packages (0.7.0)\n",
            "Requirement already satisfied: comet_ml in /usr/local/lib/python3.6/dist-packages (3.0.2)\n",
            "Requirement already satisfied: tabulate>=0.7.7 in /usr/local/lib/python3.6/dist-packages (from skorch) (0.8.6)\n",
            "Requirement already satisfied: scipy>=1.1.0 in /usr/local/lib/python3.6/dist-packages (from skorch) (1.3.3)\n",
            "Requirement already satisfied: scikit-learn>=0.19.1 in /usr/local/lib/python3.6/dist-packages (from skorch) (0.21.3)\n",
            "Requirement already satisfied: tqdm>=4.14.0 in /usr/local/lib/python3.6/dist-packages (from skorch) (4.28.1)\n",
            "Requirement already satisfied: numpy>=1.13.3 in /usr/local/lib/python3.6/dist-packages (from skorch) (1.17.4)\n",
            "Requirement already satisfied: wurlitzer>=1.0.2 in /usr/local/lib/python3.6/dist-packages (from comet_ml) (2.0.0)\n",
            "Requirement already satisfied: nvidia-ml-py3>=7.352.0 in /usr/local/lib/python3.6/dist-packages (from comet_ml) (7.352.0)\n",
            "Requirement already satisfied: websocket-client>=0.55.0 in /usr/local/lib/python3.6/dist-packages (from comet_ml) (0.57.0)\n",
            "Requirement already satisfied: comet-git-pure>=0.19.11 in /usr/local/lib/python3.6/dist-packages (from comet_ml) (0.19.14)\n",
            "Requirement already satisfied: netifaces>=0.10.7 in /usr/local/lib/python3.6/dist-packages (from comet_ml) (0.10.9)\n",
            "Requirement already satisfied: everett[ini]>=1.0.1; python_version >= \"3.0\" in /usr/local/lib/python3.6/dist-packages (from comet_ml) (1.0.2)\n",
            "Requirement already satisfied: jsonschema<3.1.0,>=2.6.0 in /usr/local/lib/python3.6/dist-packages (from comet_ml) (2.6.0)\n",
            "Requirement already satisfied: six in /usr/local/lib/python3.6/dist-packages (from comet_ml) (1.12.0)\n",
            "Requirement already satisfied: requests>=2.18.4 in /usr/local/lib/python3.6/dist-packages (from comet_ml) (2.21.0)\n",
            "Requirement already satisfied: joblib>=0.11 in /usr/local/lib/python3.6/dist-packages (from scikit-learn>=0.19.1->skorch) (0.14.1)\n",
            "Requirement already satisfied: urllib3>=1.24.1 in /usr/local/lib/python3.6/dist-packages (from comet-git-pure>=0.19.11->comet_ml) (1.24.3)\n",
            "Requirement already satisfied: certifi in /usr/local/lib/python3.6/dist-packages (from comet-git-pure>=0.19.11->comet_ml) (2019.11.28)\n",
            "Requirement already satisfied: configobj; extra == \"ini\" in /usr/local/lib/python3.6/dist-packages (from everett[ini]>=1.0.1; python_version >= \"3.0\"->comet_ml) (5.0.6)\n",
            "Requirement already satisfied: idna<2.9,>=2.5 in /usr/local/lib/python3.6/dist-packages (from requests>=2.18.4->comet_ml) (2.8)\n",
            "Requirement already satisfied: chardet<3.1.0,>=3.0.2 in /usr/local/lib/python3.6/dist-packages (from requests>=2.18.4->comet_ml) (3.0.4)\n",
            "Requirement already satisfied: uproot in /usr/local/lib/python3.6/dist-packages (3.11.0)\n",
            "Requirement already satisfied: uproot-methods>=0.7.0 in /usr/local/lib/python3.6/dist-packages (from uproot) (0.7.2)\n",
            "Requirement already satisfied: numpy>=1.13.1 in /usr/local/lib/python3.6/dist-packages (from uproot) (1.17.4)\n",
            "Requirement already satisfied: awkward<1.0,>=0.12.0 in /usr/local/lib/python3.6/dist-packages (from uproot) (0.12.18)\n",
            "Requirement already satisfied: cachetools in /usr/local/lib/python3.6/dist-packages (from uproot) (4.0.0)\n"
          ],
          "name": "stdout"
        }
      ]
    },
    {
      "cell_type": "code",
      "metadata": {
        "id": "lKlmZjwhmbXb",
        "colab_type": "code",
        "colab": {}
      },
      "source": [
        "import torch\n",
        "import torch.nn as nn\n",
        "import torch.nn.functional as F\n",
        "import torch.optim as optim\n",
        "import torch.utils.data as utils\n",
        "from torch.utils.data.dataset import Subset\n",
        "from torch.optim.lr_scheduler import MultiStepLR,StepLR,CyclicLR,CosineAnnealingLR\n",
        "from datetime import datetime\n",
        "import numpy as np\n",
        "import matplotlib.pyplot as plt\n",
        "import copy\n",
        "from tqdm import tqdm, tqdm_notebook\n",
        "import seaborn as sns\n",
        "from IPython.display import clear_output\n",
        "sns.set()\n",
        "\n",
        "def one_hot(a, num_classes):\n",
        "    return np.squeeze(np.eye(num_classes)[a.reshape(-1)])\n",
        "\n",
        "device = 'cuda' if torch.cuda.is_available() else 'cpu'"
      ],
      "execution_count": 0,
      "outputs": []
    },
    {
      "cell_type": "code",
      "metadata": {
        "id": "8AYTwzgGHkaU",
        "colab_type": "code",
        "outputId": "27a80719-17cc-4715-9167-1344f92867dc",
        "colab": {
          "base_uri": "https://localhost:8080/",
          "height": 34
        }
      },
      "source": [
        "%%writefile .comet.config\n",
        "[comet]\n",
        "api_key=mIel5ZAPOioTs0Cij75dSSQXs\n",
        "logging_file = /tmp/comet.log\n",
        "logging_file_level = info\n"
      ],
      "execution_count": 4,
      "outputs": [
        {
          "output_type": "stream",
          "text": [
            "Overwriting .comet.config\n"
          ],
          "name": "stdout"
        }
      ]
    },
    {
      "cell_type": "code",
      "metadata": {
        "id": "PlrfKTewF_-O",
        "colab_type": "code",
        "outputId": "cac6dfe0-4dae-4517-89c6-7766e0b7bce7",
        "colab": {
          "base_uri": "https://localhost:8080/",
          "height": 71
        }
      },
      "source": [
        "experiment = Experiment(project_name=\"EneReg\",log_code=True)\n",
        "curtime = datetime.now().strftime(\"%Y%m%d-%H%M%S\")\n",
        "experiment.set_name(\"%s\"%(curtime))\n",
        "params={'batch_size' : 200,\n",
        "        # 'train_size':20000,\n",
        "        'val_size':500,\n",
        "        'test_size':1000,\n",
        "        # 'dropout_conv':0.3,\n",
        "        'dropout_fc':0.05,\n",
        "        'optim':\"Adam\",\n",
        "        'weight_decay':1e-05,\n",
        "        # 'Nresblock':0,\n",
        "        # 'Nsd':0,\n",
        "        # 'Wthreshold':np.log(0.2+1e-02)/2.5+1,\n",
        "        # 'ethreshold':0.0,\n",
        "        'weightstd':0.01,\n",
        "        'NphoScale':10000,\n",
        "        # 'Nfcnodes':128,\n",
        "        'Nepoch':2000,\n",
        "        # 'learning_rate':0.0000001,# for lr_test\n",
        "        # 'LRgamma':10,# for lr_test\n",
        "        # 'stepsize_lr':1, # for lr_test\n",
        "        \"LRtype\":\"Step\",\n",
        "        'learning_rate':0.01,\n",
        "        # 'LRgamma':0.3,\n",
        "        # 'LRgamma':0.5,\n",
        "        'LRgamma':0.995,\n",
        "        'milestones':[200,500,2000,5000,20000],\n",
        "        # \"LRtype\":\"MStep\",\n",
        "        # \"LRtype\":\"Cyclic\",\n",
        "        # \"LRtype\":\"CosA\",\n",
        "        # \"LRtype\":\"CosExp\",\n",
        "        'stepsize_lr':1,\n",
        "        'stepsize_lr_down':29,\n",
        "        \n",
        "        'base_lr':0.000001,\n",
        "        'Erange':[15,20],\n",
        "        'Urange':[-8,8],\n",
        "        'Vrange':[-25,-5],\n",
        "        'Wrange':[3,8],\n",
        "        \"run_train\":353640\n",
        "        # 'max_lr':0.005,\n",
        "        \n",
        "        # 'UseLPF':False,\n",
        "        # 'DoBlind':False\n",
        "}\n",
        "experiment.log_parameters(params)"
      ],
      "execution_count": 5,
      "outputs": [
        {
          "output_type": "stream",
          "text": [
            "COMET INFO: Experiment is live on comet.ml https://www.comet.ml/satoruk-icepp/enereg/f7c138a4f8f044798818e579e9ac0c55\n",
            "\n"
          ],
          "name": "stderr"
        }
      ]
    },
    {
      "cell_type": "code",
      "metadata": {
        "id": "xm-Z0b5b6mZl",
        "colab_type": "code",
        "colab": {}
      },
      "source": [
        "import uproot\n",
        "file = uproot.open(\"/content/drive/My Drive/MEG2CW/Gamma%d.root\"%(params[\"run_train\"]))\n",
        "tout = file[\"tGamma\"]"
      ],
      "execution_count": 0,
      "outputs": []
    },
    {
      "cell_type": "code",
      "metadata": {
        "id": "ZgutWV7coAxi",
        "colab_type": "code",
        "colab": {}
      },
      "source": [
        "del file"
      ],
      "execution_count": 0,
      "outputs": []
    },
    {
      "cell_type": "code",
      "metadata": {
        "id": "4BKJaxNP8eZ2",
        "colab_type": "code",
        "outputId": "864c73fe-b8c9-4d9d-f47d-f66859fe3d38",
        "colab": {
          "base_uri": "https://localhost:8080/",
          "height": 170
        }
      },
      "source": [
        "tout.keys()"
      ],
      "execution_count": 8,
      "outputs": [
        {
          "output_type": "execute_result",
          "data": {
            "text/plain": [
              "[b'uvw',\n",
              " b'uvwlpf',\n",
              " b'nphoarray',\n",
              " b'qmppcsumwf',\n",
              " b'qpmtsumwf',\n",
              " b'nsum2',\n",
              " b'npmt2',\n",
              " b'ninner2',\n",
              " b'energy']"
            ]
          },
          "metadata": {
            "tags": []
          },
          "execution_count": 8
        }
      ]
    },
    {
      "cell_type": "code",
      "metadata": {
        "id": "UwQgTyjwqITy",
        "colab_type": "code",
        "colab": {
          "base_uri": "https://localhost:8080/",
          "height": 714
        },
        "outputId": "b5f40d58-a086-4754-8c6f-65285ba40d33"
      },
      "source": [
        "uvwlpf = np.empty([0, 3])\n",
        "energy = np.empty([0])\n",
        "npho = np.empty([0,4760])\n",
        "\n",
        "for data in tout.iterate([\"energy\", \"nphoarray\",\"uvwlpf\"], namedecode=\"utf-8\"):\n",
        "    # operate on a batch of data in the loop\n",
        "    # pos_selected = False\n",
        "    # print(data[\"uvwlpf\"][:,2])\n",
        "    indx = (data[\"uvwlpf\"][:,2]>params[\"Wrange\"][0])\\\n",
        "            & (data[\"uvwlpf\"][:,2]<params[\"Wrange\"][1])\\\n",
        "            & (data[\"uvwlpf\"][:,1]>params[\"Vrange\"][0])\\\n",
        "            & (data[\"uvwlpf\"][:,1]<params[\"Vrange\"][1])\\\n",
        "            & (data[\"uvwlpf\"][:,0]>params[\"Urange\"][0])\\\n",
        "            & (data[\"uvwlpf\"][:,0]<params[\"Urange\"][1])\n",
        "    \n",
        "    uvwlpf = np.append(uvwlpf,data[\"uvwlpf\"][indx],axis=0)\n",
        "    energy = np.append(energy,data[\"energy\"][indx],axis=0)\n",
        "    npho   = np.append(npho,data[\"nphoarray\"][indx]  ,axis=0)\n"
      ],
      "execution_count": 9,
      "outputs": [
        {
          "output_type": "stream",
          "text": [
            "317\n",
            "431\n",
            "895\n",
            "1368\n",
            "1883\n",
            "2408\n",
            "2865\n",
            "3332\n",
            "3795\n",
            "4335\n",
            "4833\n",
            "5297\n",
            "5801\n",
            "6285\n",
            "6755\n",
            "7221\n",
            "7731\n",
            "8234\n",
            "8738\n",
            "9226\n",
            "9753\n",
            "10222\n",
            "10709\n",
            "11201\n",
            "11695\n",
            "12165\n",
            "12649\n",
            "13131\n",
            "13614\n",
            "14071\n",
            "14542\n",
            "15054\n",
            "15521\n",
            "16009\n",
            "16489\n",
            "16970\n",
            "17463\n",
            "17963\n",
            "18424\n",
            "18907\n",
            "19258\n"
          ],
          "name": "stdout"
        }
      ]
    },
    {
      "cell_type": "code",
      "metadata": {
        "id": "ie1nfRymou6j",
        "colab_type": "code",
        "colab": {}
      },
      "source": [
        "npho = npho/params[\"NphoScale\"]\n",
        "data_size = len(energy)"
      ],
      "execution_count": 0,
      "outputs": []
    },
    {
      "cell_type": "code",
      "metadata": {
        "id": "JAt_s84l7g3T",
        "colab_type": "code",
        "colab": {
          "base_uri": "https://localhost:8080/",
          "height": 34
        },
        "outputId": "2b14b531-7bb4-4e4c-b907-cc6cdcb0cc76"
      },
      "source": [
        "energy_train,energy_val,energy_test = np.split(energy,[int(0.6*data_size),int(0.8*data_size)])\n",
        "npho_train,npho_val,npho_test       = np.split(npho  ,[int(0.6*data_size),int(0.8*data_size)])\n",
        "uvwlpf_train,uvwlpf_val,uvwlpf_test = np.split(uvwlpf,[int(0.6*data_size),int(0.8*data_size)])\n",
        "print(len(npho_train),len(npho_val),len(npho_test))\n",
        "indx_ene_train = (energy_train<params[\"Erange\"][1]) & (energy_train>params[\"Erange\"][0])\n",
        "energy_train = energy_train[indx_ene_train]\n",
        "npho_train   = npho_train[indx_ene_train]\n",
        "uvwlpf_train = uvwlpf_train[indx_ene_train]\n",
        "indx_ene_val = (energy_val<params[\"Erange\"][1]) & (energy_val>params[\"Erange\"][0])\n",
        "energy_val = energy_val[indx_ene_val]\n",
        "npho_val   = npho_val[indx_ene_val]\n",
        "uvwlpf_val = uvwlpf_val[indx_ene_val]\n",
        "\n",
        "# len(npho)"
      ],
      "execution_count": 11,
      "outputs": [
        {
          "output_type": "stream",
          "text": [
            "11554 3852 3852\n"
          ],
          "name": "stdout"
        }
      ]
    },
    {
      "cell_type": "code",
      "metadata": {
        "id": "sEu3ygpc9guD",
        "colab_type": "code",
        "outputId": "a99afde2-6ab5-409a-d8ed-2a5b3bec5441",
        "colab": {
          "base_uri": "https://localhost:8080/",
          "height": 612
        }
      },
      "source": [
        "plt.hist2d(uvwlpf[:,0],uvwlpf[:,1],bins=[50,50],range=[[-10,10],[-30,0]])"
      ],
      "execution_count": 12,
      "outputs": [
        {
          "output_type": "execute_result",
          "data": {
            "text/plain": [
              "(array([[0., 0., 0., ..., 0., 0., 0.],\n",
              "        [0., 0., 0., ..., 0., 0., 0.],\n",
              "        [0., 0., 0., ..., 0., 0., 0.],\n",
              "        ...,\n",
              "        [0., 0., 0., ..., 0., 0., 0.],\n",
              "        [0., 0., 0., ..., 0., 0., 0.],\n",
              "        [0., 0., 0., ..., 0., 0., 0.]]),\n",
              " array([-10. ,  -9.6,  -9.2,  -8.8,  -8.4,  -8. ,  -7.6,  -7.2,  -6.8,\n",
              "         -6.4,  -6. ,  -5.6,  -5.2,  -4.8,  -4.4,  -4. ,  -3.6,  -3.2,\n",
              "         -2.8,  -2.4,  -2. ,  -1.6,  -1.2,  -0.8,  -0.4,   0. ,   0.4,\n",
              "          0.8,   1.2,   1.6,   2. ,   2.4,   2.8,   3.2,   3.6,   4. ,\n",
              "          4.4,   4.8,   5.2,   5.6,   6. ,   6.4,   6.8,   7.2,   7.6,\n",
              "          8. ,   8.4,   8.8,   9.2,   9.6,  10. ]),\n",
              " array([-30. , -29.4, -28.8, -28.2, -27.6, -27. , -26.4, -25.8, -25.2,\n",
              "        -24.6, -24. , -23.4, -22.8, -22.2, -21.6, -21. , -20.4, -19.8,\n",
              "        -19.2, -18.6, -18. , -17.4, -16.8, -16.2, -15.6, -15. , -14.4,\n",
              "        -13.8, -13.2, -12.6, -12. , -11.4, -10.8, -10.2,  -9.6,  -9. ,\n",
              "         -8.4,  -7.8,  -7.2,  -6.6,  -6. ,  -5.4,  -4.8,  -4.2,  -3.6,\n",
              "         -3. ,  -2.4,  -1.8,  -1.2,  -0.6,   0. ]),\n",
              " <matplotlib.collections.QuadMesh at 0x7f3a972cb080>)"
            ]
          },
          "metadata": {
            "tags": []
          },
          "execution_count": 12
        },
        {
          "output_type": "display_data",
          "data": {
            "image/png": "[encoded data removed]",
            "text/plain": [
              "<Figure size 432x288 with 1 Axes>"
            ]
          },
          "metadata": {
            "tags": []
          }
        }
      ]
    },
    {
      "cell_type": "code",
      "metadata": {
        "id": "tKc7DF48_2LA",
        "colab_type": "code",
        "outputId": "c315d736-9d88-40cc-bc98-7254ea6914b9",
        "colab": {
          "base_uri": "https://localhost:8080/",
          "height": 285
        }
      },
      "source": [
        "plt.hist(npho.sum(axis=1))\n",
        "print(npho.sum(axis=1).mean())"
      ],
      "execution_count": 13,
      "outputs": [
        {
          "output_type": "stream",
          "text": [
            "8.120239652279647\n"
          ],
          "name": "stdout"
        },
        {
          "output_type": "display_data",
          "data": {
            "image/png": "[encoded data removed]",
            "text/plain": [
              "<Figure size 432x288 with 1 Axes>"
            ]
          },
          "metadata": {
            "tags": []
          }
        }
      ]
    },
    {
      "cell_type": "code",
      "metadata": {
        "id": "y3qsE6nn7gwg",
        "colab_type": "code",
        "outputId": "5e1ba860-0e76-4619-ff59-4cc531dde83c",
        "colab": {
          "base_uri": "https://localhost:8080/",
          "height": 560
        }
      },
      "source": [
        "plt.hist(energy_train,bins=50)"
      ],
      "execution_count": 14,
      "outputs": [
        {
          "output_type": "execute_result",
          "data": {
            "text/plain": [
              "(array([154., 163., 207., 205., 235., 305., 302., 367., 414., 417., 457.,\n",
              "        477., 419., 455., 417., 402., 364., 297., 260., 208., 153., 113.,\n",
              "         80.,  55.,  40.,  26.,  18.,  15.,   6.,   4.,   7.,   5.,   2.,\n",
              "          2.,   2.,   2.,   3.,   0.,   0.,   2.,   0.,   0.,   0.,   0.,\n",
              "          1.,   0.,   0.,   0.,   0.,   2.]),\n",
              " array([15.00007265, 15.09922129, 15.19836994, 15.29751859, 15.39666723,\n",
              "        15.49581588, 15.59496452, 15.69411317, 15.79326181, 15.89241046,\n",
              "        15.9915591 , 16.09070775, 16.1898564 , 16.28900504, 16.38815369,\n",
              "        16.48730233, 16.58645098, 16.68559962, 16.78474827, 16.88389691,\n",
              "        16.98304556, 17.08219421, 17.18134285, 17.2804915 , 17.37964014,\n",
              "        17.47878879, 17.57793743, 17.67708608, 17.77623472, 17.87538337,\n",
              "        17.97453202, 18.07368066, 18.17282931, 18.27197795, 18.3711266 ,\n",
              "        18.47027524, 18.56942389, 18.66857253, 18.76772118, 18.86686983,\n",
              "        18.96601847, 19.06516712, 19.16431576, 19.26346441, 19.36261305,\n",
              "        19.4617617 , 19.56091034, 19.66005899, 19.75920764, 19.85835628,\n",
              "        19.95750493]),\n",
              " <a list of 50 Patch objects>)"
            ]
          },
          "metadata": {
            "tags": []
          },
          "execution_count": 14
        },
        {
          "output_type": "display_data",
          "data": {
            "image/png": "[encoded data removed]",
            "text/plain": [
              "<Figure size 432x288 with 1 Axes>"
            ]
          },
          "metadata": {
            "tags": []
          }
        }
      ]
    },
    {
      "cell_type": "code",
      "metadata": {
        "id": "Y7pHtFtmA__e",
        "colab_type": "code",
        "colab": {}
      },
      "source": [
        "def normal_init(m, mean, std):\n",
        "    if isinstance(m, (nn.Linear, nn.Conv2d, nn.BatchNorm2d, nn.BatchNorm1d)):\n",
        "        m.weight.data.normal_(mean, std)\n",
        "        if m.bias is not None:\n",
        "            if m.bias.data is not None:\n",
        "                m.bias.data.zero_()"
      ],
      "execution_count": 0,
      "outputs": []
    },
    {
      "cell_type": "code",
      "metadata": {
        "id": "CcTbzz3prk9p",
        "colab_type": "code",
        "colab": {}
      },
      "source": [
        "class reg(nn.Module):\n",
        "    def __init__(self,dropout=0):\n",
        "        super(reg,self).__init__()\n",
        "        self.linear = nn.Linear(4760,1,False)\n",
        "        self.dropout = nn.Dropout(dropout);\n",
        "\n",
        "    def forward(self,x):\n",
        "        x = self.linear(self.dropout(x))\n",
        "        return x\n",
        "\n",
        "    def weight_init(self, mean, std):\n",
        "        for m in self._modules:\n",
        "            normal_init(self._modules[m], mean, std)"
      ],
      "execution_count": 0,
      "outputs": []
    },
    {
      "cell_type": "code",
      "metadata": {
        "id": "eW8k8CpynPP_",
        "colab_type": "code",
        "colab": {}
      },
      "source": [
        "# reg = nn.Sequential(nn.Linear(2, 1,False))\n",
        "loss_fn = torch.nn.SmoothL1Loss().to(device)"
      ],
      "execution_count": 0,
      "outputs": []
    },
    {
      "cell_type": "code",
      "metadata": {
        "id": "thqmnBoJpCAs",
        "colab_type": "code",
        "colab": {}
      },
      "source": [
        "model = reg(params[\"dropout_fc\"]).to(device)\n",
        "model.weight_init(mean=1e-04,std=1e-05)\n",
        "opt = optim.Adam(model.parameters(), lr=params[\"learning_rate\"])\n",
        "if params[\"LRtype\"]==\"Cyclic\":\n",
        "    scheduler = CyclicLR(opt, params[\"base_lr\"],params[\"learning_rate\"],\n",
        "                         step_size_up=params[\"stepsize_lr\"],\n",
        "                         step_size_down=params[\"stepsize_lr_down\"],\n",
        "                         cycle_momentum=False,mode=\"exp_range\",gamma = params[\"LRgamma\"])\n",
        "elif params[\"LRtype\"]==\"MStep\":\n",
        "    scheduler = MultiStepLR(opt, milestones=params[\"milestones\"], gamma=params[\"LRgamma\"])\n",
        "elif params[\"LRtype\"]==\"Step\":\n",
        "    scheduler = StepLR(opt,step_size=params[\"stepsize_lr\"],gamma=params[\"LRgamma\"])\n",
        "elif params[\"LRtype\"]==\"CosA\":\n",
        "    scheduler = CosineAnnealingLR(opt,T_max=params[\"stepsize_lr\"],eta_min=params[\"base_lr\"])\n",
        "# elif params[\"LRtype\"]==\"CosExp\":\n",
        "#     scheduler = CosineExpLR(opt,T_max=params[\"stepsize_lr\"],eta_min=params[\"base_lr\"],gamma = params[\"LRgamma\"])"
      ],
      "execution_count": 0,
      "outputs": []
    },
    {
      "cell_type": "code",
      "metadata": {
        "id": "g6RZx2cx9WGZ",
        "colab_type": "code",
        "colab": {}
      },
      "source": [
        "energy_train = torch.tensor(energy_train).float()\n",
        "npho_train = torch.tensor(npho_train).float()\n",
        "energy_val = torch.tensor(energy_val).float()\n",
        "npho_val = torch.tensor(npho_val).float()"
      ],
      "execution_count": 0,
      "outputs": []
    },
    {
      "cell_type": "code",
      "metadata": {
        "id": "FgbWQDcY9mIl",
        "colab_type": "code",
        "colab": {}
      },
      "source": [
        "BATCH_SIZE = params[\"batch_size\"]\n",
        "# BATCH_SIZE = 100\n",
        "# calo_dataset    = utils.TensorDataset(energy,npho)\n",
        "# data_size =  len(calo_dataset)\n",
        "# full_size = int(data_size//1000)*1000\n",
        "# val_size = params[\"val_size\"]\n",
        "# print(data_size)\n",
        "# indx_train = list(range(0,full_size-val_size))\n",
        "# indx_val   = list(range(full_size-val_size,full_size))\n",
        "# train_dataset = Subset(calo_dataset,indx_train)\n",
        "# val_dataset   = Subset(calo_dataset,indx_val)\n",
        "train_dataset = utils.TensorDataset(energy_train,npho_train)\n",
        "val_dataset   = utils.TensorDataset(energy_val,npho_val)\n",
        "# train_dataset = Subset(calo_dataset,list(range(0,params[\"train_size\"])))\n",
        "# val_dataset = Subset(calo_dataset,list(range(params[\"train_size\"],params[\"train_size\"]+params[\"val_size\"])))\n",
        "train_dataloader = torch.utils.data.DataLoader(train_dataset, \n",
        "                                              batch_size=BATCH_SIZE, \n",
        "                                              pin_memory=True, shuffle=True)\n",
        "val_dataloader = torch.utils.data.DataLoader(val_dataset, \n",
        "                                              batch_size=BATCH_SIZE, \n",
        "                                              pin_memory=True, shuffle=True)"
      ],
      "execution_count": 0,
      "outputs": []
    },
    {
      "cell_type": "code",
      "metadata": {
        "id": "Z5PFmnOYncyk",
        "colab_type": "code",
        "outputId": "551c9a22-d67b-4260-a6a1-c00c57683241",
        "colab": {
          "base_uri": "https://localhost:8080/",
          "height": 105
        }
      },
      "source": [
        "# batch_size=10\n",
        "ibatch = 0\n",
        "for i in range(params[\"Nepoch\"]):\n",
        "    with experiment.train():\n",
        "        model.train()\n",
        "        for energy_b,npho_b in train_dataloader:\n",
        "                # moving them to device(for example, cuda-device)\n",
        "            energy_b,npho_b = energy_b.to(device), \\\n",
        "                            npho_b.to(device)\n",
        "        # real_data = sample_real_data(batch_size)\n",
        "            \n",
        "            pred = model(npho_b)\n",
        "            target = (torch.ones(pred.shape[0])*17.6).to(device)\n",
        "            loss        = loss_fn(pred, target)\n",
        "            \n",
        "            opt.zero_grad()\n",
        "            loss.backward()\n",
        "            opt.step()\n",
        "            # if ibatch%10==0: print(ibatch)\n",
        "            ibatch +=1\n",
        "\n",
        "        scheduler.step()\n",
        "        experiment.log_metric(\"loss\", loss.item(),step=i)\n",
        "        experiment.log_metric(\"learning_rate\", scheduler.get_lr(),step=i)\n",
        "\n",
        "    with experiment.test():\n",
        "        model.eval()\n",
        "        for energy_b,npho_b in val_dataloader:\n",
        "                # moving them to device(for example, cuda-device)\n",
        "            energy_b,npho_b = energy_b.to(device), \\\n",
        "                            npho_b.to(device)\n",
        "            pred = model(npho_b)\n",
        "            target = (torch.ones(pred.shape[0])*17.6).to(device)\n",
        "            val_loss        = loss_fn(pred, target)\n",
        "            break\n",
        "        experiment.log_metric(\"loss\", val_loss.item(),step=i)\n",
        "\n",
        "\n",
        "    if i%10==0:\n",
        "        plt.hist(energy_b.cpu().detach().numpy(),bins=50,range=(15,20),histtype='step',fill=False,edgecolor='b',label='nsum2')\n",
        "        plt.hist(pred.cpu().detach().numpy(),bins=50,range=(15,20),histtype='step',fill=False,edgecolor='r',label='pred')\n",
        "        plt.legend(loc=\"upper left\")\n",
        "        experiment.log_figure(figure=plt)\n",
        "        plt.close()\n",
        "        \n",
        "        \n",
        "        \n",
        "# print(loss.item(),pred,model.linear.weight)"
      ],
      "execution_count": 21,
      "outputs": [
        {
          "output_type": "stream",
          "text": [
            "/usr/local/lib/python3.6/dist-packages/torch/nn/modules/loss.py:782: UserWarning: Using a target size (torch.Size([200])) that is different to the input size (torch.Size([200, 1])). This will likely lead to incorrect results due to broadcasting. Please ensure they have the same size.\n",
            "  return F.smooth_l1_loss(input, target, reduction=self.reduction)\n",
            "/usr/local/lib/python3.6/dist-packages/torch/nn/modules/loss.py:782: UserWarning: Using a target size (torch.Size([63])) that is different to the input size (torch.Size([63, 1])). This will likely lead to incorrect results due to broadcasting. Please ensure they have the same size.\n",
            "  return F.smooth_l1_loss(input, target, reduction=self.reduction)\n"
          ],
          "name": "stderr"
        }
      ]
    },
    {
      "cell_type": "code",
      "metadata": {
        "id": "Qnu46y5an48f",
        "colab_type": "code",
        "colab": {}
      },
      "source": [
        "model.eval()\n",
        "pred_test = model.cpu()(torch.tensor(npho_test).float()).cpu().detach().numpy()\n",
        "# prediction_test = regressor.cpu()(torch.tensor(EnergyDeposit_test).float())"
      ],
      "execution_count": 0,
      "outputs": []
    },
    {
      "cell_type": "code",
      "metadata": {
        "id": "XlnBlHQDTbRp",
        "colab_type": "code",
        "outputId": "e9d562d5-6996-42e1-f4eb-3ab4b643700e",
        "colab": {
          "base_uri": "https://localhost:8080/",
          "height": 625
        }
      },
      "source": [
        "# indx_w = (uvwlpf[:,2]>2)&(uvwlpf[:,2]<5)&(uvwlpf[:,1]>-20)&(uvwlpf[:,1]<-10)\n",
        "# indx_pos = (uvwlpf[:,2]>2) & (uvwlpf[:,2]<10) & (uvwlpf[:,1]<-10) & (uvwlpf[:,1]>-20) & (uvwlpf[:,0]>-5) & (uvwlpf[:,0]<5)\n",
        "n,bins,_ = plt.hist(pred_test,range=(0,20),bins=100,histtype='step',fill=False,edgecolor='r',label='pred')\n",
        "plt.hist(energy_test,range=(0,20),bins=100,histtype='step',fill=False,edgecolor='b',label='raw')"
      ],
      "execution_count": 23,
      "outputs": [
        {
          "output_type": "execute_result",
          "data": {
            "text/plain": [
              "(array([  0.,   0.,   0.,   0.,   0.,   0.,   0.,   0.,   0.,   0.,   0.,\n",
              "          0.,   0.,   0.,   0.,   0.,   0.,   0.,   1.,   0.,   0.,   0.,\n",
              "          0.,   0.,   0.,   0.,   0.,   0.,   0.,   1.,   1.,   0.,   0.,\n",
              "          0.,   0.,   1.,   0.,   0.,   0.,   0.,   0.,   0.,   0.,   0.,\n",
              "          0.,   0.,   0.,   0.,   1.,   1.,   4.,   3.,   5.,  12.,  21.,\n",
              "         25.,  30.,  29.,  31.,  47.,  39.,  51.,  65.,  76.,  88.,  93.,\n",
              "        102., 112., 112., 124., 108.,  99.,  89.,  84.,  95., 105., 120.,\n",
              "        166., 214., 261., 296., 298., 305., 197., 136.,  84.,  56.,  32.,\n",
              "         11.,   3.,   4.,   1.,   1.,   0.,   0.,   1.,   0.,   0.,   0.,\n",
              "          0.]),\n",
              " array([ 0. ,  0.2,  0.4,  0.6,  0.8,  1. ,  1.2,  1.4,  1.6,  1.8,  2. ,\n",
              "         2.2,  2.4,  2.6,  2.8,  3. ,  3.2,  3.4,  3.6,  3.8,  4. ,  4.2,\n",
              "         4.4,  4.6,  4.8,  5. ,  5.2,  5.4,  5.6,  5.8,  6. ,  6.2,  6.4,\n",
              "         6.6,  6.8,  7. ,  7.2,  7.4,  7.6,  7.8,  8. ,  8.2,  8.4,  8.6,\n",
              "         8.8,  9. ,  9.2,  9.4,  9.6,  9.8, 10. , 10.2, 10.4, 10.6, 10.8,\n",
              "        11. , 11.2, 11.4, 11.6, 11.8, 12. , 12.2, 12.4, 12.6, 12.8, 13. ,\n",
              "        13.2, 13.4, 13.6, 13.8, 14. , 14.2, 14.4, 14.6, 14.8, 15. , 15.2,\n",
              "        15.4, 15.6, 15.8, 16. , 16.2, 16.4, 16.6, 16.8, 17. , 17.2, 17.4,\n",
              "        17.6, 17.8, 18. , 18.2, 18.4, 18.6, 18.8, 19. , 19.2, 19.4, 19.6,\n",
              "        19.8, 20. ]),\n",
              " <a list of 1 Patch objects>)"
            ]
          },
          "metadata": {
            "tags": []
          },
          "execution_count": 23
        },
        {
          "output_type": "display_data",
          "data": {
            "image/png": "[encoded data removed]",
            "text/plain": [
              "<Figure size 432x288 with 1 Axes>"
            ]
          },
          "metadata": {
            "tags": []
          }
        }
      ]
    },
    {
      "cell_type": "code",
      "metadata": {
        "id": "zYBeXn9Yvi6F",
        "colab_type": "code",
        "colab": {}
      },
      "source": [
        "# Fit functions\n",
        "def Gaussian(x,a,b,c):\n",
        "    return a * np.exp(-(x - b)**2.0 / (2 * c**2))"
      ],
      "execution_count": 0,
      "outputs": []
    },
    {
      "cell_type": "code",
      "metadata": {
        "id": "F4a0Ty6qvmHo",
        "colab_type": "code",
        "colab": {
          "base_uri": "https://localhost:8080/",
          "height": 438
        },
        "outputId": "9dbb0250-dd05-4011-8fd3-a3e37eef5a33"
      },
      "source": [
        "from scipy.optimize import curve_fit\n",
        "binscenters = np.array([0.5 * (bins[i] + bins[i+1]) for i in range(len(bins)-1)])\n",
        "# popt, pcov = curve_fit(Gaussian,binscenters,n,bounds=(15,20)) \n",
        "indx_bin = binscenters>17.2\n",
        "# indx_bin = binscenters>0\n",
        "print(indx_bin)\n",
        "binscenters_fit = binscenters[indx_bin]\n",
        "n_fit = n[indx_bin]\n",
        "plt.plot(binscenters_fit,n_fit)\n",
        "popt, pcov = curve_fit(Gaussian,binscenters_fit,n_fit,bounds = ((10,16,0),(1e6,18,3))) \n",
        "print(popt)"
      ],
      "execution_count": 25,
      "outputs": [
        {
          "output_type": "stream",
          "text": [
            "[False False False False False False False False False False False False\n",
            " False False False False False False False False False False False False\n",
            " False False False False False False False False False False False False\n",
            " False False False False False False False False False False False False\n",
            " False False False False False False False False False False False False\n",
            " False False False False False False False False False False False False\n",
            " False False False False False False False False False False False False\n",
            " False False  True  True  True  True  True  True  True  True  True  True\n",
            "  True  True  True  True]\n",
            "[351.66222749  17.66865088   0.47611007]\n"
          ],
          "name": "stdout"
        },
        {
          "output_type": "display_data",
          "data": {
            "image/png": "[encoded data removed]",
            "text/plain": [
              "<Figure size 432x288 with 1 Axes>"
            ]
          },
          "metadata": {
            "tags": []
          }
        }
      ]
    },
    {
      "cell_type": "code",
      "metadata": {
        "id": "rPeIcG_pvpG1",
        "colab_type": "code",
        "colab": {
          "base_uri": "https://localhost:8080/",
          "height": 285
        },
        "outputId": "9f522354-95fa-4c77-a626-bda746bf646a"
      },
      "source": [
        "plt.hist(pred_test,range=(0,20),bins=100,histtype='step',fill=False,edgecolor='r',label='pred')\n",
        "plt.plot(binscenters, Gaussian(binscenters, *popt), color='darkorange', linewidth=2.5, label=r'Fitted function')"
      ],
      "execution_count": 26,
      "outputs": [
        {
          "output_type": "execute_result",
          "data": {
            "text/plain": [
              "[<matplotlib.lines.Line2D at 0x7f3a053ed2e8>]"
            ]
          },
          "metadata": {
            "tags": []
          },
          "execution_count": 26
        },
        {
          "output_type": "display_data",
          "data": {
            "image/png": "[encoded data removed]",
            "text/plain": [
              "<Figure size 432x288 with 1 Axes>"
            ]
          },
          "metadata": {
            "tags": []
          }
        }
      ]
    },
    {
      "cell_type": "code",
      "metadata": {
        "id": "q4X6Pc82TmiX",
        "colab_type": "code",
        "outputId": "8e4ecad8-7605-4121-baf9-de57b3260e08",
        "colab": {
          "base_uri": "https://localhost:8080/",
          "height": 765
        }
      },
      "source": [
        "print(uvwlpf[:,2].shape)\n",
        "from matplotlib.colors import LogNorm\n",
        "plt.hist2d(uvwlpf_test[:,2],pred_test[:,0],range=[[0,20],[0,20]],bins=[100,100],norm=LogNorm())\n",
        "# plt.hist2d(uvwlpf[:,2],pred_test[:,0].cpu().detach().numpy(),range=[[0,20],[0,20]],bins=[100,100])"
      ],
      "execution_count": 27,
      "outputs": [
        {
          "output_type": "stream",
          "text": [
            "(19258,)\n"
          ],
          "name": "stdout"
        },
        {
          "output_type": "execute_result",
          "data": {
            "text/plain": [
              "(array([[0., 0., 0., ..., 0., 0., 0.],\n",
              "        [0., 0., 0., ..., 0., 0., 0.],\n",
              "        [0., 0., 0., ..., 0., 0., 0.],\n",
              "        ...,\n",
              "        [0., 0., 0., ..., 0., 0., 0.],\n",
              "        [0., 0., 0., ..., 0., 0., 0.],\n",
              "        [0., 0., 0., ..., 0., 0., 0.]]),\n",
              " array([ 0. ,  0.2,  0.4,  0.6,  0.8,  1. ,  1.2,  1.4,  1.6,  1.8,  2. ,\n",
              "         2.2,  2.4,  2.6,  2.8,  3. ,  3.2,  3.4,  3.6,  3.8,  4. ,  4.2,\n",
              "         4.4,  4.6,  4.8,  5. ,  5.2,  5.4,  5.6,  5.8,  6. ,  6.2,  6.4,\n",
              "         6.6,  6.8,  7. ,  7.2,  7.4,  7.6,  7.8,  8. ,  8.2,  8.4,  8.6,\n",
              "         8.8,  9. ,  9.2,  9.4,  9.6,  9.8, 10. , 10.2, 10.4, 10.6, 10.8,\n",
              "        11. , 11.2, 11.4, 11.6, 11.8, 12. , 12.2, 12.4, 12.6, 12.8, 13. ,\n",
              "        13.2, 13.4, 13.6, 13.8, 14. , 14.2, 14.4, 14.6, 14.8, 15. , 15.2,\n",
              "        15.4, 15.6, 15.8, 16. , 16.2, 16.4, 16.6, 16.8, 17. , 17.2, 17.4,\n",
              "        17.6, 17.8, 18. , 18.2, 18.4, 18.6, 18.8, 19. , 19.2, 19.4, 19.6,\n",
              "        19.8, 20. ]),\n",
              " array([ 0. ,  0.2,  0.4,  0.6,  0.8,  1. ,  1.2,  1.4,  1.6,  1.8,  2. ,\n",
              "         2.2,  2.4,  2.6,  2.8,  3. ,  3.2,  3.4,  3.6,  3.8,  4. ,  4.2,\n",
              "         4.4,  4.6,  4.8,  5. ,  5.2,  5.4,  5.6,  5.8,  6. ,  6.2,  6.4,\n",
              "         6.6,  6.8,  7. ,  7.2,  7.4,  7.6,  7.8,  8. ,  8.2,  8.4,  8.6,\n",
              "         8.8,  9. ,  9.2,  9.4,  9.6,  9.8, 10. , 10.2, 10.4, 10.6, 10.8,\n",
              "        11. , 11.2, 11.4, 11.6, 11.8, 12. , 12.2, 12.4, 12.6, 12.8, 13. ,\n",
              "        13.2, 13.4, 13.6, 13.8, 14. , 14.2, 14.4, 14.6, 14.8, 15. , 15.2,\n",
              "        15.4, 15.6, 15.8, 16. , 16.2, 16.4, 16.6, 16.8, 17. , 17.2, 17.4,\n",
              "        17.6, 17.8, 18. , 18.2, 18.4, 18.6, 18.8, 19. , 19.2, 19.4, 19.6,\n",
              "        19.8, 20. ]),\n",
              " <matplotlib.collections.QuadMesh at 0x7f3a0528edd8>)"
            ]
          },
          "metadata": {
            "tags": []
          },
          "execution_count": 27
        },
        {
          "output_type": "display_data",
          "data": {
            "image/png": "[encoded data removed]",
            "text/plain": [
              "<Figure size 432x288 with 1 Axes>"
            ]
          },
          "metadata": {
            "tags": []
          }
        }
      ]
    },
    {
      "cell_type": "code",
      "metadata": {
        "id": "5DbX138wt2Yf",
        "colab_type": "code",
        "outputId": "2b81d28b-578a-4afa-b377-fdeb71bc068e",
        "colab": {
          "base_uri": "https://localhost:8080/",
          "height": 782
        }
      },
      "source": [
        "plt.hist2d(uvwlpf_test[:,1],pred_test[:,0],range=[[-40,0],[0,20]],bins=[100,100],norm=LogNorm())"
      ],
      "execution_count": 28,
      "outputs": [
        {
          "output_type": "execute_result",
          "data": {
            "text/plain": [
              "(array([[0., 0., 0., ..., 0., 0., 0.],\n",
              "        [0., 0., 0., ..., 0., 0., 0.],\n",
              "        [0., 0., 0., ..., 0., 0., 0.],\n",
              "        ...,\n",
              "        [0., 0., 0., ..., 0., 0., 0.],\n",
              "        [0., 0., 0., ..., 0., 0., 0.],\n",
              "        [0., 0., 0., ..., 0., 0., 0.]]),\n",
              " array([-40. , -39.6, -39.2, -38.8, -38.4, -38. , -37.6, -37.2, -36.8,\n",
              "        -36.4, -36. , -35.6, -35.2, -34.8, -34.4, -34. , -33.6, -33.2,\n",
              "        -32.8, -32.4, -32. , -31.6, -31.2, -30.8, -30.4, -30. , -29.6,\n",
              "        -29.2, -28.8, -28.4, -28. , -27.6, -27.2, -26.8, -26.4, -26. ,\n",
              "        -25.6, -25.2, -24.8, -24.4, -24. , -23.6, -23.2, -22.8, -22.4,\n",
              "        -22. , -21.6, -21.2, -20.8, -20.4, -20. , -19.6, -19.2, -18.8,\n",
              "        -18.4, -18. , -17.6, -17.2, -16.8, -16.4, -16. , -15.6, -15.2,\n",
              "        -14.8, -14.4, -14. , -13.6, -13.2, -12.8, -12.4, -12. , -11.6,\n",
              "        -11.2, -10.8, -10.4, -10. ,  -9.6,  -9.2,  -8.8,  -8.4,  -8. ,\n",
              "         -7.6,  -7.2,  -6.8,  -6.4,  -6. ,  -5.6,  -5.2,  -4.8,  -4.4,\n",
              "         -4. ,  -3.6,  -3.2,  -2.8,  -2.4,  -2. ,  -1.6,  -1.2,  -0.8,\n",
              "         -0.4,   0. ]),\n",
              " array([ 0. ,  0.2,  0.4,  0.6,  0.8,  1. ,  1.2,  1.4,  1.6,  1.8,  2. ,\n",
              "         2.2,  2.4,  2.6,  2.8,  3. ,  3.2,  3.4,  3.6,  3.8,  4. ,  4.2,\n",
              "         4.4,  4.6,  4.8,  5. ,  5.2,  5.4,  5.6,  5.8,  6. ,  6.2,  6.4,\n",
              "         6.6,  6.8,  7. ,  7.2,  7.4,  7.6,  7.8,  8. ,  8.2,  8.4,  8.6,\n",
              "         8.8,  9. ,  9.2,  9.4,  9.6,  9.8, 10. , 10.2, 10.4, 10.6, 10.8,\n",
              "        11. , 11.2, 11.4, 11.6, 11.8, 12. , 12.2, 12.4, 12.6, 12.8, 13. ,\n",
              "        13.2, 13.4, 13.6, 13.8, 14. , 14.2, 14.4, 14.6, 14.8, 15. , 15.2,\n",
              "        15.4, 15.6, 15.8, 16. , 16.2, 16.4, 16.6, 16.8, 17. , 17.2, 17.4,\n",
              "        17.6, 17.8, 18. , 18.2, 18.4, 18.6, 18.8, 19. , 19.2, 19.4, 19.6,\n",
              "        19.8, 20. ]),\n",
              " <matplotlib.collections.QuadMesh at 0x7f3a05266fd0>)"
            ]
          },
          "metadata": {
            "tags": []
          },
          "execution_count": 28
        },
        {
          "output_type": "display_data",
          "data": {
            "image/png": "[encoded data removed]",
            "text/plain": [
              "<Figure size 432x288 with 1 Axes>"
            ]
          },
          "metadata": {
            "tags": []
          }
        }
      ]
    },
    {
      "cell_type": "code",
      "metadata": {
        "id": "JBq1dShot_Y_",
        "colab_type": "code",
        "outputId": "56110d29-d018-4d4d-cc6d-34bfb2b8596e",
        "colab": {
          "base_uri": "https://localhost:8080/",
          "height": 782
        }
      },
      "source": [
        "plt.hist2d(uvwlpf_test[:,0],pred_test[:,0],range=[[-10,10],[0,20]],bins=[100,100],norm=LogNorm())"
      ],
      "execution_count": 29,
      "outputs": [
        {
          "output_type": "execute_result",
          "data": {
            "text/plain": [
              "(array([[0., 0., 0., ..., 0., 0., 0.],\n",
              "        [0., 0., 0., ..., 0., 0., 0.],\n",
              "        [0., 0., 0., ..., 0., 0., 0.],\n",
              "        ...,\n",
              "        [0., 0., 0., ..., 0., 0., 0.],\n",
              "        [0., 0., 0., ..., 0., 0., 0.],\n",
              "        [0., 0., 0., ..., 0., 0., 0.]]),\n",
              " array([-10. ,  -9.8,  -9.6,  -9.4,  -9.2,  -9. ,  -8.8,  -8.6,  -8.4,\n",
              "         -8.2,  -8. ,  -7.8,  -7.6,  -7.4,  -7.2,  -7. ,  -6.8,  -6.6,\n",
              "         -6.4,  -6.2,  -6. ,  -5.8,  -5.6,  -5.4,  -5.2,  -5. ,  -4.8,\n",
              "         -4.6,  -4.4,  -4.2,  -4. ,  -3.8,  -3.6,  -3.4,  -3.2,  -3. ,\n",
              "         -2.8,  -2.6,  -2.4,  -2.2,  -2. ,  -1.8,  -1.6,  -1.4,  -1.2,\n",
              "         -1. ,  -0.8,  -0.6,  -0.4,  -0.2,   0. ,   0.2,   0.4,   0.6,\n",
              "          0.8,   1. ,   1.2,   1.4,   1.6,   1.8,   2. ,   2.2,   2.4,\n",
              "          2.6,   2.8,   3. ,   3.2,   3.4,   3.6,   3.8,   4. ,   4.2,\n",
              "          4.4,   4.6,   4.8,   5. ,   5.2,   5.4,   5.6,   5.8,   6. ,\n",
              "          6.2,   6.4,   6.6,   6.8,   7. ,   7.2,   7.4,   7.6,   7.8,\n",
              "          8. ,   8.2,   8.4,   8.6,   8.8,   9. ,   9.2,   9.4,   9.6,\n",
              "          9.8,  10. ]),\n",
              " array([ 0. ,  0.2,  0.4,  0.6,  0.8,  1. ,  1.2,  1.4,  1.6,  1.8,  2. ,\n",
              "         2.2,  2.4,  2.6,  2.8,  3. ,  3.2,  3.4,  3.6,  3.8,  4. ,  4.2,\n",
              "         4.4,  4.6,  4.8,  5. ,  5.2,  5.4,  5.6,  5.8,  6. ,  6.2,  6.4,\n",
              "         6.6,  6.8,  7. ,  7.2,  7.4,  7.6,  7.8,  8. ,  8.2,  8.4,  8.6,\n",
              "         8.8,  9. ,  9.2,  9.4,  9.6,  9.8, 10. , 10.2, 10.4, 10.6, 10.8,\n",
              "        11. , 11.2, 11.4, 11.6, 11.8, 12. , 12.2, 12.4, 12.6, 12.8, 13. ,\n",
              "        13.2, 13.4, 13.6, 13.8, 14. , 14.2, 14.4, 14.6, 14.8, 15. , 15.2,\n",
              "        15.4, 15.6, 15.8, 16. , 16.2, 16.4, 16.6, 16.8, 17. , 17.2, 17.4,\n",
              "        17.6, 17.8, 18. , 18.2, 18.4, 18.6, 18.8, 19. , 19.2, 19.4, 19.6,\n",
              "        19.8, 20. ]),\n",
              " <matplotlib.collections.QuadMesh at 0x7f3a051c7278>)"
            ]
          },
          "metadata": {
            "tags": []
          },
          "execution_count": 29
        },
        {
          "output_type": "display_data",
          "data": {
            "image/png": "[encoded data removed]",
            "text/plain": [
              "<Figure size 432x288 with 1 Axes>"
            ]
          },
          "metadata": {
            "tags": []
          }
        }
      ]
    },
    {
      "cell_type": "code",
      "metadata": {
        "id": "eNf1KR0ZXqoY",
        "colab_type": "code",
        "outputId": "c4e26af4-0d59-4565-e6a6-4f22b19d324b",
        "colab": {
          "base_uri": "https://localhost:8080/",
          "height": 164
        }
      },
      "source": [
        "plt.hist2d(uvwlpf[:,2],energy_raw,range=[[0,40],[0,20]],bins=[100,100])"
      ],
      "execution_count": 30,
      "outputs": [
        {
          "output_type": "error",
          "ename": "NameError",
          "evalue": "ignored",
          "traceback": [
            "\u001b[0;31m---------------------------------------------------------------------------\u001b[0m",
            "\u001b[0;31mNameError\u001b[0m                                 Traceback (most recent call last)",
            "\u001b[0;32m<ipython-input-30-32897e5b536d>\u001b[0m in \u001b[0;36m<module>\u001b[0;34m()\u001b[0m\n\u001b[0;32m----> 1\u001b[0;31m \u001b[0mplt\u001b[0m\u001b[0;34m.\u001b[0m\u001b[0mhist2d\u001b[0m\u001b[0;34m(\u001b[0m\u001b[0muvwlpf\u001b[0m\u001b[0;34m[\u001b[0m\u001b[0;34m:\u001b[0m\u001b[0;34m,\u001b[0m\u001b[0;36m2\u001b[0m\u001b[0;34m]\u001b[0m\u001b[0;34m,\u001b[0m\u001b[0menergy_raw\u001b[0m\u001b[0;34m,\u001b[0m\u001b[0mrange\u001b[0m\u001b[0;34m=\u001b[0m\u001b[0;34m[\u001b[0m\u001b[0;34m[\u001b[0m\u001b[0;36m0\u001b[0m\u001b[0;34m,\u001b[0m\u001b[0;36m40\u001b[0m\u001b[0;34m]\u001b[0m\u001b[0;34m,\u001b[0m\u001b[0;34m[\u001b[0m\u001b[0;36m0\u001b[0m\u001b[0;34m,\u001b[0m\u001b[0;36m20\u001b[0m\u001b[0;34m]\u001b[0m\u001b[0;34m]\u001b[0m\u001b[0;34m,\u001b[0m\u001b[0mbins\u001b[0m\u001b[0;34m=\u001b[0m\u001b[0;34m[\u001b[0m\u001b[0;36m100\u001b[0m\u001b[0;34m,\u001b[0m\u001b[0;36m100\u001b[0m\u001b[0;34m]\u001b[0m\u001b[0;34m)\u001b[0m\u001b[0;34m\u001b[0m\u001b[0;34m\u001b[0m\u001b[0m\n\u001b[0m",
            "\u001b[0;31mNameError\u001b[0m: name 'energy_raw' is not defined"
          ]
        }
      ]
    },
    {
      "cell_type": "code",
      "metadata": {
        "id": "NPTEOXrFnvbc",
        "colab_type": "code",
        "colab": {}
      },
      "source": [
        "x = [i for i in range(4760)]\n",
        "# v = []\n",
        "print(model.linear.weight.cpu().detach().numpy())\n",
        "# for param in model.parameters():\n",
        "    # v.append(param.data[0])\n",
        "\n",
        "# plt.scatter(x,model.linear.weight.cpu().detach().numpy(),vmin=-0.001,vmax=0.001,c=\"r\")\n",
        "plt.hist(model.linear.weight[0].cpu().detach().numpy(),range=(0,4e-4),bins=80)\n",
        "    # for weight in param.data[0]:\n",
        "    #     print(weight)"
      ],
      "execution_count": 0,
      "outputs": []
    },
    {
      "cell_type": "code",
      "metadata": {
        "id": "zhXWq02bwRJJ",
        "colab_type": "code",
        "colab": {}
      },
      "source": [
        "file_uslit = uproot.open(\"/content/drive/My Drive/MEG2CW/Gamma330471.root\")\n",
        "tout_uslit = file_uslit[\"tGamma\"]"
      ],
      "execution_count": 0,
      "outputs": []
    },
    {
      "cell_type": "code",
      "metadata": {
        "id": "S9T4MxO6cJWk",
        "colab_type": "code",
        "colab": {}
      },
      "source": [
        "energy_uslit = tout_uslit.array(\"energy\")\n",
        "npho_uslit = tout_uslit.array(\"nphoarray\")\n",
        "uvwlpf_uslit = tout_uslit.array(\"uvwlpf\")\n",
        "\n",
        "npho_uslit = npho_uslit/params[\"NphoScale\"]"
      ],
      "execution_count": 0,
      "outputs": []
    },
    {
      "cell_type": "code",
      "metadata": {
        "id": "L0fSAs_zfLLC",
        "colab_type": "code",
        "colab": {}
      },
      "source": [
        "del npho_raw\n",
        "del npho\n",
        "del tout\n",
        "del calo_dataset\n",
        "del file"
      ],
      "execution_count": 0,
      "outputs": []
    },
    {
      "cell_type": "code",
      "metadata": {
        "id": "d8FMe1RYfzfA",
        "colab_type": "code",
        "colab": {}
      },
      "source": [
        ""
      ],
      "execution_count": 0,
      "outputs": []
    },
    {
      "cell_type": "code",
      "metadata": {
        "id": "akgeJQKQ8kKG",
        "colab_type": "code",
        "colab": {}
      },
      "source": [
        "indx_pos_uslit =(uvwlpf_uslit[:,2]>params[\"Wrange\"][0])\\\n",
        "& (uvwlpf_uslit[:,2]<params[\"Wrange\"][1]) \\\n",
        "& (uvwlpf_uslit[:,1]>params[\"Vrange\"][0])\\\n",
        "& (uvwlpf_uslit[:,1]<params[\"Vrange\"][1])\\\n",
        "& (uvwlpf_uslit[:,0]>params[\"Urange\"][0])\\\n",
        "& (uvwlpf_uslit[:,0]<params[\"Urange\"][1])"
      ],
      "execution_count": 0,
      "outputs": []
    },
    {
      "cell_type": "code",
      "metadata": {
        "id": "41VjYOhtg4Rq",
        "colab_type": "code",
        "colab": {}
      },
      "source": [
        "pred_uslit = model.cpu()(torch.tensor(npho_uslit).float()).cpu().detach().numpy()"
      ],
      "execution_count": 0,
      "outputs": []
    },
    {
      "cell_type": "code",
      "metadata": {
        "id": "-yMbjgEdg9KP",
        "colab_type": "code",
        "colab": {}
      },
      "source": [
        "n,bins,_ = plt.hist(pred_uslit[indx_pos_uslit],range=(0,20),bins=100,histtype='step',fill=False,edgecolor='r',label='pred')\n",
        "plt.hist(energy_uslit[indx_pos_uslit],range=(0,20),bins=100,histtype='step',fill=False,edgecolor='b',label='pred')"
      ],
      "execution_count": 0,
      "outputs": []
    },
    {
      "cell_type": "code",
      "metadata": {
        "id": "MTQZPA1ahCf0",
        "colab_type": "code",
        "colab": {}
      },
      "source": [
        "# Fit functions\n",
        "def Gaussian(x,a,b,c):\n",
        "    return a * np.exp(-(x - b)**2.0 / (2 * c**2))"
      ],
      "execution_count": 0,
      "outputs": []
    },
    {
      "cell_type": "code",
      "metadata": {
        "id": "XXthXcq4jFdF",
        "colab_type": "code",
        "colab": {}
      },
      "source": [
        "from scipy.optimize import curve_fit\n",
        "binscenters = np.array([0.5 * (bins[i] + bins[i+1]) for i in range(len(bins)-1)])\n",
        "# popt, pcov = curve_fit(Gaussian,binscenters,n,bounds=(15,20)) \n",
        "indx_bin = binscenters>17\n",
        "# indx_bin = binscenters>0\n",
        "print(indx_bin)\n",
        "binscenters_fit = binscenters[indx_bin]\n",
        "n_fit = n[indx_bin]\n",
        "plt.plot(binscenters_fit,n_fit)\n",
        "popt, pcov = curve_fit(Gaussian,binscenters_fit,n_fit,bounds = ((10,16,0),(1e6,18,3))) \n",
        "print(popt)"
      ],
      "execution_count": 0,
      "outputs": []
    },
    {
      "cell_type": "code",
      "metadata": {
        "id": "ZktU4nIBknyS",
        "colab_type": "code",
        "colab": {}
      },
      "source": [
        "plt.hist(pred_uslit[indx_pos_uslit],range=(0,20),bins=100,histtype='step',fill=False,edgecolor='r',label='pred')\n",
        "plt.plot(binscenters, Gaussian(binscenters, *popt), color='darkorange', linewidth=2.5, label=r'Fitted function')"
      ],
      "execution_count": 0,
      "outputs": []
    },
    {
      "cell_type": "code",
      "metadata": {
        "id": "K6jZlgK8lODm",
        "colab_type": "code",
        "colab": {}
      },
      "source": [
        "plt.hist2d(uvwlpf_uslit[:,2],pred_uslit[:,0],range=[[0,40],[16,20]],bins=[100,100],norm=LogNorm())\n",
        "# print(pred_uslit.shape)\n",
        "# plt.hist2d(pred_uslit,pred_uslit,range=[[0,40],[0,20]],bins=[100,100])"
      ],
      "execution_count": 0,
      "outputs": []
    },
    {
      "cell_type": "code",
      "metadata": {
        "id": "qaewwQhr3I5k",
        "colab_type": "code",
        "colab": {}
      },
      "source": [
        ""
      ],
      "execution_count": 0,
      "outputs": []
    }
  ]
}